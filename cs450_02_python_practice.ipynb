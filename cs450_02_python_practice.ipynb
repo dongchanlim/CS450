{
  "nbformat": 4,
  "nbformat_minor": 0,
  "metadata": {
    "kernelspec": {
      "display_name": "Python 3",
      "language": "python",
      "name": "python3"
    },
    "language_info": {
      "codemirror_mode": {
        "name": "ipython",
        "version": 3
      },
      "file_extension": ".py",
      "mimetype": "text/x-python",
      "name": "python",
      "nbconvert_exporter": "python",
      "pygments_lexer": "ipython3",
      "version": "3.7.1"
    },
    "colab": {
      "name": "cs450_02_python_practice.ipynb",
      "provenance": [],
      "collapsed_sections": [],
      "include_colab_link": true
    }
  },
  "cells": [
    {
      "cell_type": "markdown",
      "metadata": {
        "id": "view-in-github",
        "colab_type": "text"
      },
      "source": [
        "<a href=\"https://colab.research.google.com/github/dongchanlim/CS450/blob/master/cs450_02_python_practice.ipynb\" target=\"_parent\"><img src=\"https://colab.research.google.com/assets/colab-badge.svg\" alt=\"Open In Colab\"/></a>"
      ]
    },
    {
      "cell_type": "markdown",
      "metadata": {
        "id": "nzey0dTOs9BK",
        "colab_type": "text"
      },
      "source": [
        "### Please use the following variables:\n"
      ]
    },
    {
      "cell_type": "code",
      "metadata": {
        "id": "x8_7suqQs9BL",
        "colab_type": "code",
        "colab": {}
      },
      "source": [
        "import numpy as np\n",
        "\n",
        "x = np.array([3, 6])\n",
        "y = np.array([5, 2])\n",
        "data = np.array([[2, 3], [3, 4], [5, 7], [2, 7], [3, 2], [1, 2], [9, 3], [4, 1]])\n",
        "animals = [\"dog\", \"cat\", \"bird\", \"fish\", \"fish\", \"dog\", \"cat\", \"dog\"]"
      ],
      "execution_count": 0,
      "outputs": []
    },
    {
      "cell_type": "markdown",
      "metadata": {
        "id": "3che2FTZs9BQ",
        "colab_type": "text"
      },
      "source": [
        "### 1. Compute the euclidean distance between two points: `x` and `y`"
      ]
    },
    {
      "cell_type": "code",
      "metadata": {
        "id": "TUSg-Pu0s9BR",
        "colab_type": "code",
        "outputId": "88d73061-b49e-4274-99e5-9a4f192a0d01",
        "colab": {
          "base_uri": "https://localhost:8080/",
          "height": 34
        }
      },
      "source": [
        "np.sqrt((x[0] - y[0]) ** 2 + (x[1] - y[1]) ** 2)"
      ],
      "execution_count": 12,
      "outputs": [
        {
          "output_type": "execute_result",
          "data": {
            "text/plain": [
              "4.47213595499958"
            ]
          },
          "metadata": {
            "tags": []
          },
          "execution_count": 12
        }
      ]
    },
    {
      "cell_type": "markdown",
      "metadata": {
        "id": "nXq6IWIFs9BT",
        "colab_type": "text"
      },
      "source": [
        "### 2. Turn your code into a function that can compute the distance between any two points."
      ]
    },
    {
      "cell_type": "code",
      "metadata": {
        "id": "A44xmhwDs9BU",
        "colab_type": "code",
        "colab": {}
      },
      "source": [
        "def euc_distance(x,y):\n",
        "  return np.sqrt((x[0] - y[0]) ** 2 + (x[1] - y[1]) ** 2)"
      ],
      "execution_count": 0,
      "outputs": []
    },
    {
      "cell_type": "markdown",
      "metadata": {
        "id": "fR2IOPyCs9BW",
        "colab_type": "text"
      },
      "source": [
        "Then verify that your function works by calling it with `x` and `y`"
      ]
    },
    {
      "cell_type": "code",
      "metadata": {
        "id": "ovFXWfiDs9BX",
        "colab_type": "code",
        "outputId": "d40694d8-a089-491b-cd37-8aa02ddd173b",
        "colab": {
          "base_uri": "https://localhost:8080/",
          "height": 34
        }
      },
      "source": [
        "euc_distance(x,y)"
      ],
      "execution_count": 14,
      "outputs": [
        {
          "output_type": "execute_result",
          "data": {
            "text/plain": [
              "4.47213595499958"
            ]
          },
          "metadata": {
            "tags": []
          },
          "execution_count": 14
        }
      ]
    },
    {
      "cell_type": "markdown",
      "metadata": {
        "id": "2f9P4uFDs9BZ",
        "colab_type": "text"
      },
      "source": [
        "### 3. Compute the distance between `x` and every row in the `data` array.\n",
        "\n",
        "Save each of these distances into a new list or numpy array."
      ]
    },
    {
      "cell_type": "code",
      "metadata": {
        "id": "BvkC4Y8Ds9Ba",
        "colab_type": "code",
        "outputId": "57aa8cec-815c-4a75-c027-3c243c789827",
        "colab": {
          "base_uri": "https://localhost:8080/",
          "height": 52
        }
      },
      "source": [
        "data_distance = [euc_distance(x,i) for i in data]\n",
        "\n",
        "data_distance = np.array(data_distance)\n",
        "\n",
        "data_distance"
      ],
      "execution_count": 15,
      "outputs": [
        {
          "output_type": "execute_result",
          "data": {
            "text/plain": [
              "array([3.16227766, 2.        , 2.23606798, 1.41421356, 4.        ,\n",
              "       4.47213595, 6.70820393, 5.09901951])"
            ]
          },
          "metadata": {
            "tags": []
          },
          "execution_count": 15
        }
      ]
    },
    {
      "cell_type": "markdown",
      "metadata": {
        "id": "VgFh2YRys9Bc",
        "colab_type": "text"
      },
      "source": [
        "### 4. Find the smallest two values in the list of distances you created in the last step."
      ]
    },
    {
      "cell_type": "code",
      "metadata": {
        "id": "Gm1jfTKms9Bd",
        "colab_type": "code",
        "outputId": "820f7e07-8e9c-4b62-e8c4-b4b684876977",
        "colab": {
          "base_uri": "https://localhost:8080/",
          "height": 52
        }
      },
      "source": [
        "data_distance_sorted = np.sort(data_distance)\n",
        "\n",
        "print(\"the smallest value: {}\\nthe second smallest value: {}\".format(data_distance_sorted[0], data_distance_sorted[1]))"
      ],
      "execution_count": 16,
      "outputs": [
        {
          "output_type": "stream",
          "text": [
            "the smallest value: 1.4142135623730951\n",
            "the second smallest value: 2.0\n"
          ],
          "name": "stdout"
        }
      ]
    },
    {
      "cell_type": "markdown",
      "metadata": {
        "id": "939DcHDGyfNQ",
        "colab_type": "text"
      },
      "source": [
        ""
      ]
    },
    {
      "cell_type": "markdown",
      "metadata": {
        "id": "d9dalILus9Bg",
        "colab_type": "text"
      },
      "source": [
        "### 5. Find the _indexes_ of the smallest  values in the list of distances\n",
        "\n",
        "(Hint: This is going to be super useful if you want to know not just the smallest distance but also which item corresponded to the smallest distance, so you could get its target value.)"
      ]
    },
    {
      "cell_type": "code",
      "metadata": {
        "id": "gC_AA9zGs9Bh",
        "colab_type": "code",
        "outputId": "716741de-657c-4091-bb24-9efad4eab2f2",
        "colab": {
          "base_uri": "https://localhost:8080/",
          "height": 34
        }
      },
      "source": [
        "\"\"\"\n",
        "smallest = np.where(data_distance == data_distance_sorted[0])[0][0]\n",
        "sec_smallest = np.where(data_distance == data_distance_sorted[1])[0][0]\n",
        "\n",
        "smallest, sec_smallest\n",
        "\"\"\"\n",
        "np.argsort(data_distance)[0]"
      ],
      "execution_count": 17,
      "outputs": [
        {
          "output_type": "execute_result",
          "data": {
            "text/plain": [
              "3"
            ]
          },
          "metadata": {
            "tags": []
          },
          "execution_count": 17
        }
      ]
    },
    {
      "cell_type": "markdown",
      "metadata": {
        "id": "31XaPD8Ms9Bk",
        "colab_type": "text"
      },
      "source": [
        "### 6. Find the animal that occurs most frequently in the `animals` list:"
      ]
    },
    {
      "cell_type": "code",
      "metadata": {
        "id": "3L_4CuMHs9Bl",
        "colab_type": "code",
        "outputId": "5599e802-0e58-4734-a68a-88b718753466",
        "colab": {
          "base_uri": "https://localhost:8080/",
          "height": 34
        }
      },
      "source": [
        "\"\"\"\n",
        "maximum = 0\n",
        "max_index = 0\n",
        "for i in animals:\n",
        "  if animals.count(i) > max:\n",
        "    maximum = animals.count(i)\n",
        "maximum\n",
        "\"\"\"\n",
        "\n",
        "import collections\n",
        "\n",
        "collections.Counter(animals).most_common(1)\n",
        "# collections.Counter(animals).most_common(2)"
      ],
      "execution_count": 18,
      "outputs": [
        {
          "output_type": "execute_result",
          "data": {
            "text/plain": [
              "[('dog', 3)]"
            ]
          },
          "metadata": {
            "tags": []
          },
          "execution_count": 18
        }
      ]
    }
  ]
}