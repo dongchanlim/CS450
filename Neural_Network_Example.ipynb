{
  "nbformat": 4,
  "nbformat_minor": 0,
  "metadata": {
    "colab": {
      "name": "Neural Network Example.ipynb",
      "provenance": [],
      "collapsed_sections": [],
      "authorship_tag": "ABX9TyPXzxOKNPU+abLrudu2Lbcm",
      "include_colab_link": true
    },
    "kernelspec": {
      "name": "python3",
      "display_name": "Python 3"
    }
  },
  "cells": [
    {
      "cell_type": "markdown",
      "metadata": {
        "id": "view-in-github",
        "colab_type": "text"
      },
      "source": [
        "<a href=\"https://colab.research.google.com/github/dongchanlim/CS450/blob/master/Neural_Network_Example.ipynb\" target=\"_parent\"><img src=\"https://colab.research.google.com/assets/colab-badge.svg\" alt=\"Open In Colab\"/></a>"
      ]
    },
    {
      "cell_type": "code",
      "metadata": {
        "id": "MRPmdTsHnVWu",
        "colab_type": "code",
        "colab": {}
      },
      "source": [
        "from sklearn import datasets"
      ],
      "execution_count": 0,
      "outputs": []
    },
    {
      "cell_type": "code",
      "metadata": {
        "id": "hUxzaX_znlKx",
        "colab_type": "code",
        "colab": {}
      },
      "source": [
        "bc = datasets.load_breast_cancer()"
      ],
      "execution_count": 0,
      "outputs": []
    },
    {
      "cell_type": "code",
      "metadata": {
        "id": "rIdyppwboAW5",
        "colab_type": "code",
        "colab": {
          "base_uri": "https://localhost:8080/",
          "height": 35
        },
        "outputId": "81ff5803-c385-4a09-c65e-39732ccadfb4"
      },
      "source": [
        "bc.data.shape"
      ],
      "execution_count": 26,
      "outputs": [
        {
          "output_type": "execute_result",
          "data": {
            "text/plain": [
              "(569, 30)"
            ]
          },
          "metadata": {
            "tags": []
          },
          "execution_count": 26
        }
      ]
    },
    {
      "cell_type": "code",
      "metadata": {
        "id": "UTTGN8o1oBvb",
        "colab_type": "code",
        "colab": {
          "base_uri": "https://localhost:8080/",
          "height": 468
        },
        "outputId": "a74922d9-96c9-4f14-accf-2215960a6497"
      },
      "source": [
        "bc.target"
      ],
      "execution_count": 27,
      "outputs": [
        {
          "output_type": "execute_result",
          "data": {
            "text/plain": [
              "array([0, 0, 0, 0, 0, 0, 0, 0, 0, 0, 0, 0, 0, 0, 0, 0, 0, 0, 0, 1, 1, 1,\n",
              "       0, 0, 0, 0, 0, 0, 0, 0, 0, 0, 0, 0, 0, 0, 0, 1, 0, 0, 0, 0, 0, 0,\n",
              "       0, 0, 1, 0, 1, 1, 1, 1, 1, 0, 0, 1, 0, 0, 1, 1, 1, 1, 0, 1, 0, 0,\n",
              "       1, 1, 1, 1, 0, 1, 0, 0, 1, 0, 1, 0, 0, 1, 1, 1, 0, 0, 1, 0, 0, 0,\n",
              "       1, 1, 1, 0, 1, 1, 0, 0, 1, 1, 1, 0, 0, 1, 1, 1, 1, 0, 1, 1, 0, 1,\n",
              "       1, 1, 1, 1, 1, 1, 1, 0, 0, 0, 1, 0, 0, 1, 1, 1, 0, 0, 1, 0, 1, 0,\n",
              "       0, 1, 0, 0, 1, 1, 0, 1, 1, 0, 1, 1, 1, 1, 0, 1, 1, 1, 1, 1, 1, 1,\n",
              "       1, 1, 0, 1, 1, 1, 1, 0, 0, 1, 0, 1, 1, 0, 0, 1, 1, 0, 0, 1, 1, 1,\n",
              "       1, 0, 1, 1, 0, 0, 0, 1, 0, 1, 0, 1, 1, 1, 0, 1, 1, 0, 0, 1, 0, 0,\n",
              "       0, 0, 1, 0, 0, 0, 1, 0, 1, 0, 1, 1, 0, 1, 0, 0, 0, 0, 1, 1, 0, 0,\n",
              "       1, 1, 1, 0, 1, 1, 1, 1, 1, 0, 0, 1, 1, 0, 1, 1, 0, 0, 1, 0, 1, 1,\n",
              "       1, 1, 0, 1, 1, 1, 1, 1, 0, 1, 0, 0, 0, 0, 0, 0, 0, 0, 0, 0, 0, 0,\n",
              "       0, 0, 1, 1, 1, 1, 1, 1, 0, 1, 0, 1, 1, 0, 1, 1, 0, 1, 0, 0, 1, 1,\n",
              "       1, 1, 1, 1, 1, 1, 1, 1, 1, 1, 1, 0, 1, 1, 0, 1, 0, 1, 1, 1, 1, 1,\n",
              "       1, 1, 1, 1, 1, 1, 1, 1, 1, 0, 1, 1, 1, 0, 1, 0, 1, 1, 1, 1, 0, 0,\n",
              "       0, 1, 1, 1, 1, 0, 1, 0, 1, 0, 1, 1, 1, 0, 1, 1, 1, 1, 1, 1, 1, 0,\n",
              "       0, 0, 1, 1, 1, 1, 1, 1, 1, 1, 1, 1, 1, 0, 0, 1, 0, 0, 0, 1, 0, 0,\n",
              "       1, 1, 1, 1, 1, 0, 1, 1, 1, 1, 1, 0, 1, 1, 1, 0, 1, 1, 0, 0, 1, 1,\n",
              "       1, 1, 1, 1, 0, 1, 1, 1, 1, 1, 1, 1, 0, 1, 1, 1, 1, 1, 0, 1, 1, 0,\n",
              "       1, 1, 1, 1, 1, 1, 1, 1, 1, 1, 1, 1, 0, 1, 0, 0, 1, 0, 1, 1, 1, 1,\n",
              "       1, 0, 1, 1, 0, 1, 0, 1, 1, 0, 1, 0, 1, 1, 1, 1, 1, 1, 1, 1, 0, 0,\n",
              "       1, 1, 1, 1, 1, 1, 0, 1, 1, 1, 1, 1, 1, 1, 1, 1, 1, 0, 1, 1, 1, 1,\n",
              "       1, 1, 1, 0, 1, 0, 1, 1, 0, 1, 1, 1, 1, 1, 0, 0, 1, 0, 1, 0, 1, 1,\n",
              "       1, 1, 1, 0, 1, 1, 0, 1, 0, 1, 0, 0, 1, 1, 1, 0, 1, 1, 1, 1, 1, 1,\n",
              "       1, 1, 1, 1, 1, 0, 1, 0, 0, 1, 1, 1, 1, 1, 1, 1, 1, 1, 1, 1, 1, 1,\n",
              "       1, 1, 1, 1, 1, 1, 1, 1, 1, 1, 1, 1, 0, 0, 0, 0, 0, 0, 1])"
            ]
          },
          "metadata": {
            "tags": []
          },
          "execution_count": 27
        }
      ]
    },
    {
      "cell_type": "code",
      "metadata": {
        "id": "XuftRFlOoIce",
        "colab_type": "code",
        "colab": {}
      },
      "source": [
        "from sklearn.model_selection import train_test_split\n",
        "\n",
        "train_X, test_X, train_y, test_y = train_test_split(bc.data, bc.target, test_size = 0.3) "
      ],
      "execution_count": 0,
      "outputs": []
    },
    {
      "cell_type": "code",
      "metadata": {
        "id": "lAqfZ4kno9z3",
        "colab_type": "code",
        "colab": {
          "base_uri": "https://localhost:8080/",
          "height": 35
        },
        "outputId": "278418f7-98d1-45ed-9810-746f8b7a061e"
      },
      "source": [
        "train_X.shape"
      ],
      "execution_count": 29,
      "outputs": [
        {
          "output_type": "execute_result",
          "data": {
            "text/plain": [
              "(398, 30)"
            ]
          },
          "metadata": {
            "tags": []
          },
          "execution_count": 29
        }
      ]
    },
    {
      "cell_type": "code",
      "metadata": {
        "id": "gUkWrndBphFW",
        "colab_type": "code",
        "colab": {
          "base_uri": "https://localhost:8080/",
          "height": 35
        },
        "outputId": "4f1fc482-c65b-4edd-d39c-1f32f8f284d4"
      },
      "source": [
        "test_X.shape"
      ],
      "execution_count": 30,
      "outputs": [
        {
          "output_type": "execute_result",
          "data": {
            "text/plain": [
              "(171, 30)"
            ]
          },
          "metadata": {
            "tags": []
          },
          "execution_count": 30
        }
      ]
    },
    {
      "cell_type": "code",
      "metadata": {
        "id": "KLq2RdzCsig6",
        "colab_type": "code",
        "colab": {}
      },
      "source": [
        "# Normalization\n",
        "from sklearn.preprocessing import StandardScaler\n",
        "\n",
        "sc = StandardScaler()\n",
        "sc.fit(train_X)\n",
        "\n",
        "train_X = sc.transform(train_X)\n",
        "test_X = sc.transform(test_X)"
      ],
      "execution_count": 0,
      "outputs": []
    },
    {
      "cell_type": "code",
      "metadata": {
        "id": "gZ71GDnmpi81",
        "colab_type": "code",
        "colab": {}
      },
      "source": [
        "import keras"
      ],
      "execution_count": 0,
      "outputs": []
    },
    {
      "cell_type": "code",
      "metadata": {
        "id": "N373i2cYpndG",
        "colab_type": "code",
        "colab": {}
      },
      "source": [
        "from keras.models import Sequential\n",
        "from keras.layers import Dense"
      ],
      "execution_count": 0,
      "outputs": []
    },
    {
      "cell_type": "code",
      "metadata": {
        "id": "rkYJ_5GSpzWu",
        "colab_type": "code",
        "colab": {}
      },
      "source": [
        "classifier = Sequential()\n",
        "classifier.add(Dense(10, activation= \"sigmoid\"))\n",
        "classifier.add(Dense(4, activation= \"sigmoid\"))\n",
        "classifier.add(Dense(1, activation= \"sigmoid\"))\n",
        "\n",
        "classifier.compile(optimizer = \"adam\",  loss = \"binary_crossentropy\", metrics = [\"accuracy\"])"
      ],
      "execution_count": 0,
      "outputs": []
    },
    {
      "cell_type": "code",
      "metadata": {
        "id": "sJC1eIjBr33A",
        "colab_type": "code",
        "colab": {
          "base_uri": "https://localhost:8080/",
          "height": 1000
        },
        "outputId": "1c2a7775-a4b8-4ef7-886e-96090856d7e6"
      },
      "source": [
        "# weight(W) start with random number\n",
        "classifier.fit(train_X, train_y, epochs= 100)"
      ],
      "execution_count": 36,
      "outputs": [
        {
          "output_type": "stream",
          "text": [
            "Epoch 1/100\n",
            "398/398 [==============================] - 0s 267us/step - loss: 0.8238 - accuracy: 0.3744\n",
            "Epoch 2/100\n",
            "398/398 [==============================] - 0s 50us/step - loss: 0.7940 - accuracy: 0.3744\n",
            "Epoch 3/100\n",
            "398/398 [==============================] - 0s 53us/step - loss: 0.7685 - accuracy: 0.3744\n",
            "Epoch 4/100\n",
            "398/398 [==============================] - 0s 51us/step - loss: 0.7445 - accuracy: 0.3744\n",
            "Epoch 5/100\n",
            "398/398 [==============================] - 0s 55us/step - loss: 0.7251 - accuracy: 0.3744\n",
            "Epoch 6/100\n",
            "398/398 [==============================] - 0s 62us/step - loss: 0.7071 - accuracy: 0.3744\n",
            "Epoch 7/100\n",
            "398/398 [==============================] - 0s 52us/step - loss: 0.6911 - accuracy: 0.3744\n",
            "Epoch 8/100\n",
            "398/398 [==============================] - 0s 64us/step - loss: 0.6767 - accuracy: 0.3744\n",
            "Epoch 9/100\n",
            "398/398 [==============================] - 0s 62us/step - loss: 0.6640 - accuracy: 0.3744\n",
            "Epoch 10/100\n",
            "398/398 [==============================] - 0s 56us/step - loss: 0.6519 - accuracy: 0.4548\n",
            "Epoch 11/100\n",
            "398/398 [==============================] - 0s 59us/step - loss: 0.6408 - accuracy: 0.6457\n",
            "Epoch 12/100\n",
            "398/398 [==============================] - 0s 57us/step - loss: 0.6306 - accuracy: 0.7663\n",
            "Epoch 13/100\n",
            "398/398 [==============================] - 0s 63us/step - loss: 0.6208 - accuracy: 0.8643\n",
            "Epoch 14/100\n",
            "398/398 [==============================] - 0s 63us/step - loss: 0.6110 - accuracy: 0.8945\n",
            "Epoch 15/100\n",
            "398/398 [==============================] - 0s 60us/step - loss: 0.6015 - accuracy: 0.9196\n",
            "Epoch 16/100\n",
            "398/398 [==============================] - 0s 57us/step - loss: 0.5919 - accuracy: 0.9296\n",
            "Epoch 17/100\n",
            "398/398 [==============================] - 0s 59us/step - loss: 0.5820 - accuracy: 0.9472\n",
            "Epoch 18/100\n",
            "398/398 [==============================] - 0s 60us/step - loss: 0.5721 - accuracy: 0.9497\n",
            "Epoch 19/100\n",
            "398/398 [==============================] - 0s 59us/step - loss: 0.5619 - accuracy: 0.9548\n",
            "Epoch 20/100\n",
            "398/398 [==============================] - 0s 51us/step - loss: 0.5512 - accuracy: 0.9472\n",
            "Epoch 21/100\n",
            "398/398 [==============================] - 0s 64us/step - loss: 0.5403 - accuracy: 0.9472\n",
            "Epoch 22/100\n",
            "398/398 [==============================] - 0s 49us/step - loss: 0.5290 - accuracy: 0.9497\n",
            "Epoch 23/100\n",
            "398/398 [==============================] - 0s 46us/step - loss: 0.5176 - accuracy: 0.9497\n",
            "Epoch 24/100\n",
            "398/398 [==============================] - 0s 45us/step - loss: 0.5061 - accuracy: 0.9523\n",
            "Epoch 25/100\n",
            "398/398 [==============================] - 0s 48us/step - loss: 0.4944 - accuracy: 0.9548\n",
            "Epoch 26/100\n",
            "398/398 [==============================] - 0s 46us/step - loss: 0.4826 - accuracy: 0.9523\n",
            "Epoch 27/100\n",
            "398/398 [==============================] - 0s 50us/step - loss: 0.4709 - accuracy: 0.9548\n",
            "Epoch 28/100\n",
            "398/398 [==============================] - 0s 44us/step - loss: 0.4593 - accuracy: 0.9573\n",
            "Epoch 29/100\n",
            "398/398 [==============================] - 0s 57us/step - loss: 0.4479 - accuracy: 0.9648\n",
            "Epoch 30/100\n",
            "398/398 [==============================] - 0s 44us/step - loss: 0.4366 - accuracy: 0.9724\n",
            "Epoch 31/100\n",
            "398/398 [==============================] - 0s 45us/step - loss: 0.4255 - accuracy: 0.9749\n",
            "Epoch 32/100\n",
            "398/398 [==============================] - 0s 49us/step - loss: 0.4146 - accuracy: 0.9749\n",
            "Epoch 33/100\n",
            "398/398 [==============================] - 0s 44us/step - loss: 0.4040 - accuracy: 0.9749\n",
            "Epoch 34/100\n",
            "398/398 [==============================] - 0s 45us/step - loss: 0.3936 - accuracy: 0.9749\n",
            "Epoch 35/100\n",
            "398/398 [==============================] - 0s 48us/step - loss: 0.3836 - accuracy: 0.9749\n",
            "Epoch 36/100\n",
            "398/398 [==============================] - 0s 49us/step - loss: 0.3738 - accuracy: 0.9749\n",
            "Epoch 37/100\n",
            "398/398 [==============================] - 0s 48us/step - loss: 0.3644 - accuracy: 0.9749\n",
            "Epoch 38/100\n",
            "398/398 [==============================] - 0s 45us/step - loss: 0.3552 - accuracy: 0.9749\n",
            "Epoch 39/100\n",
            "398/398 [==============================] - 0s 44us/step - loss: 0.3465 - accuracy: 0.9749\n",
            "Epoch 40/100\n",
            "398/398 [==============================] - 0s 45us/step - loss: 0.3378 - accuracy: 0.9749\n",
            "Epoch 41/100\n",
            "398/398 [==============================] - 0s 48us/step - loss: 0.3297 - accuracy: 0.9749\n",
            "Epoch 42/100\n",
            "398/398 [==============================] - 0s 44us/step - loss: 0.3218 - accuracy: 0.9749\n",
            "Epoch 43/100\n",
            "398/398 [==============================] - 0s 44us/step - loss: 0.3142 - accuracy: 0.9749\n",
            "Epoch 44/100\n",
            "398/398 [==============================] - 0s 44us/step - loss: 0.3069 - accuracy: 0.9749\n",
            "Epoch 45/100\n",
            "398/398 [==============================] - 0s 45us/step - loss: 0.2999 - accuracy: 0.9774\n",
            "Epoch 46/100\n",
            "398/398 [==============================] - 0s 46us/step - loss: 0.2931 - accuracy: 0.9774\n",
            "Epoch 47/100\n",
            "398/398 [==============================] - 0s 48us/step - loss: 0.2865 - accuracy: 0.9774\n",
            "Epoch 48/100\n",
            "398/398 [==============================] - 0s 44us/step - loss: 0.2802 - accuracy: 0.9774\n",
            "Epoch 49/100\n",
            "398/398 [==============================] - 0s 44us/step - loss: 0.2742 - accuracy: 0.9774\n",
            "Epoch 50/100\n",
            "398/398 [==============================] - 0s 46us/step - loss: 0.2683 - accuracy: 0.9799\n",
            "Epoch 51/100\n",
            "398/398 [==============================] - 0s 46us/step - loss: 0.2627 - accuracy: 0.9824\n",
            "Epoch 52/100\n",
            "398/398 [==============================] - 0s 47us/step - loss: 0.2572 - accuracy: 0.9824\n",
            "Epoch 53/100\n",
            "398/398 [==============================] - 0s 44us/step - loss: 0.2520 - accuracy: 0.9824\n",
            "Epoch 54/100\n",
            "398/398 [==============================] - 0s 43us/step - loss: 0.2469 - accuracy: 0.9824\n",
            "Epoch 55/100\n",
            "398/398 [==============================] - 0s 44us/step - loss: 0.2420 - accuracy: 0.9824\n",
            "Epoch 56/100\n",
            "398/398 [==============================] - 0s 57us/step - loss: 0.2372 - accuracy: 0.9824\n",
            "Epoch 57/100\n",
            "398/398 [==============================] - 0s 55us/step - loss: 0.2327 - accuracy: 0.9824\n",
            "Epoch 58/100\n",
            "398/398 [==============================] - 0s 48us/step - loss: 0.2282 - accuracy: 0.9824\n",
            "Epoch 59/100\n",
            "398/398 [==============================] - 0s 46us/step - loss: 0.2240 - accuracy: 0.9824\n",
            "Epoch 60/100\n",
            "398/398 [==============================] - 0s 45us/step - loss: 0.2198 - accuracy: 0.9824\n",
            "Epoch 61/100\n",
            "398/398 [==============================] - 0s 51us/step - loss: 0.2158 - accuracy: 0.9824\n",
            "Epoch 62/100\n",
            "398/398 [==============================] - 0s 47us/step - loss: 0.2119 - accuracy: 0.9824\n",
            "Epoch 63/100\n",
            "398/398 [==============================] - 0s 44us/step - loss: 0.2081 - accuracy: 0.9824\n",
            "Epoch 64/100\n",
            "398/398 [==============================] - 0s 49us/step - loss: 0.2044 - accuracy: 0.9824\n",
            "Epoch 65/100\n",
            "398/398 [==============================] - 0s 58us/step - loss: 0.2010 - accuracy: 0.9824\n",
            "Epoch 66/100\n",
            "398/398 [==============================] - 0s 56us/step - loss: 0.1975 - accuracy: 0.9849\n",
            "Epoch 67/100\n",
            "398/398 [==============================] - 0s 54us/step - loss: 0.1941 - accuracy: 0.9849\n",
            "Epoch 68/100\n",
            "398/398 [==============================] - 0s 49us/step - loss: 0.1909 - accuracy: 0.9849\n",
            "Epoch 69/100\n",
            "398/398 [==============================] - 0s 51us/step - loss: 0.1878 - accuracy: 0.9849\n",
            "Epoch 70/100\n",
            "398/398 [==============================] - 0s 49us/step - loss: 0.1847 - accuracy: 0.9849\n",
            "Epoch 71/100\n",
            "398/398 [==============================] - 0s 49us/step - loss: 0.1818 - accuracy: 0.9849\n",
            "Epoch 72/100\n",
            "398/398 [==============================] - 0s 54us/step - loss: 0.1789 - accuracy: 0.9849\n",
            "Epoch 73/100\n",
            "398/398 [==============================] - 0s 64us/step - loss: 0.1761 - accuracy: 0.9849\n",
            "Epoch 74/100\n",
            "398/398 [==============================] - 0s 56us/step - loss: 0.1734 - accuracy: 0.9849\n",
            "Epoch 75/100\n",
            "398/398 [==============================] - 0s 51us/step - loss: 0.1708 - accuracy: 0.9849\n",
            "Epoch 76/100\n",
            "398/398 [==============================] - 0s 46us/step - loss: 0.1682 - accuracy: 0.9849\n",
            "Epoch 77/100\n",
            "398/398 [==============================] - 0s 64us/step - loss: 0.1656 - accuracy: 0.9874\n",
            "Epoch 78/100\n",
            "398/398 [==============================] - 0s 67us/step - loss: 0.1632 - accuracy: 0.9874\n",
            "Epoch 79/100\n",
            "398/398 [==============================] - 0s 49us/step - loss: 0.1608 - accuracy: 0.9874\n",
            "Epoch 80/100\n",
            "398/398 [==============================] - 0s 52us/step - loss: 0.1585 - accuracy: 0.9874\n",
            "Epoch 81/100\n",
            "398/398 [==============================] - 0s 46us/step - loss: 0.1563 - accuracy: 0.9874\n",
            "Epoch 82/100\n",
            "398/398 [==============================] - 0s 47us/step - loss: 0.1540 - accuracy: 0.9874\n",
            "Epoch 83/100\n",
            "398/398 [==============================] - 0s 46us/step - loss: 0.1519 - accuracy: 0.9874\n",
            "Epoch 84/100\n",
            "398/398 [==============================] - 0s 51us/step - loss: 0.1498 - accuracy: 0.9874\n",
            "Epoch 85/100\n",
            "398/398 [==============================] - 0s 53us/step - loss: 0.1478 - accuracy: 0.9874\n",
            "Epoch 86/100\n",
            "398/398 [==============================] - 0s 50us/step - loss: 0.1457 - accuracy: 0.9874\n",
            "Epoch 87/100\n",
            "398/398 [==============================] - 0s 51us/step - loss: 0.1438 - accuracy: 0.9874\n",
            "Epoch 88/100\n",
            "398/398 [==============================] - 0s 47us/step - loss: 0.1419 - accuracy: 0.9874\n",
            "Epoch 89/100\n",
            "398/398 [==============================] - 0s 46us/step - loss: 0.1401 - accuracy: 0.9874\n",
            "Epoch 90/100\n",
            "398/398 [==============================] - 0s 46us/step - loss: 0.1382 - accuracy: 0.9899\n",
            "Epoch 91/100\n",
            "398/398 [==============================] - 0s 51us/step - loss: 0.1365 - accuracy: 0.9899\n",
            "Epoch 92/100\n",
            "398/398 [==============================] - 0s 50us/step - loss: 0.1348 - accuracy: 0.9899\n",
            "Epoch 93/100\n",
            "398/398 [==============================] - 0s 65us/step - loss: 0.1331 - accuracy: 0.9899\n",
            "Epoch 94/100\n",
            "398/398 [==============================] - 0s 56us/step - loss: 0.1315 - accuracy: 0.9899\n",
            "Epoch 95/100\n",
            "398/398 [==============================] - 0s 55us/step - loss: 0.1298 - accuracy: 0.9899\n",
            "Epoch 96/100\n",
            "398/398 [==============================] - 0s 53us/step - loss: 0.1283 - accuracy: 0.9899\n",
            "Epoch 97/100\n",
            "398/398 [==============================] - 0s 58us/step - loss: 0.1269 - accuracy: 0.9899\n",
            "Epoch 98/100\n",
            "398/398 [==============================] - 0s 56us/step - loss: 0.1254 - accuracy: 0.9899\n",
            "Epoch 99/100\n",
            "398/398 [==============================] - 0s 66us/step - loss: 0.1237 - accuracy: 0.9899\n",
            "Epoch 100/100\n",
            "398/398 [==============================] - 0s 57us/step - loss: 0.1223 - accuracy: 0.9925\n"
          ],
          "name": "stdout"
        },
        {
          "output_type": "execute_result",
          "data": {
            "text/plain": [
              "<keras.callbacks.callbacks.History at 0x7fb70ec48b70>"
            ]
          },
          "metadata": {
            "tags": []
          },
          "execution_count": 36
        }
      ]
    },
    {
      "cell_type": "code",
      "metadata": {
        "id": "V7DVACN8tQTr",
        "colab_type": "code",
        "colab": {
          "base_uri": "https://localhost:8080/",
          "height": 1000
        },
        "outputId": "8d89573a-ae02-4e2d-eb40-2c746029cd49"
      },
      "source": [
        "predicted_y = classifier.predict(test_X)\n",
        "\n",
        "predicted_y"
      ],
      "execution_count": 42,
      "outputs": [
        {
          "output_type": "execute_result",
          "data": {
            "text/plain": [
              "array([[0.9133623 ],\n",
              "       [0.09021378],\n",
              "       [0.0901362 ],\n",
              "       [0.11452958],\n",
              "       [0.9148387 ],\n",
              "       [0.9153043 ],\n",
              "       [0.91544676],\n",
              "       [0.9050414 ],\n",
              "       [0.0929822 ],\n",
              "       [0.0961045 ],\n",
              "       [0.91230977],\n",
              "       [0.09142098],\n",
              "       [0.89513946],\n",
              "       [0.09013778],\n",
              "       [0.09020218],\n",
              "       [0.9114592 ],\n",
              "       [0.914337  ],\n",
              "       [0.89475197],\n",
              "       [0.0924038 ],\n",
              "       [0.91342986],\n",
              "       [0.9153681 ],\n",
              "       [0.09213328],\n",
              "       [0.2185852 ],\n",
              "       [0.09466985],\n",
              "       [0.91489124],\n",
              "       [0.901627  ],\n",
              "       [0.90394634],\n",
              "       [0.8817177 ],\n",
              "       [0.9100901 ],\n",
              "       [0.91434973],\n",
              "       [0.9113735 ],\n",
              "       [0.9152595 ],\n",
              "       [0.09013882],\n",
              "       [0.9117696 ],\n",
              "       [0.90977347],\n",
              "       [0.09052965],\n",
              "       [0.91476595],\n",
              "       [0.9153544 ],\n",
              "       [0.8402637 ],\n",
              "       [0.41771162],\n",
              "       [0.91463447],\n",
              "       [0.8636231 ],\n",
              "       [0.09543765],\n",
              "       [0.9150587 ],\n",
              "       [0.8894727 ],\n",
              "       [0.10491225],\n",
              "       [0.09028575],\n",
              "       [0.09015542],\n",
              "       [0.6015867 ],\n",
              "       [0.9144212 ],\n",
              "       [0.9154218 ],\n",
              "       [0.9145971 ],\n",
              "       [0.8960309 ],\n",
              "       [0.9154194 ],\n",
              "       [0.9141941 ],\n",
              "       [0.91423285],\n",
              "       [0.9146875 ],\n",
              "       [0.91492474],\n",
              "       [0.9154331 ],\n",
              "       [0.9131513 ],\n",
              "       [0.91398716],\n",
              "       [0.09014618],\n",
              "       [0.09013882],\n",
              "       [0.91537714],\n",
              "       [0.57759   ],\n",
              "       [0.75444293],\n",
              "       [0.09013632],\n",
              "       [0.9151504 ],\n",
              "       [0.09013617],\n",
              "       [0.9115272 ],\n",
              "       [0.9153985 ],\n",
              "       [0.09082621],\n",
              "       [0.6195455 ],\n",
              "       [0.9148939 ],\n",
              "       [0.91473866],\n",
              "       [0.10694557],\n",
              "       [0.9154203 ],\n",
              "       [0.9129051 ],\n",
              "       [0.09026188],\n",
              "       [0.91501594],\n",
              "       [0.09036979],\n",
              "       [0.907826  ],\n",
              "       [0.10296941],\n",
              "       [0.09108189],\n",
              "       [0.09775823],\n",
              "       [0.09014356],\n",
              "       [0.9137256 ],\n",
              "       [0.09015027],\n",
              "       [0.3131699 ],\n",
              "       [0.91529334],\n",
              "       [0.91540253],\n",
              "       [0.9127004 ],\n",
              "       [0.91452944],\n",
              "       [0.09013811],\n",
              "       [0.09015158],\n",
              "       [0.9151728 ],\n",
              "       [0.9154033 ],\n",
              "       [0.0919579 ],\n",
              "       [0.91539705],\n",
              "       [0.9154214 ],\n",
              "       [0.09016332],\n",
              "       [0.9149206 ],\n",
              "       [0.09015933],\n",
              "       [0.09015146],\n",
              "       [0.9150194 ],\n",
              "       [0.91396165],\n",
              "       [0.09013915],\n",
              "       [0.09013617],\n",
              "       [0.91501117],\n",
              "       [0.89045763],\n",
              "       [0.9132143 ],\n",
              "       [0.9150418 ],\n",
              "       [0.91541374],\n",
              "       [0.09205428],\n",
              "       [0.91462636],\n",
              "       [0.9152822 ],\n",
              "       [0.91544515],\n",
              "       [0.91540277],\n",
              "       [0.9153596 ],\n",
              "       [0.09077328],\n",
              "       [0.91518605],\n",
              "       [0.09025431],\n",
              "       [0.9149337 ],\n",
              "       [0.09115675],\n",
              "       [0.9153667 ],\n",
              "       [0.9119339 ],\n",
              "       [0.9152905 ],\n",
              "       [0.09019214],\n",
              "       [0.0969981 ],\n",
              "       [0.28680825],\n",
              "       [0.91378415],\n",
              "       [0.9131475 ],\n",
              "       [0.09553105],\n",
              "       [0.09037942],\n",
              "       [0.9149301 ],\n",
              "       [0.91483295],\n",
              "       [0.14945504],\n",
              "       [0.21533677],\n",
              "       [0.09054175],\n",
              "       [0.89602256],\n",
              "       [0.9085642 ],\n",
              "       [0.9145957 ],\n",
              "       [0.8892102 ],\n",
              "       [0.9085237 ],\n",
              "       [0.91525793],\n",
              "       [0.9152019 ],\n",
              "       [0.09015229],\n",
              "       [0.09017053],\n",
              "       [0.09020361],\n",
              "       [0.9153886 ],\n",
              "       [0.9151897 ],\n",
              "       [0.91541815],\n",
              "       [0.90829825],\n",
              "       [0.91506696],\n",
              "       [0.09265232],\n",
              "       [0.09158847],\n",
              "       [0.9056933 ],\n",
              "       [0.91533506],\n",
              "       [0.91293216],\n",
              "       [0.9118577 ],\n",
              "       [0.90085566],\n",
              "       [0.9153789 ],\n",
              "       [0.9118613 ],\n",
              "       [0.9149197 ],\n",
              "       [0.91457915],\n",
              "       [0.91492736],\n",
              "       [0.9147872 ],\n",
              "       [0.915374  ],\n",
              "       [0.09013684],\n",
              "       [0.91458935],\n",
              "       [0.91445535]], dtype=float32)"
            ]
          },
          "metadata": {
            "tags": []
          },
          "execution_count": 42
        }
      ]
    },
    {
      "cell_type": "code",
      "metadata": {
        "id": "9_um8Rxku8nJ",
        "colab_type": "code",
        "colab": {
          "base_uri": "https://localhost:8080/",
          "height": 346
        },
        "outputId": "373f6a55-688d-41d9-aef9-f441849abe4c"
      },
      "source": [
        "from sklearn.metrics import accuracy_score\n",
        "\n",
        "accuracy_score(predicted_y, test_y)"
      ],
      "execution_count": 40,
      "outputs": [
        {
          "output_type": "error",
          "ename": "ValueError",
          "evalue": "ignored",
          "traceback": [
            "\u001b[0;31m---------------------------------------------------------------------------\u001b[0m",
            "\u001b[0;31mValueError\u001b[0m                                Traceback (most recent call last)",
            "\u001b[0;32m<ipython-input-40-820ea5d1b852>\u001b[0m in \u001b[0;36m<module>\u001b[0;34m()\u001b[0m\n\u001b[1;32m      1\u001b[0m \u001b[0;32mfrom\u001b[0m \u001b[0msklearn\u001b[0m\u001b[0;34m.\u001b[0m\u001b[0mmetrics\u001b[0m \u001b[0;32mimport\u001b[0m \u001b[0maccuracy_score\u001b[0m\u001b[0;34m\u001b[0m\u001b[0;34m\u001b[0m\u001b[0m\n\u001b[1;32m      2\u001b[0m \u001b[0;34m\u001b[0m\u001b[0m\n\u001b[0;32m----> 3\u001b[0;31m \u001b[0maccuracy_score\u001b[0m\u001b[0;34m(\u001b[0m\u001b[0mpredicted_y\u001b[0m\u001b[0;34m,\u001b[0m \u001b[0mtest_y\u001b[0m\u001b[0;34m)\u001b[0m\u001b[0;34m\u001b[0m\u001b[0;34m\u001b[0m\u001b[0m\n\u001b[0m",
            "\u001b[0;32m/usr/local/lib/python3.6/dist-packages/sklearn/metrics/_classification.py\u001b[0m in \u001b[0;36maccuracy_score\u001b[0;34m(y_true, y_pred, normalize, sample_weight)\u001b[0m\n\u001b[1;32m    183\u001b[0m \u001b[0;34m\u001b[0m\u001b[0m\n\u001b[1;32m    184\u001b[0m     \u001b[0;31m# Compute accuracy for each possible representation\u001b[0m\u001b[0;34m\u001b[0m\u001b[0;34m\u001b[0m\u001b[0;34m\u001b[0m\u001b[0m\n\u001b[0;32m--> 185\u001b[0;31m     \u001b[0my_type\u001b[0m\u001b[0;34m,\u001b[0m \u001b[0my_true\u001b[0m\u001b[0;34m,\u001b[0m \u001b[0my_pred\u001b[0m \u001b[0;34m=\u001b[0m \u001b[0m_check_targets\u001b[0m\u001b[0;34m(\u001b[0m\u001b[0my_true\u001b[0m\u001b[0;34m,\u001b[0m \u001b[0my_pred\u001b[0m\u001b[0;34m)\u001b[0m\u001b[0;34m\u001b[0m\u001b[0;34m\u001b[0m\u001b[0m\n\u001b[0m\u001b[1;32m    186\u001b[0m     \u001b[0mcheck_consistent_length\u001b[0m\u001b[0;34m(\u001b[0m\u001b[0my_true\u001b[0m\u001b[0;34m,\u001b[0m \u001b[0my_pred\u001b[0m\u001b[0;34m,\u001b[0m \u001b[0msample_weight\u001b[0m\u001b[0;34m)\u001b[0m\u001b[0;34m\u001b[0m\u001b[0;34m\u001b[0m\u001b[0m\n\u001b[1;32m    187\u001b[0m     \u001b[0;32mif\u001b[0m \u001b[0my_type\u001b[0m\u001b[0;34m.\u001b[0m\u001b[0mstartswith\u001b[0m\u001b[0;34m(\u001b[0m\u001b[0;34m'multilabel'\u001b[0m\u001b[0;34m)\u001b[0m\u001b[0;34m:\u001b[0m\u001b[0;34m\u001b[0m\u001b[0;34m\u001b[0m\u001b[0m\n",
            "\u001b[0;32m/usr/local/lib/python3.6/dist-packages/sklearn/metrics/_classification.py\u001b[0m in \u001b[0;36m_check_targets\u001b[0;34m(y_true, y_pred)\u001b[0m\n\u001b[1;32m     88\u001b[0m     \u001b[0;32mif\u001b[0m \u001b[0mlen\u001b[0m\u001b[0;34m(\u001b[0m\u001b[0my_type\u001b[0m\u001b[0;34m)\u001b[0m \u001b[0;34m>\u001b[0m \u001b[0;36m1\u001b[0m\u001b[0;34m:\u001b[0m\u001b[0;34m\u001b[0m\u001b[0;34m\u001b[0m\u001b[0m\n\u001b[1;32m     89\u001b[0m         raise ValueError(\"Classification metrics can't handle a mix of {0} \"\n\u001b[0;32m---> 90\u001b[0;31m                          \"and {1} targets\".format(type_true, type_pred))\n\u001b[0m\u001b[1;32m     91\u001b[0m \u001b[0;34m\u001b[0m\u001b[0m\n\u001b[1;32m     92\u001b[0m     \u001b[0;31m# We can't have more than one value on y_type => The set is no more needed\u001b[0m\u001b[0;34m\u001b[0m\u001b[0;34m\u001b[0m\u001b[0;34m\u001b[0m\u001b[0m\n",
            "\u001b[0;31mValueError\u001b[0m: Classification metrics can't handle a mix of continuous and binary targets"
          ]
        }
      ]
    }
  ]
}