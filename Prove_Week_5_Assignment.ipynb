{
  "nbformat": 4,
  "nbformat_minor": 0,
  "metadata": {
    "colab": {
      "name": "Prove Week 5 - Assignment.ipynb",
      "provenance": [],
      "collapsed_sections": [],
      "authorship_tag": "ABX9TyMHqkbYr2Pk7JOaEkRR72xH",
      "include_colab_link": true
    },
    "kernelspec": {
      "name": "python3",
      "display_name": "Python 3"
    }
  },
  "cells": [
    {
      "cell_type": "markdown",
      "metadata": {
        "id": "view-in-github",
        "colab_type": "text"
      },
      "source": [
        "<a href=\"https://colab.research.google.com/github/dongchanlim/CS450/blob/master/Prove_Week_5_Assignment.ipynb\" target=\"_parent\"><img src=\"https://colab.research.google.com/assets/colab-badge.svg\" alt=\"Open In Colab\"/></a>"
      ]
    },
    {
      "cell_type": "code",
      "metadata": {
        "id": "f5bqW_IkcdU_",
        "colab_type": "code",
        "outputId": "12a5038b-55ce-4ae7-e816-6dfe329c7803",
        "colab": {
          "resources": {
            "http://localhost:8080/nbextensions/google.colab/files.js": {
              "data": "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",
              "ok": true,
              "headers": [
                [
                  "content-type",
                  "application/javascript"
                ]
              ],
              "status": 200,
              "status_text": ""
            }
          },
          "base_uri": "https://localhost:8080/",
          "height": 75
        }
      },
      "source": [
        "import pandas as pd\n",
        "import numpy as np\n",
        "from google.colab import files\n",
        "\n",
        "file = files.upload()"
      ],
      "execution_count": 2,
      "outputs": [
        {
          "output_type": "display_data",
          "data": {
            "text/html": [
              "\n",
              "     <input type=\"file\" id=\"files-66493705-dc3a-4b06-9eee-3628dc20ade6\" name=\"files[]\" multiple disabled />\n",
              "     <output id=\"result-66493705-dc3a-4b06-9eee-3628dc20ade6\">\n",
              "      Upload widget is only available when the cell has been executed in the\n",
              "      current browser session. Please rerun this cell to enable.\n",
              "      </output>\n",
              "      <script src=\"/nbextensions/google.colab/files.js\"></script> "
            ],
            "text/plain": [
              "<IPython.core.display.HTML object>"
            ]
          },
          "metadata": {
            "tags": []
          }
        },
        {
          "output_type": "stream",
          "text": [
            "Saving xAPI-Edu-Data.csv to xAPI-Edu-Data.csv\n"
          ],
          "name": "stdout"
        }
      ]
    },
    {
      "cell_type": "code",
      "metadata": {
        "id": "_u1tD78Hcnoc",
        "colab_type": "code",
        "outputId": "6fe7cb00-33cc-469d-8509-2897633002e8",
        "colab": {
          "base_uri": "https://localhost:8080/",
          "height": 217
        }
      },
      "source": [
        "edu = pd.read_csv(\"xAPI-Edu-Data.csv\")\n",
        "\n",
        "edu.head()"
      ],
      "execution_count": 3,
      "outputs": [
        {
          "output_type": "execute_result",
          "data": {
            "text/html": [
              "<div>\n",
              "<style scoped>\n",
              "    .dataframe tbody tr th:only-of-type {\n",
              "        vertical-align: middle;\n",
              "    }\n",
              "\n",
              "    .dataframe tbody tr th {\n",
              "        vertical-align: top;\n",
              "    }\n",
              "\n",
              "    .dataframe thead th {\n",
              "        text-align: right;\n",
              "    }\n",
              "</style>\n",
              "<table border=\"1\" class=\"dataframe\">\n",
              "  <thead>\n",
              "    <tr style=\"text-align: right;\">\n",
              "      <th></th>\n",
              "      <th>gender</th>\n",
              "      <th>NationalITy</th>\n",
              "      <th>PlaceofBirth</th>\n",
              "      <th>StageID</th>\n",
              "      <th>GradeID</th>\n",
              "      <th>SectionID</th>\n",
              "      <th>Topic</th>\n",
              "      <th>Semester</th>\n",
              "      <th>Relation</th>\n",
              "      <th>raisedhands</th>\n",
              "      <th>VisITedResources</th>\n",
              "      <th>AnnouncementsView</th>\n",
              "      <th>Discussion</th>\n",
              "      <th>ParentAnsweringSurvey</th>\n",
              "      <th>ParentschoolSatisfaction</th>\n",
              "      <th>StudentAbsenceDays</th>\n",
              "      <th>Class</th>\n",
              "    </tr>\n",
              "  </thead>\n",
              "  <tbody>\n",
              "    <tr>\n",
              "      <th>0</th>\n",
              "      <td>M</td>\n",
              "      <td>KW</td>\n",
              "      <td>KuwaIT</td>\n",
              "      <td>lowerlevel</td>\n",
              "      <td>G-04</td>\n",
              "      <td>A</td>\n",
              "      <td>IT</td>\n",
              "      <td>F</td>\n",
              "      <td>Father</td>\n",
              "      <td>15</td>\n",
              "      <td>16</td>\n",
              "      <td>2</td>\n",
              "      <td>20</td>\n",
              "      <td>Yes</td>\n",
              "      <td>Good</td>\n",
              "      <td>Under-7</td>\n",
              "      <td>M</td>\n",
              "    </tr>\n",
              "    <tr>\n",
              "      <th>1</th>\n",
              "      <td>M</td>\n",
              "      <td>KW</td>\n",
              "      <td>KuwaIT</td>\n",
              "      <td>lowerlevel</td>\n",
              "      <td>G-04</td>\n",
              "      <td>A</td>\n",
              "      <td>IT</td>\n",
              "      <td>F</td>\n",
              "      <td>Father</td>\n",
              "      <td>20</td>\n",
              "      <td>20</td>\n",
              "      <td>3</td>\n",
              "      <td>25</td>\n",
              "      <td>Yes</td>\n",
              "      <td>Good</td>\n",
              "      <td>Under-7</td>\n",
              "      <td>M</td>\n",
              "    </tr>\n",
              "    <tr>\n",
              "      <th>2</th>\n",
              "      <td>M</td>\n",
              "      <td>KW</td>\n",
              "      <td>KuwaIT</td>\n",
              "      <td>lowerlevel</td>\n",
              "      <td>G-04</td>\n",
              "      <td>A</td>\n",
              "      <td>IT</td>\n",
              "      <td>F</td>\n",
              "      <td>Father</td>\n",
              "      <td>10</td>\n",
              "      <td>7</td>\n",
              "      <td>0</td>\n",
              "      <td>30</td>\n",
              "      <td>No</td>\n",
              "      <td>Bad</td>\n",
              "      <td>Above-7</td>\n",
              "      <td>L</td>\n",
              "    </tr>\n",
              "    <tr>\n",
              "      <th>3</th>\n",
              "      <td>M</td>\n",
              "      <td>KW</td>\n",
              "      <td>KuwaIT</td>\n",
              "      <td>lowerlevel</td>\n",
              "      <td>G-04</td>\n",
              "      <td>A</td>\n",
              "      <td>IT</td>\n",
              "      <td>F</td>\n",
              "      <td>Father</td>\n",
              "      <td>30</td>\n",
              "      <td>25</td>\n",
              "      <td>5</td>\n",
              "      <td>35</td>\n",
              "      <td>No</td>\n",
              "      <td>Bad</td>\n",
              "      <td>Above-7</td>\n",
              "      <td>L</td>\n",
              "    </tr>\n",
              "    <tr>\n",
              "      <th>4</th>\n",
              "      <td>M</td>\n",
              "      <td>KW</td>\n",
              "      <td>KuwaIT</td>\n",
              "      <td>lowerlevel</td>\n",
              "      <td>G-04</td>\n",
              "      <td>A</td>\n",
              "      <td>IT</td>\n",
              "      <td>F</td>\n",
              "      <td>Father</td>\n",
              "      <td>40</td>\n",
              "      <td>50</td>\n",
              "      <td>12</td>\n",
              "      <td>50</td>\n",
              "      <td>No</td>\n",
              "      <td>Bad</td>\n",
              "      <td>Above-7</td>\n",
              "      <td>M</td>\n",
              "    </tr>\n",
              "  </tbody>\n",
              "</table>\n",
              "</div>"
            ],
            "text/plain": [
              "  gender NationalITy  ... StudentAbsenceDays Class\n",
              "0      M          KW  ...            Under-7     M\n",
              "1      M          KW  ...            Under-7     M\n",
              "2      M          KW  ...            Above-7     L\n",
              "3      M          KW  ...            Above-7     L\n",
              "4      M          KW  ...            Above-7     M\n",
              "\n",
              "[5 rows x 17 columns]"
            ]
          },
          "metadata": {
            "tags": []
          },
          "execution_count": 3
        }
      ]
    },
    {
      "cell_type": "markdown",
      "metadata": {
        "id": "zAh63XHadiDA",
        "colab_type": "text"
      },
      "source": [
        "1. Gender - student's gender (nominal: 'Male' or 'Female’)\n",
        "\n",
        "2. Nationality- student's nationality (nominal:’ Kuwait’,’ Lebanon’,’ Egypt’,’ SaudiArabia’,’ USA’,’ Jordan’,’Venezuela’,’ Iran’,’ Tunis’,’ Morocco’,’ Syria’,’ Palestine’,’ Iraq’,’ Lybia’)\n",
        "\n",
        "3. Place of birth- student's Place of birth (nominal:’ Kuwait’,’ Lebanon’,’ Egypt’,’ SaudiArabia’,’ USA’,’ Jordan’,’Venezuela’,’ Iran’,’ Tunis’,’ Morocco’,’ Syria’,’ Palestine’,’ Iraq’,’ Lybia’)\n",
        "\n",
        "4. Educational Stages- educational level student belongs (nominal: ‘lowerlevel’,’MiddleSchool’,’HighSchool’)\n",
        "\n",
        "5. Grade Levels- grade student belongs (nominal: ‘G-01’, ‘G-02’, ‘G-03’, ‘G-04’, ‘G-05’, ‘G-06’, ‘G-07’, ‘G-08’, ‘G-09’, ‘G-10’, ‘G-11’, ‘G-12 ‘)\n",
        "\n",
        "6. Section ID- classroom student belongs (nominal:’A’,’B’,’C’)\n",
        "7. Topic- course topic (nominal:’ English’,’ Spanish’, ‘French’,’ Arabic’,’ IT’,’ Math’,’ Chemistry’, ‘Biology’, ‘Science’,’ History’,’ Quran’,’ Geology’)\n",
        "\n",
        "8. Semester- school year semester (nominal:’ First’,’ Second’)\n",
        "\n",
        "9. Parent responsible for student (nominal:’mom’,’father’)\n",
        "\n",
        "10. Raised hand- how many times the student raises his/her hand on classroom (numeric:0-100)\n",
        "\n",
        "11. Visited resources- how many times the student visits a course content(numeric:0-100)\n",
        "\n",
        "12. Viewing announcements-how many times the student checks the new announcements(numeric:0-100)\n",
        "\n",
        "13. Discussion groups- how many times the student participate on discussion groups (numeric:0-100)\n",
        "\n",
        "14. Parent Answering Survey- parent answered the surveys which are provided from school or not\n",
        "(nominal:’Yes’,’No’)\n",
        "\n",
        "15. Parent School Satisfaction- the Degree of parent satisfaction from school(nominal:’Yes’,’No’)\n",
        "\n",
        "16. Student Absence Days-the number of absence days for each student (nominal: above-7, under-7)"
      ]
    },
    {
      "cell_type": "code",
      "metadata": {
        "id": "Nts9tOEic8Cb",
        "colab_type": "code",
        "outputId": "112d874a-f2b8-4a7f-b813-cc8b3b8cbbfe",
        "colab": {
          "base_uri": "https://localhost:8080/",
          "height": 34
        }
      },
      "source": [
        "edu.shape"
      ],
      "execution_count": 4,
      "outputs": [
        {
          "output_type": "execute_result",
          "data": {
            "text/plain": [
              "(480, 17)"
            ]
          },
          "metadata": {
            "tags": []
          },
          "execution_count": 4
        }
      ]
    },
    {
      "cell_type": "code",
      "metadata": {
        "id": "CYD0BOHvc-kz",
        "colab_type": "code",
        "outputId": "f806a786-c4c8-4b80-ba1e-98e2b24f8cbd",
        "colab": {
          "base_uri": "https://localhost:8080/",
          "height": 336
        }
      },
      "source": [
        "edu.dtypes"
      ],
      "execution_count": 5,
      "outputs": [
        {
          "output_type": "execute_result",
          "data": {
            "text/plain": [
              "gender                      object\n",
              "NationalITy                 object\n",
              "PlaceofBirth                object\n",
              "StageID                     object\n",
              "GradeID                     object\n",
              "SectionID                   object\n",
              "Topic                       object\n",
              "Semester                    object\n",
              "Relation                    object\n",
              "raisedhands                  int64\n",
              "VisITedResources             int64\n",
              "AnnouncementsView            int64\n",
              "Discussion                   int64\n",
              "ParentAnsweringSurvey       object\n",
              "ParentschoolSatisfaction    object\n",
              "StudentAbsenceDays          object\n",
              "Class                       object\n",
              "dtype: object"
            ]
          },
          "metadata": {
            "tags": []
          },
          "execution_count": 5
        }
      ]
    },
    {
      "cell_type": "code",
      "metadata": {
        "id": "LkEW2uaDdAbq",
        "colab_type": "code",
        "outputId": "97a107c6-dc6c-4a14-95e2-d9b5738c7106",
        "colab": {
          "base_uri": "https://localhost:8080/",
          "height": 336
        }
      },
      "source": [
        "edu.isnull().sum(axis = 0)"
      ],
      "execution_count": 6,
      "outputs": [
        {
          "output_type": "execute_result",
          "data": {
            "text/plain": [
              "gender                      0\n",
              "NationalITy                 0\n",
              "PlaceofBirth                0\n",
              "StageID                     0\n",
              "GradeID                     0\n",
              "SectionID                   0\n",
              "Topic                       0\n",
              "Semester                    0\n",
              "Relation                    0\n",
              "raisedhands                 0\n",
              "VisITedResources            0\n",
              "AnnouncementsView           0\n",
              "Discussion                  0\n",
              "ParentAnsweringSurvey       0\n",
              "ParentschoolSatisfaction    0\n",
              "StudentAbsenceDays          0\n",
              "Class                       0\n",
              "dtype: int64"
            ]
          },
          "metadata": {
            "tags": []
          },
          "execution_count": 6
        }
      ]
    },
    {
      "cell_type": "code",
      "metadata": {
        "id": "hOFcFCJ3dFJy",
        "colab_type": "code",
        "outputId": "dd589b41-86c2-4aed-b8e1-a7baec2bdcce",
        "colab": {
          "base_uri": "https://localhost:8080/",
          "height": 217
        }
      },
      "source": [
        "# switch binary nominal features into numeric value (0,1) + Class\n",
        "from sklearn.preprocessing import LabelEncoder\n",
        "\n",
        "le = LabelEncoder()\n",
        "edu.iloc[:, np.r_[0,7,8,13,14,15,16]] = edu.iloc[:, np.r_[0,7,8,13,14,15,16]].apply(le.fit_transform) \n",
        "\n",
        "\n",
        "edu.head()"
      ],
      "execution_count": 7,
      "outputs": [
        {
          "output_type": "execute_result",
          "data": {
            "text/html": [
              "<div>\n",
              "<style scoped>\n",
              "    .dataframe tbody tr th:only-of-type {\n",
              "        vertical-align: middle;\n",
              "    }\n",
              "\n",
              "    .dataframe tbody tr th {\n",
              "        vertical-align: top;\n",
              "    }\n",
              "\n",
              "    .dataframe thead th {\n",
              "        text-align: right;\n",
              "    }\n",
              "</style>\n",
              "<table border=\"1\" class=\"dataframe\">\n",
              "  <thead>\n",
              "    <tr style=\"text-align: right;\">\n",
              "      <th></th>\n",
              "      <th>gender</th>\n",
              "      <th>NationalITy</th>\n",
              "      <th>PlaceofBirth</th>\n",
              "      <th>StageID</th>\n",
              "      <th>GradeID</th>\n",
              "      <th>SectionID</th>\n",
              "      <th>Topic</th>\n",
              "      <th>Semester</th>\n",
              "      <th>Relation</th>\n",
              "      <th>raisedhands</th>\n",
              "      <th>VisITedResources</th>\n",
              "      <th>AnnouncementsView</th>\n",
              "      <th>Discussion</th>\n",
              "      <th>ParentAnsweringSurvey</th>\n",
              "      <th>ParentschoolSatisfaction</th>\n",
              "      <th>StudentAbsenceDays</th>\n",
              "      <th>Class</th>\n",
              "    </tr>\n",
              "  </thead>\n",
              "  <tbody>\n",
              "    <tr>\n",
              "      <th>0</th>\n",
              "      <td>1</td>\n",
              "      <td>KW</td>\n",
              "      <td>KuwaIT</td>\n",
              "      <td>lowerlevel</td>\n",
              "      <td>G-04</td>\n",
              "      <td>A</td>\n",
              "      <td>IT</td>\n",
              "      <td>0</td>\n",
              "      <td>0</td>\n",
              "      <td>15</td>\n",
              "      <td>16</td>\n",
              "      <td>2</td>\n",
              "      <td>20</td>\n",
              "      <td>1</td>\n",
              "      <td>1</td>\n",
              "      <td>1</td>\n",
              "      <td>2</td>\n",
              "    </tr>\n",
              "    <tr>\n",
              "      <th>1</th>\n",
              "      <td>1</td>\n",
              "      <td>KW</td>\n",
              "      <td>KuwaIT</td>\n",
              "      <td>lowerlevel</td>\n",
              "      <td>G-04</td>\n",
              "      <td>A</td>\n",
              "      <td>IT</td>\n",
              "      <td>0</td>\n",
              "      <td>0</td>\n",
              "      <td>20</td>\n",
              "      <td>20</td>\n",
              "      <td>3</td>\n",
              "      <td>25</td>\n",
              "      <td>1</td>\n",
              "      <td>1</td>\n",
              "      <td>1</td>\n",
              "      <td>2</td>\n",
              "    </tr>\n",
              "    <tr>\n",
              "      <th>2</th>\n",
              "      <td>1</td>\n",
              "      <td>KW</td>\n",
              "      <td>KuwaIT</td>\n",
              "      <td>lowerlevel</td>\n",
              "      <td>G-04</td>\n",
              "      <td>A</td>\n",
              "      <td>IT</td>\n",
              "      <td>0</td>\n",
              "      <td>0</td>\n",
              "      <td>10</td>\n",
              "      <td>7</td>\n",
              "      <td>0</td>\n",
              "      <td>30</td>\n",
              "      <td>0</td>\n",
              "      <td>0</td>\n",
              "      <td>0</td>\n",
              "      <td>1</td>\n",
              "    </tr>\n",
              "    <tr>\n",
              "      <th>3</th>\n",
              "      <td>1</td>\n",
              "      <td>KW</td>\n",
              "      <td>KuwaIT</td>\n",
              "      <td>lowerlevel</td>\n",
              "      <td>G-04</td>\n",
              "      <td>A</td>\n",
              "      <td>IT</td>\n",
              "      <td>0</td>\n",
              "      <td>0</td>\n",
              "      <td>30</td>\n",
              "      <td>25</td>\n",
              "      <td>5</td>\n",
              "      <td>35</td>\n",
              "      <td>0</td>\n",
              "      <td>0</td>\n",
              "      <td>0</td>\n",
              "      <td>1</td>\n",
              "    </tr>\n",
              "    <tr>\n",
              "      <th>4</th>\n",
              "      <td>1</td>\n",
              "      <td>KW</td>\n",
              "      <td>KuwaIT</td>\n",
              "      <td>lowerlevel</td>\n",
              "      <td>G-04</td>\n",
              "      <td>A</td>\n",
              "      <td>IT</td>\n",
              "      <td>0</td>\n",
              "      <td>0</td>\n",
              "      <td>40</td>\n",
              "      <td>50</td>\n",
              "      <td>12</td>\n",
              "      <td>50</td>\n",
              "      <td>0</td>\n",
              "      <td>0</td>\n",
              "      <td>0</td>\n",
              "      <td>2</td>\n",
              "    </tr>\n",
              "  </tbody>\n",
              "</table>\n",
              "</div>"
            ],
            "text/plain": [
              "   gender NationalITy  ... StudentAbsenceDays Class\n",
              "0       1          KW  ...                  1     2\n",
              "1       1          KW  ...                  1     2\n",
              "2       1          KW  ...                  0     1\n",
              "3       1          KW  ...                  0     1\n",
              "4       1          KW  ...                  0     2\n",
              "\n",
              "[5 rows x 17 columns]"
            ]
          },
          "metadata": {
            "tags": []
          },
          "execution_count": 7
        }
      ]
    },
    {
      "cell_type": "code",
      "metadata": {
        "id": "JRUa0LfqTSFx",
        "colab_type": "code",
        "colab": {
          "base_uri": "https://localhost:8080/",
          "height": 34
        },
        "outputId": "603a0f43-cda2-4e1f-9401-ab4ea573dad7"
      },
      "source": [
        "from sklearn.model_selection import train_test_split\n",
        "from keras.utils import np_utils\n",
        "\n",
        "X = edu.drop(columns = 'Class', axis = 1)\n",
        "y = np_utils.to_categorical(edu.Class)\n",
        "\n",
        "# multiple discrete features - One hot encoding\n",
        "X = pd.get_dummies(X)\n",
        "\n",
        "\n",
        "train_X, test_X, train_y, test_y = train_test_split(X, y, test_size = 0.3, random_state = 0)"
      ],
      "execution_count": 8,
      "outputs": [
        {
          "output_type": "stream",
          "text": [
            "Using TensorFlow backend.\n"
          ],
          "name": "stderr"
        }
      ]
    },
    {
      "cell_type": "code",
      "metadata": {
        "id": "twu8l0-hcCRq",
        "colab_type": "code",
        "outputId": "51734d44-d0d6-40d2-c06a-5dda96c3dd3a",
        "colab": {
          "base_uri": "https://localhost:8080/",
          "height": 34
        }
      },
      "source": [
        "train_X.shape"
      ],
      "execution_count": 9,
      "outputs": [
        {
          "output_type": "execute_result",
          "data": {
            "text/plain": [
              "(336, 66)"
            ]
          },
          "metadata": {
            "tags": []
          },
          "execution_count": 9
        }
      ]
    },
    {
      "cell_type": "code",
      "metadata": {
        "id": "hckjuYksSV8E",
        "colab_type": "code",
        "colab": {}
      },
      "source": [
        "# Normalization\n",
        "from sklearn.preprocessing import StandardScaler\n",
        "\n",
        "sc = StandardScaler()\n",
        "sc.fit(train_X)\n",
        "\n",
        "train_X = sc.transform(train_X)\n",
        "test_X = sc.transform(test_X)"
      ],
      "execution_count": 0,
      "outputs": []
    },
    {
      "cell_type": "code",
      "metadata": {
        "id": "8DXbz9xyUexQ",
        "colab_type": "code",
        "colab": {}
      },
      "source": [
        "import keras\n",
        "from keras.models import Sequential\n",
        "from keras.layers import Dense"
      ],
      "execution_count": 0,
      "outputs": []
    },
    {
      "cell_type": "code",
      "metadata": {
        "id": "1ApstYn-Uhjd",
        "colab_type": "code",
        "colab": {}
      },
      "source": [
        "classifier = Sequential()\n",
        "classifier.add(Dense(10, input_dim = 66, activation= \"relu\"))\n",
        "classifier.add(Dense(10, activation= \"relu\"))\n",
        "classifier.add(Dense(3, activation= \"softmax\"))\n",
        "\n",
        "classifier.compile(optimizer = \"adam\",  loss = \"categorical_crossentropy\", metrics = [\"accuracy\"])"
      ],
      "execution_count": 0,
      "outputs": []
    },
    {
      "cell_type": "code",
      "metadata": {
        "id": "lkn7HScIVLZw",
        "colab_type": "code",
        "outputId": "0658f531-3269-4e37-ea88-4a8af4ce65cd",
        "colab": {
          "base_uri": "https://localhost:8080/",
          "height": 1000
        }
      },
      "source": [
        "# weight(W) start with random number\n",
        "history = classifier.fit(train_X, train_y, epochs=100, batch_size=100)\n",
        "history"
      ],
      "execution_count": 32,
      "outputs": [
        {
          "output_type": "stream",
          "text": [
            "Epoch 1/100\n",
            "336/336 [==============================] - 0s 30us/step - loss: 0.3505 - accuracy: 0.8899\n",
            "Epoch 2/100\n",
            "336/336 [==============================] - 0s 42us/step - loss: 0.3484 - accuracy: 0.8869\n",
            "Epoch 3/100\n",
            "336/336 [==============================] - 0s 25us/step - loss: 0.3457 - accuracy: 0.8869\n",
            "Epoch 4/100\n",
            "336/336 [==============================] - 0s 30us/step - loss: 0.3432 - accuracy: 0.8929\n",
            "Epoch 5/100\n",
            "336/336 [==============================] - 0s 27us/step - loss: 0.3410 - accuracy: 0.8929\n",
            "Epoch 6/100\n",
            "336/336 [==============================] - 0s 25us/step - loss: 0.3389 - accuracy: 0.8929\n",
            "Epoch 7/100\n",
            "336/336 [==============================] - 0s 28us/step - loss: 0.3368 - accuracy: 0.8958\n",
            "Epoch 8/100\n",
            "336/336 [==============================] - 0s 26us/step - loss: 0.3347 - accuracy: 0.8958\n",
            "Epoch 9/100\n",
            "336/336 [==============================] - 0s 24us/step - loss: 0.3326 - accuracy: 0.8958\n",
            "Epoch 10/100\n",
            "336/336 [==============================] - 0s 31us/step - loss: 0.3301 - accuracy: 0.8988\n",
            "Epoch 11/100\n",
            "336/336 [==============================] - 0s 26us/step - loss: 0.3284 - accuracy: 0.8988\n",
            "Epoch 12/100\n",
            "336/336 [==============================] - 0s 28us/step - loss: 0.3264 - accuracy: 0.8988\n",
            "Epoch 13/100\n",
            "336/336 [==============================] - 0s 27us/step - loss: 0.3241 - accuracy: 0.8988\n",
            "Epoch 14/100\n",
            "336/336 [==============================] - 0s 25us/step - loss: 0.3224 - accuracy: 0.8988\n",
            "Epoch 15/100\n",
            "336/336 [==============================] - 0s 29us/step - loss: 0.3203 - accuracy: 0.8988\n",
            "Epoch 16/100\n",
            "336/336 [==============================] - 0s 30us/step - loss: 0.3182 - accuracy: 0.8988\n",
            "Epoch 17/100\n",
            "336/336 [==============================] - 0s 34us/step - loss: 0.3166 - accuracy: 0.9048\n",
            "Epoch 18/100\n",
            "336/336 [==============================] - 0s 30us/step - loss: 0.3148 - accuracy: 0.9048\n",
            "Epoch 19/100\n",
            "336/336 [==============================] - 0s 31us/step - loss: 0.3129 - accuracy: 0.9018\n",
            "Epoch 20/100\n",
            "336/336 [==============================] - 0s 31us/step - loss: 0.3109 - accuracy: 0.9018\n",
            "Epoch 21/100\n",
            "336/336 [==============================] - 0s 29us/step - loss: 0.3093 - accuracy: 0.9018\n",
            "Epoch 22/100\n",
            "336/336 [==============================] - 0s 35us/step - loss: 0.3077 - accuracy: 0.9048\n",
            "Epoch 23/100\n",
            "336/336 [==============================] - 0s 35us/step - loss: 0.3057 - accuracy: 0.9048\n",
            "Epoch 24/100\n",
            "336/336 [==============================] - 0s 33us/step - loss: 0.3040 - accuracy: 0.9048\n",
            "Epoch 25/100\n",
            "336/336 [==============================] - 0s 29us/step - loss: 0.3021 - accuracy: 0.9077\n",
            "Epoch 26/100\n",
            "336/336 [==============================] - 0s 34us/step - loss: 0.3002 - accuracy: 0.9048\n",
            "Epoch 27/100\n",
            "336/336 [==============================] - 0s 35us/step - loss: 0.2985 - accuracy: 0.9077\n",
            "Epoch 28/100\n",
            "336/336 [==============================] - 0s 41us/step - loss: 0.2969 - accuracy: 0.9077\n",
            "Epoch 29/100\n",
            "336/336 [==============================] - 0s 34us/step - loss: 0.2951 - accuracy: 0.9048\n",
            "Epoch 30/100\n",
            "336/336 [==============================] - 0s 36us/step - loss: 0.2927 - accuracy: 0.9048\n",
            "Epoch 31/100\n",
            "336/336 [==============================] - 0s 32us/step - loss: 0.2904 - accuracy: 0.9048\n",
            "Epoch 32/100\n",
            "336/336 [==============================] - 0s 34us/step - loss: 0.2873 - accuracy: 0.9018\n",
            "Epoch 33/100\n",
            "336/336 [==============================] - 0s 43us/step - loss: 0.2852 - accuracy: 0.8988\n",
            "Epoch 34/100\n",
            "336/336 [==============================] - 0s 31us/step - loss: 0.2834 - accuracy: 0.9077\n",
            "Epoch 35/100\n",
            "336/336 [==============================] - 0s 30us/step - loss: 0.2810 - accuracy: 0.9107\n",
            "Epoch 36/100\n",
            "336/336 [==============================] - 0s 32us/step - loss: 0.2792 - accuracy: 0.9167\n",
            "Epoch 37/100\n",
            "336/336 [==============================] - 0s 25us/step - loss: 0.2775 - accuracy: 0.9196\n",
            "Epoch 38/100\n",
            "336/336 [==============================] - 0s 27us/step - loss: 0.2759 - accuracy: 0.9167\n",
            "Epoch 39/100\n",
            "336/336 [==============================] - 0s 30us/step - loss: 0.2740 - accuracy: 0.9137\n",
            "Epoch 40/100\n",
            "336/336 [==============================] - 0s 27us/step - loss: 0.2726 - accuracy: 0.9137\n",
            "Epoch 41/100\n",
            "336/336 [==============================] - 0s 28us/step - loss: 0.2711 - accuracy: 0.9107\n",
            "Epoch 42/100\n",
            "336/336 [==============================] - 0s 24us/step - loss: 0.2695 - accuracy: 0.9107\n",
            "Epoch 43/100\n",
            "336/336 [==============================] - 0s 28us/step - loss: 0.2680 - accuracy: 0.9137\n",
            "Epoch 44/100\n",
            "336/336 [==============================] - 0s 27us/step - loss: 0.2668 - accuracy: 0.9137\n",
            "Epoch 45/100\n",
            "336/336 [==============================] - 0s 30us/step - loss: 0.2653 - accuracy: 0.9167\n",
            "Epoch 46/100\n",
            "336/336 [==============================] - 0s 26us/step - loss: 0.2636 - accuracy: 0.9167\n",
            "Epoch 47/100\n",
            "336/336 [==============================] - 0s 23us/step - loss: 0.2623 - accuracy: 0.9167\n",
            "Epoch 48/100\n",
            "336/336 [==============================] - 0s 24us/step - loss: 0.2613 - accuracy: 0.9167\n",
            "Epoch 49/100\n",
            "336/336 [==============================] - 0s 24us/step - loss: 0.2601 - accuracy: 0.9167\n",
            "Epoch 50/100\n",
            "336/336 [==============================] - 0s 25us/step - loss: 0.2588 - accuracy: 0.9167\n",
            "Epoch 51/100\n",
            "336/336 [==============================] - 0s 28us/step - loss: 0.2575 - accuracy: 0.9196\n",
            "Epoch 52/100\n",
            "336/336 [==============================] - 0s 25us/step - loss: 0.2561 - accuracy: 0.9137\n",
            "Epoch 53/100\n",
            "336/336 [==============================] - 0s 29us/step - loss: 0.2548 - accuracy: 0.9167\n",
            "Epoch 54/100\n",
            "336/336 [==============================] - 0s 27us/step - loss: 0.2533 - accuracy: 0.9167\n",
            "Epoch 55/100\n",
            "336/336 [==============================] - 0s 29us/step - loss: 0.2519 - accuracy: 0.9196\n",
            "Epoch 56/100\n",
            "336/336 [==============================] - 0s 29us/step - loss: 0.2506 - accuracy: 0.9196\n",
            "Epoch 57/100\n",
            "336/336 [==============================] - 0s 23us/step - loss: 0.2494 - accuracy: 0.9226\n",
            "Epoch 58/100\n",
            "336/336 [==============================] - 0s 26us/step - loss: 0.2481 - accuracy: 0.9226\n",
            "Epoch 59/100\n",
            "336/336 [==============================] - 0s 26us/step - loss: 0.2471 - accuracy: 0.9226\n",
            "Epoch 60/100\n",
            "336/336 [==============================] - 0s 25us/step - loss: 0.2461 - accuracy: 0.9226\n",
            "Epoch 61/100\n",
            "336/336 [==============================] - 0s 24us/step - loss: 0.2447 - accuracy: 0.9226\n",
            "Epoch 62/100\n",
            "336/336 [==============================] - 0s 29us/step - loss: 0.2435 - accuracy: 0.9167\n",
            "Epoch 63/100\n",
            "336/336 [==============================] - 0s 27us/step - loss: 0.2426 - accuracy: 0.9196\n",
            "Epoch 64/100\n",
            "336/336 [==============================] - 0s 24us/step - loss: 0.2414 - accuracy: 0.9196\n",
            "Epoch 65/100\n",
            "336/336 [==============================] - 0s 24us/step - loss: 0.2403 - accuracy: 0.9196\n",
            "Epoch 66/100\n",
            "336/336 [==============================] - 0s 24us/step - loss: 0.2390 - accuracy: 0.9196\n",
            "Epoch 67/100\n",
            "336/336 [==============================] - 0s 26us/step - loss: 0.2381 - accuracy: 0.9167\n",
            "Epoch 68/100\n",
            "336/336 [==============================] - 0s 25us/step - loss: 0.2370 - accuracy: 0.9167\n",
            "Epoch 69/100\n",
            "336/336 [==============================] - 0s 26us/step - loss: 0.2357 - accuracy: 0.9196\n",
            "Epoch 70/100\n",
            "336/336 [==============================] - 0s 24us/step - loss: 0.2348 - accuracy: 0.9226\n",
            "Epoch 71/100\n",
            "336/336 [==============================] - 0s 28us/step - loss: 0.2336 - accuracy: 0.9256\n",
            "Epoch 72/100\n",
            "336/336 [==============================] - 0s 27us/step - loss: 0.2324 - accuracy: 0.9256\n",
            "Epoch 73/100\n",
            "336/336 [==============================] - 0s 27us/step - loss: 0.2316 - accuracy: 0.9286\n",
            "Epoch 74/100\n",
            "336/336 [==============================] - 0s 29us/step - loss: 0.2301 - accuracy: 0.9286\n",
            "Epoch 75/100\n",
            "336/336 [==============================] - 0s 33us/step - loss: 0.2290 - accuracy: 0.9315\n",
            "Epoch 76/100\n",
            "336/336 [==============================] - 0s 34us/step - loss: 0.2280 - accuracy: 0.9315\n",
            "Epoch 77/100\n",
            "336/336 [==============================] - 0s 25us/step - loss: 0.2269 - accuracy: 0.9345\n",
            "Epoch 78/100\n",
            "336/336 [==============================] - 0s 30us/step - loss: 0.2258 - accuracy: 0.9345\n",
            "Epoch 79/100\n",
            "336/336 [==============================] - 0s 26us/step - loss: 0.2250 - accuracy: 0.9345\n",
            "Epoch 80/100\n",
            "336/336 [==============================] - 0s 26us/step - loss: 0.2241 - accuracy: 0.9315\n",
            "Epoch 81/100\n",
            "336/336 [==============================] - 0s 29us/step - loss: 0.2229 - accuracy: 0.9315\n",
            "Epoch 82/100\n",
            "336/336 [==============================] - 0s 24us/step - loss: 0.2218 - accuracy: 0.9375\n",
            "Epoch 83/100\n",
            "336/336 [==============================] - 0s 44us/step - loss: 0.2208 - accuracy: 0.9375\n",
            "Epoch 84/100\n",
            "336/336 [==============================] - 0s 22us/step - loss: 0.2200 - accuracy: 0.9375\n",
            "Epoch 85/100\n",
            "336/336 [==============================] - 0s 22us/step - loss: 0.2191 - accuracy: 0.9375\n",
            "Epoch 86/100\n",
            "336/336 [==============================] - 0s 33us/step - loss: 0.2175 - accuracy: 0.9345\n",
            "Epoch 87/100\n",
            "336/336 [==============================] - 0s 25us/step - loss: 0.2168 - accuracy: 0.9345\n",
            "Epoch 88/100\n",
            "336/336 [==============================] - 0s 29us/step - loss: 0.2157 - accuracy: 0.9345\n",
            "Epoch 89/100\n",
            "336/336 [==============================] - 0s 25us/step - loss: 0.2145 - accuracy: 0.9345\n",
            "Epoch 90/100\n",
            "336/336 [==============================] - 0s 24us/step - loss: 0.2136 - accuracy: 0.9345\n",
            "Epoch 91/100\n",
            "336/336 [==============================] - 0s 24us/step - loss: 0.2123 - accuracy: 0.9345\n",
            "Epoch 92/100\n",
            "336/336 [==============================] - 0s 25us/step - loss: 0.2115 - accuracy: 0.9345\n",
            "Epoch 93/100\n",
            "336/336 [==============================] - 0s 25us/step - loss: 0.2102 - accuracy: 0.9345\n",
            "Epoch 94/100\n",
            "336/336 [==============================] - 0s 30us/step - loss: 0.2095 - accuracy: 0.9315\n",
            "Epoch 95/100\n",
            "336/336 [==============================] - 0s 27us/step - loss: 0.2082 - accuracy: 0.9345\n",
            "Epoch 96/100\n",
            "336/336 [==============================] - 0s 30us/step - loss: 0.2071 - accuracy: 0.9405\n",
            "Epoch 97/100\n",
            "336/336 [==============================] - 0s 34us/step - loss: 0.2062 - accuracy: 0.9405\n",
            "Epoch 98/100\n",
            "336/336 [==============================] - 0s 29us/step - loss: 0.2053 - accuracy: 0.9405\n",
            "Epoch 99/100\n",
            "336/336 [==============================] - 0s 36us/step - loss: 0.2043 - accuracy: 0.9405\n",
            "Epoch 100/100\n",
            "336/336 [==============================] - 0s 29us/step - loss: 0.2033 - accuracy: 0.9405\n"
          ],
          "name": "stdout"
        },
        {
          "output_type": "execute_result",
          "data": {
            "text/plain": [
              "<keras.callbacks.callbacks.History at 0x7f1363a32d30>"
            ]
          },
          "metadata": {
            "tags": []
          },
          "execution_count": 32
        }
      ]
    },
    {
      "cell_type": "code",
      "metadata": {
        "id": "7cvxImTLcv8F",
        "colab_type": "code",
        "colab": {
          "base_uri": "https://localhost:8080/",
          "height": 294
        },
        "outputId": "07c624a6-9683-4b32-e9dc-298b4a3078e4"
      },
      "source": [
        "import matplotlib.pyplot as plt\n",
        "\n",
        "plt.plot(history.history['accuracy'])\n",
        "plt.title('Model accuracy')\n",
        "plt.ylabel('Accuracy')\n",
        "plt.xlabel('Epoch')\n",
        "plt.show()"
      ],
      "execution_count": 34,
      "outputs": [
        {
          "output_type": "display_data",
          "data": {
            "image/png": "[encoded data removed]",
            "text/plain": [
              "<Figure size 432x288 with 1 Axes>"
            ]
          },
          "metadata": {
            "tags": [],
            "needs_background": "light"
          }
        }
      ]
    }
  ]
}