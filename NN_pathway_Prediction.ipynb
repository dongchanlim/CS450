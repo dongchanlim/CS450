{
  "nbformat": 4,
  "nbformat_minor": 0,
  "metadata": {
    "colab": {
      "name": "NN pathway Prediction.ipynb",
      "provenance": [],
      "collapsed_sections": [],
      "authorship_tag": "ABX9TyMEW4AkyJz5WPZC9YBaoSjK",
      "include_colab_link": true
    },
    "kernelspec": {
      "name": "python3",
      "display_name": "Python 3"
    }
  },
  "cells": [
    {
      "cell_type": "markdown",
      "metadata": {
        "id": "view-in-github",
        "colab_type": "text"
      },
      "source": [
        "<a href=\"https://colab.research.google.com/github/dongchanlim/CS450/blob/master/NN_pathway_Prediction.ipynb\" target=\"_parent\"><img src=\"https://colab.research.google.com/assets/colab-badge.svg\" alt=\"Open In Colab\"/></a>"
      ]
    },
    {
      "cell_type": "code",
      "metadata": {
        "id": "eNKx25kvnPLc",
        "colab_type": "code",
        "colab": {
          "resources": {
            "http://localhost:8080/nbextensions/google.colab/files.js": {
              "data": "Ly8gQ29weXJpZ2h0IDIwMTcgR29vZ2xlIExMQwovLwovLyBMaWNlbnNlZCB1bmRlciB0aGUgQXBhY2hlIExpY2Vuc2UsIFZlcnNpb24gMi4wICh0aGUgIkxpY2Vuc2UiKTsKLy8geW91IG1heSBub3QgdXNlIHRoaXMgZmlsZSBleGNlcHQgaW4gY29tcGxpYW5jZSB3aXRoIHRoZSBMaWNlbnNlLgovLyBZb3UgbWF5IG9idGFpbiBhIGNvcHkgb2YgdGhlIExpY2Vuc2UgYXQKLy8KLy8gICAgICBodHRwOi8vd3d3LmFwYWNoZS5vcmcvbGljZW5zZXMvTElDRU5TRS0yLjAKLy8KLy8gVW5sZXNzIHJlcXVpcmVkIGJ5IGFwcGxpY2FibGUgbGF3IG9yIGFncmVlZCB0byBpbiB3cml0aW5nLCBzb2Z0d2FyZQovLyBkaXN0cmlidXRlZCB1bmRlciB0aGUgTGljZW5zZSBpcyBkaXN0cmlidXRlZCBvbiBhbiAiQVMgSVMiIEJBU0lTLAovLyBXSVRIT1VUIFdBUlJBTlRJRVMgT1IgQ09ORElUSU9OUyBPRiBBTlkgS0lORCwgZWl0aGVyIGV4cHJlc3Mgb3IgaW1wbGllZC4KLy8gU2VlIHRoZSBMaWNlbnNlIGZvciB0aGUgc3BlY2lmaWMgbGFuZ3VhZ2UgZ292ZXJuaW5nIHBlcm1pc3Npb25zIGFuZAovLyBsaW1pdGF0aW9ucyB1bmRlciB0aGUgTGljZW5zZS4KCi8qKgogKiBAZmlsZW92ZXJ2aWV3IEhlbHBlcnMgZm9yIGdvb2dsZS5jb2xhYiBQeXRob24gbW9kdWxlLgogKi8KKGZ1bmN0aW9uKHNjb3BlKSB7CmZ1bmN0aW9uIHNwYW4odGV4dCwgc3R5bGVBdHRyaWJ1dGVzID0ge30pIHsKICBjb25zdCBlbGVtZW50ID0gZG9jdW1lbnQuY3JlYXRlRWxlbWVudCgnc3BhbicpOwogIGVsZW1lbnQudGV4dENvbnRlbnQgPSB0ZXh0OwogIGZvciAoY29uc3Qga2V5IG9mIE9iamVjdC5rZXlzKHN0eWxlQXR0cmlidXRlcykpIHsKICAgIGVsZW1lbnQuc3R5bGVba2V5XSA9IHN0eWxlQXR0cmlidXRlc1trZXldOwogIH0KICByZXR1cm4gZWxlbWVudDsKfQoKLy8gTWF4IG51bWJlciBvZiBieXRlcyB3aGljaCB3aWxsIGJlIHVwbG9hZGVkIGF0IGEgdGltZS4KY29uc3QgTUFYX1BBWUxPQURfU0laRSA9IDEwMCAqIDEwMjQ7CgpmdW5jdGlvbiBfdXBsb2FkRmlsZXMoaW5wdXRJZCwgb3V0cHV0SWQpIHsKICBjb25zdCBzdGVwcyA9IHVwbG9hZEZpbGVzU3RlcChpbnB1dElkLCBvdXRwdXRJZCk7CiAgY29uc3Qgb3V0cHV0RWxlbWVudCA9IGRvY3VtZW50LmdldEVsZW1lbnRCeUlkKG91dHB1dElkKTsKICAvLyBDYWNoZSBzdGVwcyBvbiB0aGUgb3V0cHV0RWxlbWVudCB0byBtYWtlIGl0IGF2YWlsYWJsZSBmb3IgdGhlIG5leHQgY2FsbAogIC8vIHRvIHVwbG9hZEZpbGVzQ29udGludWUgZnJvbSBQeXRob24uCiAgb3V0cHV0RWxlbWVudC5zdGVwcyA9IHN0ZXBzOwoKICByZXR1cm4gX3VwbG9hZEZpbGVzQ29udGludWUob3V0cHV0SWQpOwp9CgovLyBUaGlzIGlzIHJvdWdobHkgYW4gYXN5bmMgZ2VuZXJhdG9yIChub3Qgc3VwcG9ydGVkIGluIHRoZSBicm93c2VyIHlldCksCi8vIHdoZXJlIHRoZXJlIGFyZSBtdWx0aXBsZSBhc3luY2hyb25vdXMgc3RlcHMgYW5kIHRoZSBQeXRob24gc2lkZSBpcyBnb2luZwovLyB0byBwb2xsIGZvciBjb21wbGV0aW9uIG9mIGVhY2ggc3RlcC4KLy8gVGhpcyB1c2VzIGEgUHJvbWlzZSB0byBibG9jayB0aGUgcHl0aG9uIHNpZGUgb24gY29tcGxldGlvbiBvZiBlYWNoIHN0ZXAsCi8vIHRoZW4gcGFzc2VzIHRoZSByZXN1bHQgb2YgdGhlIHByZXZpb3VzIHN0ZXAgYXMgdGhlIGlucHV0IHRvIHRoZSBuZXh0IHN0ZXAuCmZ1bmN0aW9uIF91cGxvYWRGaWxlc0NvbnRpbnVlKG91dHB1dElkKSB7CiAgY29uc3Qgb3V0cHV0RWxlbWVudCA9IGRvY3VtZW50LmdldEVsZW1lbnRCeUlkKG91dHB1dElkKTsKICBjb25zdCBzdGVwcyA9IG91dHB1dEVsZW1lbnQuc3RlcHM7CgogIGNvbnN0IG5leHQgPSBzdGVwcy5uZXh0KG91dHB1dEVsZW1lbnQubGFzdFByb21pc2VWYWx1ZSk7CiAgcmV0dXJuIFByb21pc2UucmVzb2x2ZShuZXh0LnZhbHVlLnByb21pc2UpLnRoZW4oKHZhbHVlKSA9PiB7CiAgICAvLyBDYWNoZSB0aGUgbGFzdCBwcm9taXNlIHZhbHVlIHRvIG1ha2UgaXQgYXZhaWxhYmxlIHRvIHRoZSBuZXh0CiAgICAvLyBzdGVwIG9mIHRoZSBnZW5lcmF0b3IuCiAgICBvdXRwdXRFbGVtZW50Lmxhc3RQcm9taXNlVmFsdWUgPSB2YWx1ZTsKICAgIHJldHVybiBuZXh0LnZhbHVlLnJlc3BvbnNlOwogIH0pOwp9CgovKioKICogR2VuZXJhdG9yIGZ1bmN0aW9uIHdoaWNoIGlzIGNhbGxlZCBiZXR3ZWVuIGVhY2ggYXN5bmMgc3RlcCBvZiB0aGUgdXBsb2FkCiAqIHByb2Nlc3MuCiAqIEBwYXJhbSB7c3RyaW5nfSBpbnB1dElkIEVsZW1lbnQgSUQgb2YgdGhlIGlucHV0IGZpbGUgcGlja2VyIGVsZW1lbnQuCiAqIEBwYXJhbSB7c3RyaW5nfSBvdXRwdXRJZCBFbGVtZW50IElEIG9mIHRoZSBvdXRwdXQgZGlzcGxheS4KICogQHJldHVybiB7IUl0ZXJhYmxlPCFPYmplY3Q+fSBJdGVyYWJsZSBvZiBuZXh0IHN0ZXBzLgogKi8KZnVuY3Rpb24qIHVwbG9hZEZpbGVzU3RlcChpbnB1dElkLCBvdXRwdXRJZCkgewogIGNvbnN0IGlucHV0RWxlbWVudCA9IGRvY3VtZW50LmdldEVsZW1lbnRCeUlkKGlucHV0SWQpOwogIGlucHV0RWxlbWVudC5kaXNhYmxlZCA9IGZhbHNlOwoKICBjb25zdCBvdXRwdXRFbGVtZW50ID0gZG9jdW1lbnQuZ2V0RWxlbWVudEJ5SWQob3V0cHV0SWQpOwogIG91dHB1dEVsZW1lbnQuaW5uZXJIVE1MID0gJyc7CgogIGNvbnN0IHBpY2tlZFByb21pc2UgPSBuZXcgUHJvbWlzZSgocmVzb2x2ZSkgPT4gewogICAgaW5wdXRFbGVtZW50LmFkZEV2ZW50TGlzdGVuZXIoJ2NoYW5nZScsIChlKSA9PiB7CiAgICAgIHJlc29sdmUoZS50YXJnZXQuZmlsZXMpOwogICAgfSk7CiAgfSk7CgogIGNvbnN0IGNhbmNlbCA9IGRvY3VtZW50LmNyZWF0ZUVsZW1lbnQoJ2J1dHRvbicpOwogIGlucHV0RWxlbWVudC5wYXJlbnRFbGVtZW50LmFwcGVuZENoaWxkKGNhbmNlbCk7CiAgY2FuY2VsLnRleHRDb250ZW50ID0gJ0NhbmNlbCB1cGxvYWQnOwogIGNvbnN0IGNhbmNlbFByb21pc2UgPSBuZXcgUHJvbWlzZSgocmVzb2x2ZSkgPT4gewogICAgY2FuY2VsLm9uY2xpY2sgPSAoKSA9PiB7CiAgICAgIHJlc29sdmUobnVsbCk7CiAgICB9OwogIH0pOwoKICAvLyBXYWl0IGZvciB0aGUgdXNlciB0byBwaWNrIHRoZSBmaWxlcy4KICBjb25zdCBmaWxlcyA9IHlpZWxkIHsKICAgIHByb21pc2U6IFByb21pc2UucmFjZShbcGlja2VkUHJvbWlzZSwgY2FuY2VsUHJvbWlzZV0pLAogICAgcmVzcG9uc2U6IHsKICAgICAgYWN0aW9uOiAnc3RhcnRpbmcnLAogICAgfQogIH07CgogIGNhbmNlbC5yZW1vdmUoKTsKCiAgLy8gRGlzYWJsZSB0aGUgaW5wdXQgZWxlbWVudCBzaW5jZSBmdXJ0aGVyIHBpY2tzIGFyZSBub3QgYWxsb3dlZC4KICBpbnB1dEVsZW1lbnQuZGlzYWJsZWQgPSB0cnVlOwoKICBpZiAoIWZpbGVzKSB7CiAgICByZXR1cm4gewogICAgICByZXNwb25zZTogewogICAgICAgIGFjdGlvbjogJ2NvbXBsZXRlJywKICAgICAgfQogICAgfTsKICB9CgogIGZvciAoY29uc3QgZmlsZSBvZiBmaWxlcykgewogICAgY29uc3QgbGkgPSBkb2N1bWVudC5jcmVhdGVFbGVtZW50KCdsaScpOwogICAgbGkuYXBwZW5kKHNwYW4oZmlsZS5uYW1lLCB7Zm9udFdlaWdodDogJ2JvbGQnfSkpOwogICAgbGkuYXBwZW5kKHNwYW4oCiAgICAgICAgYCgke2ZpbGUudHlwZSB8fCAnbi9hJ30pIC0gJHtmaWxlLnNpemV9IGJ5dGVzLCBgICsKICAgICAgICBgbGFzdCBtb2RpZmllZDogJHsKICAgICAgICAgICAgZmlsZS5sYXN0TW9kaWZpZWREYXRlID8gZmlsZS5sYXN0TW9kaWZpZWREYXRlLnRvTG9jYWxlRGF0ZVN0cmluZygpIDoKICAgICAgICAgICAgICAgICAgICAgICAgICAgICAgICAgICAgJ24vYSd9IC0gYCkpOwogICAgY29uc3QgcGVyY2VudCA9IHNwYW4oJzAlIGRvbmUnKTsKICAgIGxpLmFwcGVuZENoaWxkKHBlcmNlbnQpOwoKICAgIG91dHB1dEVsZW1lbnQuYXBwZW5kQ2hpbGQobGkpOwoKICAgIGNvbnN0IGZpbGVEYXRhUHJvbWlzZSA9IG5ldyBQcm9taXNlKChyZXNvbHZlKSA9PiB7CiAgICAgIGNvbnN0IHJlYWRlciA9IG5ldyBGaWxlUmVhZGVyKCk7CiAgICAgIHJlYWRlci5vbmxvYWQgPSAoZSkgPT4gewogICAgICAgIHJlc29sdmUoZS50YXJnZXQucmVzdWx0KTsKICAgICAgfTsKICAgICAgcmVhZGVyLnJlYWRBc0FycmF5QnVmZmVyKGZpbGUpOwogICAgfSk7CiAgICAvLyBXYWl0IGZvciB0aGUgZGF0YSB0byBiZSByZWFkeS4KICAgIGxldCBmaWxlRGF0YSA9IHlpZWxkIHsKICAgICAgcHJvbWlzZTogZmlsZURhdGFQcm9taXNlLAogICAgICByZXNwb25zZTogewogICAgICAgIGFjdGlvbjogJ2NvbnRpbnVlJywKICAgICAgfQogICAgfTsKCiAgICAvLyBVc2UgYSBjaHVua2VkIHNlbmRpbmcgdG8gYXZvaWQgbWVzc2FnZSBzaXplIGxpbWl0cy4gU2VlIGIvNjIxMTU2NjAuCiAgICBsZXQgcG9zaXRpb24gPSAwOwogICAgd2hpbGUgKHBvc2l0aW9uIDwgZmlsZURhdGEuYnl0ZUxlbmd0aCkgewogICAgICBjb25zdCBsZW5ndGggPSBNYXRoLm1pbihmaWxlRGF0YS5ieXRlTGVuZ3RoIC0gcG9zaXRpb24sIE1BWF9QQVlMT0FEX1NJWkUpOwogICAgICBjb25zdCBjaHVuayA9IG5ldyBVaW50OEFycmF5KGZpbGVEYXRhLCBwb3NpdGlvbiwgbGVuZ3RoKTsKICAgICAgcG9zaXRpb24gKz0gbGVuZ3RoOwoKICAgICAgY29uc3QgYmFzZTY0ID0gYnRvYShTdHJpbmcuZnJvbUNoYXJDb2RlLmFwcGx5KG51bGwsIGNodW5rKSk7CiAgICAgIHlpZWxkIHsKICAgICAgICByZXNwb25zZTogewogICAgICAgICAgYWN0aW9uOiAnYXBwZW5kJywKICAgICAgICAgIGZpbGU6IGZpbGUubmFtZSwKICAgICAgICAgIGRhdGE6IGJhc2U2NCwKICAgICAgICB9LAogICAgICB9OwogICAgICBwZXJjZW50LnRleHRDb250ZW50ID0KICAgICAgICAgIGAke01hdGgucm91bmQoKHBvc2l0aW9uIC8gZmlsZURhdGEuYnl0ZUxlbmd0aCkgKiAxMDApfSUgZG9uZWA7CiAgICB9CiAgfQoKICAvLyBBbGwgZG9uZS4KICB5aWVsZCB7CiAgICByZXNwb25zZTogewogICAgICBhY3Rpb246ICdjb21wbGV0ZScsCiAgICB9CiAgfTsKfQoKc2NvcGUuZ29vZ2xlID0gc2NvcGUuZ29vZ2xlIHx8IHt9OwpzY29wZS5nb29nbGUuY29sYWIgPSBzY29wZS5nb29nbGUuY29sYWIgfHwge307CnNjb3BlLmdvb2dsZS5jb2xhYi5fZmlsZXMgPSB7CiAgX3VwbG9hZEZpbGVzLAogIF91cGxvYWRGaWxlc0NvbnRpbnVlLAp9Owp9KShzZWxmKTsK",
              "ok": true,
              "headers": [
                [
                  "content-type",
                  "application/javascript"
                ]
              ],
              "status": 200,
              "status_text": ""
            }
          },
          "base_uri": "https://localhost:8080/",
          "height": 73
        },
        "outputId": "13e19efc-c960-4432-c64c-eb8dafb61354"
      },
      "source": [
        "from google.colab import files\n",
        "import pandas as pd\n",
        "import numpy as np\n",
        "\n",
        "file = files.upload()"
      ],
      "execution_count": 1,
      "outputs": [
        {
          "output_type": "display_data",
          "data": {
            "text/html": [
              "\n",
              "     <input type=\"file\" id=\"files-5410d1f6-293b-48c5-a415-06aec8dca3e0\" name=\"files[]\" multiple disabled\n",
              "        style=\"border:none\" />\n",
              "     <output id=\"result-5410d1f6-293b-48c5-a415-06aec8dca3e0\">\n",
              "      Upload widget is only available when the cell has been executed in the\n",
              "      current browser session. Please rerun this cell to enable.\n",
              "      </output>\n",
              "      <script src=\"/nbextensions/google.colab/files.js\"></script> "
            ],
            "text/plain": [
              "<IPython.core.display.HTML object>"
            ]
          },
          "metadata": {
            "tags": []
          }
        },
        {
          "output_type": "stream",
          "text": [
            "Saving Fall2019_to_Winter2020.xlsx to Fall2019_to_Winter2020.xlsx\n"
          ],
          "name": "stdout"
        }
      ]
    },
    {
      "cell_type": "code",
      "metadata": {
        "id": "sH8wxD27oUOi",
        "colab_type": "code",
        "colab": {}
      },
      "source": [
        "sheet1 = pd.read_excel(\"Fall2019_to_Winter2020.xlsx\", sheet_name= \"Fall 2019 First semester\", na_values= [\"X\", \"?\"])\n",
        "sheet2 = pd.read_excel(\"Fall2019_to_Winter2020.xlsx\", sheet_name= \"Fall 2019 22nd snapshot\", na_values= [\"X\", \"?\"])\n",
        "sheet3 = pd.read_excel(\"Fall2019_to_Winter2020.xlsx\", sheet_name= \"Winter 2020 Second semester\", na_values= [\"X\", \"?\"])\n",
        "sheet4 = pd.read_excel(\"Fall2019_to_Winter2020.xlsx\", sheet_name= \"Winter 2020 22nd snapshot\", na_values= [\"X\", \"?\" ])"
      ],
      "execution_count": 2,
      "outputs": []
    },
    {
      "cell_type": "code",
      "metadata": {
        "id": "r91BsKwFslxg",
        "colab_type": "code",
        "colab": {}
      },
      "source": [
        "sheet1.columns = map(str.lower, sheet1.columns)\n",
        "sheet2.columns = map(str.lower, sheet2.columns)\n",
        "sheet3.columns = map(str.lower, sheet3.columns)\n",
        "sheet4.columns = map(str.lower, sheet4.columns)"
      ],
      "execution_count": 4,
      "outputs": []
    },
    {
      "cell_type": "code",
      "metadata": {
        "id": "6u3zNlpFtZig",
        "colab_type": "code",
        "colab": {}
      },
      "source": [
        "sheet2 = sheet2[sheet2.course_id.isin([651,667])]\n",
        "sheet2 = sheet2[sheet2.term_id == 919]\n",
        "sheet2 = sheet2[sheet2.status_id == 1]\n",
        "\n",
        "sheet4 = sheet4[sheet4.course_id.isin([652,668])]\n",
        "sheet4 = sheet4[sheet4.term_id == 1950]\n",
        "sheet4 = sheet4[sheet4.status_id == 1]"
      ],
      "execution_count": 5,
      "outputs": []
    },
    {
      "cell_type": "code",
      "metadata": {
        "id": "MGra4Qb9pCGw",
        "colab_type": "code",
        "colab": {}
      },
      "source": [
        "fall19 = sheet1.merge(sheet2, on = \"person_id\", how = \"left\")\n",
        "winter20 = sheet3.merge(sheet4, on = \"person_id\", how = \"left\")"
      ],
      "execution_count": 95,
      "outputs": []
    },
    {
      "cell_type": "code",
      "metadata": {
        "id": "KMMtwiExqAqG",
        "colab_type": "code",
        "colab": {
          "base_uri": "https://localhost:8080/",
          "height": 569
        },
        "outputId": "621a526c-4bf9-4d92-c4c9-ca8b87f10ab5"
      },
      "source": [
        "fall19.head()"
      ],
      "execution_count": 96,
      "outputs": [
        {
          "output_type": "execute_result",
          "data": {
            "text/html": [
              "<div>\n",
              "<style scoped>\n",
              "    .dataframe tbody tr th:only-of-type {\n",
              "        vertical-align: middle;\n",
              "    }\n",
              "\n",
              "    .dataframe tbody tr th {\n",
              "        vertical-align: top;\n",
              "    }\n",
              "\n",
              "    .dataframe thead th {\n",
              "        text-align: right;\n",
              "    }\n",
              "</style>\n",
              "<table border=\"1\" class=\"dataframe\">\n",
              "  <thead>\n",
              "    <tr style=\"text-align: right;\">\n",
              "      <th></th>\n",
              "      <th>person_id</th>\n",
              "      <th>snapshot_term</th>\n",
              "      <th>snapshot_type</th>\n",
              "      <th>start_term</th>\n",
              "      <th>relative_term</th>\n",
              "      <th>program</th>\n",
              "      <th>track</th>\n",
              "      <th>cce</th>\n",
              "      <th>path</th>\n",
              "      <th>preferred_name</th>\n",
              "      <th>last_name</th>\n",
              "      <th>first_name</th>\n",
              "      <th>email</th>\n",
              "      <th>alternate_email</th>\n",
              "      <th>cell_phone</th>\n",
              "      <th>home_phone</th>\n",
              "      <th>location</th>\n",
              "      <th>site</th>\n",
              "      <th>gathering_type</th>\n",
              "      <th>date</th>\n",
              "      <th>area</th>\n",
              "      <th>area_abv</th>\n",
              "      <th>dom_int</th>\n",
              "      <th>domestic</th>\n",
              "      <th>area_manager</th>\n",
              "      <th>initials</th>\n",
              "      <th>gender</th>\n",
              "      <th>birth_date</th>\n",
              "      <th>age</th>\n",
              "      <th>age_group</th>\n",
              "      <th>church_member</th>\n",
              "      <th>release_date</th>\n",
              "      <th>rm</th>\n",
              "      <th>marriage_status</th>\n",
              "      <th>state</th>\n",
              "      <th>country</th>\n",
              "      <th>ward_unit_number</th>\n",
              "      <th>unit_name</th>\n",
              "      <th>parent_unit_name</th>\n",
              "      <th>coordinating_council</th>\n",
              "      <th>snap_rmrelease_delta_months</th>\n",
              "      <th>rm_last_5_years</th>\n",
              "      <th>retention</th>\n",
              "      <th>canvas_course_enrollment_id</th>\n",
              "      <th>canvas_course_id</th>\n",
              "      <th>term_id</th>\n",
              "      <th>status_id</th>\n",
              "      <th>course_id</th>\n",
              "      <th>grade</th>\n",
              "      <th>created_date</th>\n",
              "      <th>created_by</th>\n",
              "      <th>modified_date</th>\n",
              "      <th>modified_by</th>\n",
              "      <th>grade_percent</th>\n",
              "      <th>total_time</th>\n",
              "      <th>num_submissions</th>\n",
              "      <th>last_login_date</th>\n",
              "    </tr>\n",
              "  </thead>\n",
              "  <tbody>\n",
              "    <tr>\n",
              "      <th>0</th>\n",
              "      <td>20110580</td>\n",
              "      <td>Fall 2019</td>\n",
              "      <td>Day 22</td>\n",
              "      <td>Fall 2019</td>\n",
              "      <td>1st</td>\n",
              "      <td>Standard</td>\n",
              "      <td>Standard 18+</td>\n",
              "      <td>1</td>\n",
              "      <td>Path 2</td>\n",
              "      <td>Alisha</td>\n",
              "      <td>Smith</td>\n",
              "      <td>Alisha Sophia</td>\n",
              "      <td>asmithmt@gmail.com</td>\n",
              "      <td>smitho77@yahoo.com</td>\n",
              "      <td>7195803858</td>\n",
              "      <td>7195806270</td>\n",
              "      <td>Alamosa CO Site-Stake Center Building</td>\n",
              "      <td>Big Sky Zone</td>\n",
              "      <td>Building</td>\n",
              "      <td>2019-10-07</td>\n",
              "      <td>North America Central</td>\n",
              "      <td>NA Central</td>\n",
              "      <td>Domestic</td>\n",
              "      <td>1</td>\n",
              "      <td>Joseph Sybrowsky</td>\n",
              "      <td>JS</td>\n",
              "      <td>F</td>\n",
              "      <td>1984-06-19</td>\n",
              "      <td>35.0</td>\n",
              "      <td>31+</td>\n",
              "      <td>Member</td>\n",
              "      <td>NaT</td>\n",
              "      <td>Not RM</td>\n",
              "      <td>M</td>\n",
              "      <td>Colorado</td>\n",
              "      <td>United States</td>\n",
              "      <td>129194.0</td>\n",
              "      <td>Alamosa  3rd Ward</td>\n",
              "      <td>Alamosa Colorado Stake</td>\n",
              "      <td>Colorado Colorado Springs Area Coordinating Co...</td>\n",
              "      <td>NaN</td>\n",
              "      <td>NaN</td>\n",
              "      <td>1</td>\n",
              "      <td>164251.0</td>\n",
              "      <td>59466.0</td>\n",
              "      <td>919.0</td>\n",
              "      <td>1.0</td>\n",
              "      <td>651.0</td>\n",
              "      <td>A</td>\n",
              "      <td>2019-08-30 22:43:05.553</td>\n",
              "      <td>api</td>\n",
              "      <td>2019-10-06 08:16:56.577</td>\n",
              "      <td>api</td>\n",
              "      <td>99.43</td>\n",
              "      <td>60829.0</td>\n",
              "      <td>0.0</td>\n",
              "      <td>2019-10-06 04:51:47</td>\n",
              "    </tr>\n",
              "    <tr>\n",
              "      <th>1</th>\n",
              "      <td>20125822</td>\n",
              "      <td>Fall 2019</td>\n",
              "      <td>Day 22</td>\n",
              "      <td>Fall 2019</td>\n",
              "      <td>1st</td>\n",
              "      <td>Standard</td>\n",
              "      <td>Standard 18+</td>\n",
              "      <td>1</td>\n",
              "      <td>Path 2</td>\n",
              "      <td>Lori Lee</td>\n",
              "      <td>Williams</td>\n",
              "      <td>Lori Lee</td>\n",
              "      <td>williams6554@outlook.com</td>\n",
              "      <td>NaN</td>\n",
              "      <td>719-588-6791</td>\n",
              "      <td>7195881683</td>\n",
              "      <td>Alamosa CO Site-Stake Center Building</td>\n",
              "      <td>Big Sky Zone</td>\n",
              "      <td>Building</td>\n",
              "      <td>2019-10-07</td>\n",
              "      <td>North America Central</td>\n",
              "      <td>NA Central</td>\n",
              "      <td>Domestic</td>\n",
              "      <td>1</td>\n",
              "      <td>Joseph Sybrowsky</td>\n",
              "      <td>JS</td>\n",
              "      <td>F</td>\n",
              "      <td>1969-03-29</td>\n",
              "      <td>51.0</td>\n",
              "      <td>31+</td>\n",
              "      <td>Member</td>\n",
              "      <td>NaT</td>\n",
              "      <td>Not RM</td>\n",
              "      <td>M</td>\n",
              "      <td>Colorado</td>\n",
              "      <td>United States</td>\n",
              "      <td>452254.0</td>\n",
              "      <td>Alamosa 4th Ward</td>\n",
              "      <td>Alamosa Colorado Stake</td>\n",
              "      <td>Colorado Colorado Springs Area Coordinating Co...</td>\n",
              "      <td>NaN</td>\n",
              "      <td>NaN</td>\n",
              "      <td>1</td>\n",
              "      <td>167818.0</td>\n",
              "      <td>59600.0</td>\n",
              "      <td>919.0</td>\n",
              "      <td>1.0</td>\n",
              "      <td>651.0</td>\n",
              "      <td>B+</td>\n",
              "      <td>2019-09-04 00:51:42.463</td>\n",
              "      <td>api</td>\n",
              "      <td>2019-10-06 08:16:56.580</td>\n",
              "      <td>api</td>\n",
              "      <td>87.50</td>\n",
              "      <td>138702.0</td>\n",
              "      <td>0.0</td>\n",
              "      <td>2019-10-06 00:41:14</td>\n",
              "    </tr>\n",
              "    <tr>\n",
              "      <th>2</th>\n",
              "      <td>20016522</td>\n",
              "      <td>Fall 2019</td>\n",
              "      <td>Day 22</td>\n",
              "      <td>Fall 2019</td>\n",
              "      <td>1st</td>\n",
              "      <td>Standard</td>\n",
              "      <td>Standard 18+</td>\n",
              "      <td>1</td>\n",
              "      <td>Path 2</td>\n",
              "      <td>KrisAnna</td>\n",
              "      <td>Williams</td>\n",
              "      <td>Kris Anna</td>\n",
              "      <td>kilika82@gmail.com</td>\n",
              "      <td>kilika82@yahoo.com</td>\n",
              "      <td>7192745843</td>\n",
              "      <td>7195804158</td>\n",
              "      <td>Alamosa CO Site-Stake Center Building</td>\n",
              "      <td>Big Sky Zone</td>\n",
              "      <td>Building</td>\n",
              "      <td>2019-10-07</td>\n",
              "      <td>North America Central</td>\n",
              "      <td>NA Central</td>\n",
              "      <td>Domestic</td>\n",
              "      <td>1</td>\n",
              "      <td>Joseph Sybrowsky</td>\n",
              "      <td>JS</td>\n",
              "      <td>F</td>\n",
              "      <td>1962-11-24</td>\n",
              "      <td>57.0</td>\n",
              "      <td>31+</td>\n",
              "      <td>Member</td>\n",
              "      <td>NaT</td>\n",
              "      <td>Not RM</td>\n",
              "      <td>M</td>\n",
              "      <td>Colorado</td>\n",
              "      <td>United States</td>\n",
              "      <td>36536.0</td>\n",
              "      <td>La Jara  1st Ward</td>\n",
              "      <td>Manassa Colorado Stake</td>\n",
              "      <td>Colorado Colorado Springs Area Coordinating Co...</td>\n",
              "      <td>NaN</td>\n",
              "      <td>NaN</td>\n",
              "      <td>1</td>\n",
              "      <td>164249.0</td>\n",
              "      <td>59462.0</td>\n",
              "      <td>919.0</td>\n",
              "      <td>1.0</td>\n",
              "      <td>651.0</td>\n",
              "      <td>A</td>\n",
              "      <td>2019-08-30 22:42:59.973</td>\n",
              "      <td>api</td>\n",
              "      <td>2019-10-06 08:16:56.570</td>\n",
              "      <td>api</td>\n",
              "      <td>98.39</td>\n",
              "      <td>199936.0</td>\n",
              "      <td>0.0</td>\n",
              "      <td>2019-10-04 16:00:03</td>\n",
              "    </tr>\n",
              "    <tr>\n",
              "      <th>3</th>\n",
              "      <td>20123401</td>\n",
              "      <td>Fall 2019</td>\n",
              "      <td>Day 22</td>\n",
              "      <td>Fall 2019</td>\n",
              "      <td>1st</td>\n",
              "      <td>Standard</td>\n",
              "      <td>Standard 18+</td>\n",
              "      <td>1</td>\n",
              "      <td>Path 2</td>\n",
              "      <td>Kraig</td>\n",
              "      <td>Fairhurst</td>\n",
              "      <td>Kraig Matthew</td>\n",
              "      <td>kraigf@yahoo.com</td>\n",
              "      <td>NaN</td>\n",
              "      <td>7192986310</td>\n",
              "      <td>NaN</td>\n",
              "      <td>Alamosa CO Site-Stake Center Building</td>\n",
              "      <td>Big Sky Zone</td>\n",
              "      <td>Building</td>\n",
              "      <td>2019-10-07</td>\n",
              "      <td>North America Central</td>\n",
              "      <td>NA Central</td>\n",
              "      <td>Domestic</td>\n",
              "      <td>1</td>\n",
              "      <td>Joseph Sybrowsky</td>\n",
              "      <td>JS</td>\n",
              "      <td>M</td>\n",
              "      <td>1967-06-23</td>\n",
              "      <td>52.0</td>\n",
              "      <td>31+</td>\n",
              "      <td>Member</td>\n",
              "      <td>NaT</td>\n",
              "      <td>Not RM</td>\n",
              "      <td>M</td>\n",
              "      <td>Colorado</td>\n",
              "      <td>United States</td>\n",
              "      <td>128279.0</td>\n",
              "      <td>Sanford 2nd Ward</td>\n",
              "      <td>Manassa Colorado Stake</td>\n",
              "      <td>Colorado Colorado Springs Area Coordinating Co...</td>\n",
              "      <td>NaN</td>\n",
              "      <td>NaN</td>\n",
              "      <td>1</td>\n",
              "      <td>165411.0</td>\n",
              "      <td>59228.0</td>\n",
              "      <td>919.0</td>\n",
              "      <td>1.0</td>\n",
              "      <td>651.0</td>\n",
              "      <td>A</td>\n",
              "      <td>2019-08-31 20:31:31.723</td>\n",
              "      <td>api</td>\n",
              "      <td>2019-10-07 08:16:14.890</td>\n",
              "      <td>api</td>\n",
              "      <td>99.27</td>\n",
              "      <td>72100.0</td>\n",
              "      <td>0.0</td>\n",
              "      <td>2019-10-07 01:34:08</td>\n",
              "    </tr>\n",
              "    <tr>\n",
              "      <th>4</th>\n",
              "      <td>20109281</td>\n",
              "      <td>Fall 2019</td>\n",
              "      <td>Day 22</td>\n",
              "      <td>Fall 2019</td>\n",
              "      <td>1st</td>\n",
              "      <td>Standard</td>\n",
              "      <td>Standard 18-30</td>\n",
              "      <td>1</td>\n",
              "      <td>Path 2</td>\n",
              "      <td>Christian</td>\n",
              "      <td>Hayward</td>\n",
              "      <td>Christian Thomas</td>\n",
              "      <td>chriscth94@gmail.com</td>\n",
              "      <td>chriscth10324@gmail.com</td>\n",
              "      <td>7138827431</td>\n",
              "      <td>7138984336</td>\n",
              "      <td>Alamosa CO Site-Stake Center Building</td>\n",
              "      <td>Big Sky Zone</td>\n",
              "      <td>Building</td>\n",
              "      <td>2019-10-07</td>\n",
              "      <td>North America Central</td>\n",
              "      <td>NA Central</td>\n",
              "      <td>Domestic</td>\n",
              "      <td>1</td>\n",
              "      <td>Joseph Sybrowsky</td>\n",
              "      <td>JS</td>\n",
              "      <td>M</td>\n",
              "      <td>1994-03-24</td>\n",
              "      <td>26.0</td>\n",
              "      <td>18-30</td>\n",
              "      <td>Member</td>\n",
              "      <td>NaT</td>\n",
              "      <td>Not RM</td>\n",
              "      <td>M</td>\n",
              "      <td>Colorado</td>\n",
              "      <td>United States</td>\n",
              "      <td>158631.0</td>\n",
              "      <td>Del Norte Branch</td>\n",
              "      <td>Alamosa Colorado Stake</td>\n",
              "      <td>Colorado Colorado Springs Area Coordinating Co...</td>\n",
              "      <td>NaN</td>\n",
              "      <td>NaN</td>\n",
              "      <td>0</td>\n",
              "      <td>164243.0</td>\n",
              "      <td>59438.0</td>\n",
              "      <td>919.0</td>\n",
              "      <td>1.0</td>\n",
              "      <td>651.0</td>\n",
              "      <td>A-</td>\n",
              "      <td>2019-08-30 22:42:17.030</td>\n",
              "      <td>api</td>\n",
              "      <td>2019-10-06 08:16:56.577</td>\n",
              "      <td>api</td>\n",
              "      <td>92.32</td>\n",
              "      <td>36717.0</td>\n",
              "      <td>0.0</td>\n",
              "      <td>2019-10-06 04:48:44</td>\n",
              "    </tr>\n",
              "  </tbody>\n",
              "</table>\n",
              "</div>"
            ],
            "text/plain": [
              "   person_id snapshot_term  ... num_submissions     last_login_date\n",
              "0   20110580     Fall 2019  ...             0.0 2019-10-06 04:51:47\n",
              "1   20125822     Fall 2019  ...             0.0 2019-10-06 00:41:14\n",
              "2   20016522     Fall 2019  ...             0.0 2019-10-04 16:00:03\n",
              "3   20123401     Fall 2019  ...             0.0 2019-10-07 01:34:08\n",
              "4   20109281     Fall 2019  ...             0.0 2019-10-06 04:48:44\n",
              "\n",
              "[5 rows x 57 columns]"
            ]
          },
          "metadata": {
            "tags": []
          },
          "execution_count": 96
        }
      ]
    },
    {
      "cell_type": "code",
      "metadata": {
        "id": "JWpsofSuqmiq",
        "colab_type": "code",
        "colab": {}
      },
      "source": [
        "fall19 = fall19[[\"program\",\"gathering_type\",\"area\",\"dom_int\",\"area_manager\",\"gender\",\"age\",\"marriage_status\",\"church_member\", \"rm\", \"grade_percent\",\"total_time\",\"retention\"]]"
      ],
      "execution_count": 97,
      "outputs": []
    },
    {
      "cell_type": "code",
      "metadata": {
        "id": "a3lRA2jcytTd",
        "colab_type": "code",
        "colab": {
          "base_uri": "https://localhost:8080/",
          "height": 260
        },
        "outputId": "17d98626-5de6-4c7e-c90f-1c2e026d5168"
      },
      "source": [
        "fall19.dtypes"
      ],
      "execution_count": 98,
      "outputs": [
        {
          "output_type": "execute_result",
          "data": {
            "text/plain": [
              "program             object\n",
              "gathering_type      object\n",
              "area                object\n",
              "dom_int             object\n",
              "area_manager        object\n",
              "gender              object\n",
              "age                float64\n",
              "marriage_status     object\n",
              "church_member       object\n",
              "rm                  object\n",
              "grade_percent      float64\n",
              "total_time         float64\n",
              "retention            int64\n",
              "dtype: object"
            ]
          },
          "metadata": {
            "tags": []
          },
          "execution_count": 98
        }
      ]
    },
    {
      "cell_type": "code",
      "metadata": {
        "id": "CkcJ_4CLsDlZ",
        "colab_type": "code",
        "colab": {
          "base_uri": "https://localhost:8080/",
          "height": 260
        },
        "outputId": "77b8e348-00dc-494e-ca26-b58ceed10f5f"
      },
      "source": [
        "fall19.isnull().sum(axis = 0)/fall19.shape[0] * 100"
      ],
      "execution_count": 99,
      "outputs": [
        {
          "output_type": "execute_result",
          "data": {
            "text/plain": [
              "program            0.000000\n",
              "gathering_type     0.000000\n",
              "area               0.000000\n",
              "dom_int            0.000000\n",
              "area_manager       0.000000\n",
              "gender             0.065219\n",
              "age                0.102488\n",
              "marriage_status    7.053014\n",
              "church_member      0.037268\n",
              "rm                 0.037268\n",
              "grade_percent      7.612038\n",
              "total_time         7.612038\n",
              "retention          0.000000\n",
              "dtype: float64"
            ]
          },
          "metadata": {
            "tags": []
          },
          "execution_count": 99
        }
      ]
    },
    {
      "cell_type": "code",
      "metadata": {
        "id": "6cHROzlu1Cil",
        "colab_type": "code",
        "colab": {
          "base_uri": "https://localhost:8080/",
          "height": 55
        },
        "outputId": "13881041-fe51-4738-ec72-8022f14456d9"
      },
      "source": [
        "'''\n",
        "fall19.gender = fall19.gender.apply(lambda x: \"unknown\" if x == \"None\" else x)\n",
        "fall19.age = fall19.age.apply(lambda x: mean(x) if x == \"None\" else x)\n",
        "fall19.marriage_status = fall19.marriage_status.apply(lambda x: \"unknown\" if x == \"None\" else x)\n",
        "fall19.grade_percent = fall19.grade_percent.apply(lambda x: mean(x) if x == \"None\" else x)\n",
        "fall19.total_time = fall19.total_time.apply(lambda x: mean(x) if x == \"None\" else x)\n",
        "'''"
      ],
      "execution_count": 52,
      "outputs": [
        {
          "output_type": "execute_result",
          "data": {
            "text/plain": [
              "'\\nfall19.gender = fall19.gender.apply(lambda x: \"unknown\" if x == \"None\" else x)\\nfall19.age = fall19.age.apply(lambda x: mean(x) if x == \"None\" else x)\\nfall19.marriage_status = fall19.marriage_status.apply(lambda x: \"unknown\" if x == \"None\" else x)\\nfall19.grade_percent = fall19.grade_percent.apply(lambda x: mean(x) if x == \"None\" else x)\\nfall19.total_time = fall19.total_time.apply(lambda x: mean(x) if x == \"None\" else x)\\n'"
            ]
          },
          "metadata": {
            "tags": []
          },
          "execution_count": 52
        }
      ]
    },
    {
      "cell_type": "code",
      "metadata": {
        "id": "T8GagYJx4hqk",
        "colab_type": "code",
        "colab": {
          "base_uri": "https://localhost:8080/",
          "height": 35
        },
        "outputId": "9ab8ace8-9607-46d6-baee-9ec648894fb7"
      },
      "source": [
        "fall19 = fall19.dropna(axis = 0)\n",
        "fall19.shape"
      ],
      "execution_count": 100,
      "outputs": [
        {
          "output_type": "execute_result",
          "data": {
            "text/plain": [
              "(9171, 13)"
            ]
          },
          "metadata": {
            "tags": []
          },
          "execution_count": 100
        }
      ]
    },
    {
      "cell_type": "code",
      "metadata": {
        "id": "r9ISGf5v4qWb",
        "colab_type": "code",
        "colab": {}
      },
      "source": [
        "from sklearn.model_selection import train_test_split\n",
        "from sklearn.preprocessing import StandardScaler\n",
        "\n",
        "X = fall19.drop(columns= \"retention\")\n",
        "y = fall19.retention\n",
        "\n",
        "std = StandardScaler()\n",
        "numeric_col = X.select_dtypes(\"number\").columns\n",
        "X[numeric_col] = std.fit_transform(X[numeric_col])\n",
        "X = pd.get_dummies(X)\n",
        "\n",
        "\n",
        "train_X, test_X, train_y, test_y = train_test_split(X,y, test_size = 0.3, random_state = 0)"
      ],
      "execution_count": 101,
      "outputs": []
    },
    {
      "cell_type": "code",
      "metadata": {
        "id": "hZ2KXfck5KDz",
        "colab_type": "code",
        "colab": {
          "base_uri": "https://localhost:8080/",
          "height": 173
        },
        "outputId": "735540a3-cc97-4813-e33f-4e8ef7d2d83b"
      },
      "source": [
        "# logistic regression\n",
        "from sklearn.linear_model import LogisticRegression\n",
        "from sklearn.metrics import accuracy_score\n",
        "\n",
        "clf = LogisticRegression(class_weight  = \"balanced\")\n",
        "clf.fit(train_X, train_y)\n",
        "\n",
        "predicted_y = clf.predict(test_X)\n",
        "accuracy_score(predicted_y, test_y)"
      ],
      "execution_count": 102,
      "outputs": [
        {
          "output_type": "stream",
          "text": [
            "/usr/local/lib/python3.6/dist-packages/sklearn/linear_model/_logistic.py:940: ConvergenceWarning: lbfgs failed to converge (status=1):\n",
            "STOP: TOTAL NO. of ITERATIONS REACHED LIMIT.\n",
            "\n",
            "Increase the number of iterations (max_iter) or scale the data as shown in:\n",
            "    https://scikit-learn.org/stable/modules/preprocessing.html\n",
            "Please also refer to the documentation for alternative solver options:\n",
            "    https://scikit-learn.org/stable/modules/linear_model.html#logistic-regression\n",
            "  extra_warning_msg=_LOGISTIC_SOLVER_CONVERGENCE_MSG)\n"
          ],
          "name": "stderr"
        },
        {
          "output_type": "execute_result",
          "data": {
            "text/plain": [
              "0.7503633720930233"
            ]
          },
          "metadata": {
            "tags": []
          },
          "execution_count": 102
        }
      ]
    },
    {
      "cell_type": "code",
      "metadata": {
        "id": "tXyGnZM17tj_",
        "colab_type": "code",
        "colab": {
          "base_uri": "https://localhost:8080/",
          "height": 1000
        },
        "outputId": "97352c60-091b-4183-8b9d-640486482e92"
      },
      "source": [
        "from sklearn.linear_model import LogisticRegressionCV\n",
        "\n",
        "clf_cv = LogisticRegressionCV(cv = 10, class_weight='balanced', random_state= 0)\n",
        "clf_cv.fit(train_X, train_y)\n",
        "\n",
        "predicted_y = clf_cv.predict(test_X)\n",
        "accuracy_score(predicted_y, test_y)"
      ],
      "execution_count": 103,
      "outputs": [
        {
          "output_type": "stream",
          "text": [
            "/usr/local/lib/python3.6/dist-packages/sklearn/linear_model/_logistic.py:940: ConvergenceWarning: lbfgs failed to converge (status=1):\n",
            "STOP: TOTAL NO. of ITERATIONS REACHED LIMIT.\n",
            "\n",
            "Increase the number of iterations (max_iter) or scale the data as shown in:\n",
            "    https://scikit-learn.org/stable/modules/preprocessing.html\n",
            "Please also refer to the documentation for alternative solver options:\n",
            "    https://scikit-learn.org/stable/modules/linear_model.html#logistic-regression\n",
            "  extra_warning_msg=_LOGISTIC_SOLVER_CONVERGENCE_MSG)\n",
            "/usr/local/lib/python3.6/dist-packages/sklearn/linear_model/_logistic.py:940: ConvergenceWarning: lbfgs failed to converge (status=1):\n",
            "STOP: TOTAL NO. of ITERATIONS REACHED LIMIT.\n",
            "\n",
            "Increase the number of iterations (max_iter) or scale the data as shown in:\n",
            "    https://scikit-learn.org/stable/modules/preprocessing.html\n",
            "Please also refer to the documentation for alternative solver options:\n",
            "    https://scikit-learn.org/stable/modules/linear_model.html#logistic-regression\n",
            "  extra_warning_msg=_LOGISTIC_SOLVER_CONVERGENCE_MSG)\n",
            "/usr/local/lib/python3.6/dist-packages/sklearn/linear_model/_logistic.py:940: ConvergenceWarning: lbfgs failed to converge (status=1):\n",
            "STOP: TOTAL NO. of ITERATIONS REACHED LIMIT.\n",
            "\n",
            "Increase the number of iterations (max_iter) or scale the data as shown in:\n",
            "    https://scikit-learn.org/stable/modules/preprocessing.html\n",
            "Please also refer to the documentation for alternative solver options:\n",
            "    https://scikit-learn.org/stable/modules/linear_model.html#logistic-regression\n",
            "  extra_warning_msg=_LOGISTIC_SOLVER_CONVERGENCE_MSG)\n",
            "/usr/local/lib/python3.6/dist-packages/sklearn/linear_model/_logistic.py:940: ConvergenceWarning: lbfgs failed to converge (status=1):\n",
            "STOP: TOTAL NO. of ITERATIONS REACHED LIMIT.\n",
            "\n",
            "Increase the number of iterations (max_iter) or scale the data as shown in:\n",
            "    https://scikit-learn.org/stable/modules/preprocessing.html\n",
            "Please also refer to the documentation for alternative solver options:\n",
            "    https://scikit-learn.org/stable/modules/linear_model.html#logistic-regression\n",
            "  extra_warning_msg=_LOGISTIC_SOLVER_CONVERGENCE_MSG)\n",
            "/usr/local/lib/python3.6/dist-packages/sklearn/linear_model/_logistic.py:940: ConvergenceWarning: lbfgs failed to converge (status=1):\n",
            "STOP: TOTAL NO. of ITERATIONS REACHED LIMIT.\n",
            "\n",
            "Increase the number of iterations (max_iter) or scale the data as shown in:\n",
            "    https://scikit-learn.org/stable/modules/preprocessing.html\n",
            "Please also refer to the documentation for alternative solver options:\n",
            "    https://scikit-learn.org/stable/modules/linear_model.html#logistic-regression\n",
            "  extra_warning_msg=_LOGISTIC_SOLVER_CONVERGENCE_MSG)\n",
            "/usr/local/lib/python3.6/dist-packages/sklearn/linear_model/_logistic.py:940: ConvergenceWarning: lbfgs failed to converge (status=1):\n",
            "STOP: TOTAL NO. of ITERATIONS REACHED LIMIT.\n",
            "\n",
            "Increase the number of iterations (max_iter) or scale the data as shown in:\n",
            "    https://scikit-learn.org/stable/modules/preprocessing.html\n",
            "Please also refer to the documentation for alternative solver options:\n",
            "    https://scikit-learn.org/stable/modules/linear_model.html#logistic-regression\n",
            "  extra_warning_msg=_LOGISTIC_SOLVER_CONVERGENCE_MSG)\n",
            "/usr/local/lib/python3.6/dist-packages/sklearn/linear_model/_logistic.py:940: ConvergenceWarning: lbfgs failed to converge (status=1):\n",
            "STOP: TOTAL NO. of ITERATIONS REACHED LIMIT.\n",
            "\n",
            "Increase the number of iterations (max_iter) or scale the data as shown in:\n",
            "    https://scikit-learn.org/stable/modules/preprocessing.html\n",
            "Please also refer to the documentation for alternative solver options:\n",
            "    https://scikit-learn.org/stable/modules/linear_model.html#logistic-regression\n",
            "  extra_warning_msg=_LOGISTIC_SOLVER_CONVERGENCE_MSG)\n",
            "/usr/local/lib/python3.6/dist-packages/sklearn/linear_model/_logistic.py:940: ConvergenceWarning: lbfgs failed to converge (status=1):\n",
            "STOP: TOTAL NO. of ITERATIONS REACHED LIMIT.\n",
            "\n",
            "Increase the number of iterations (max_iter) or scale the data as shown in:\n",
            "    https://scikit-learn.org/stable/modules/preprocessing.html\n",
            "Please also refer to the documentation for alternative solver options:\n",
            "    https://scikit-learn.org/stable/modules/linear_model.html#logistic-regression\n",
            "  extra_warning_msg=_LOGISTIC_SOLVER_CONVERGENCE_MSG)\n",
            "/usr/local/lib/python3.6/dist-packages/sklearn/linear_model/_logistic.py:940: ConvergenceWarning: lbfgs failed to converge (status=1):\n",
            "STOP: TOTAL NO. of ITERATIONS REACHED LIMIT.\n",
            "\n",
            "Increase the number of iterations (max_iter) or scale the data as shown in:\n",
            "    https://scikit-learn.org/stable/modules/preprocessing.html\n",
            "Please also refer to the documentation for alternative solver options:\n",
            "    https://scikit-learn.org/stable/modules/linear_model.html#logistic-regression\n",
            "  extra_warning_msg=_LOGISTIC_SOLVER_CONVERGENCE_MSG)\n",
            "/usr/local/lib/python3.6/dist-packages/sklearn/linear_model/_logistic.py:940: ConvergenceWarning: lbfgs failed to converge (status=1):\n",
            "STOP: TOTAL NO. of ITERATIONS REACHED LIMIT.\n",
            "\n",
            "Increase the number of iterations (max_iter) or scale the data as shown in:\n",
            "    https://scikit-learn.org/stable/modules/preprocessing.html\n",
            "Please also refer to the documentation for alternative solver options:\n",
            "    https://scikit-learn.org/stable/modules/linear_model.html#logistic-regression\n",
            "  extra_warning_msg=_LOGISTIC_SOLVER_CONVERGENCE_MSG)\n",
            "/usr/local/lib/python3.6/dist-packages/sklearn/linear_model/_logistic.py:940: ConvergenceWarning: lbfgs failed to converge (status=1):\n",
            "STOP: TOTAL NO. of ITERATIONS REACHED LIMIT.\n",
            "\n",
            "Increase the number of iterations (max_iter) or scale the data as shown in:\n",
            "    https://scikit-learn.org/stable/modules/preprocessing.html\n",
            "Please also refer to the documentation for alternative solver options:\n",
            "    https://scikit-learn.org/stable/modules/linear_model.html#logistic-regression\n",
            "  extra_warning_msg=_LOGISTIC_SOLVER_CONVERGENCE_MSG)\n",
            "/usr/local/lib/python3.6/dist-packages/sklearn/linear_model/_logistic.py:940: ConvergenceWarning: lbfgs failed to converge (status=1):\n",
            "STOP: TOTAL NO. of ITERATIONS REACHED LIMIT.\n",
            "\n",
            "Increase the number of iterations (max_iter) or scale the data as shown in:\n",
            "    https://scikit-learn.org/stable/modules/preprocessing.html\n",
            "Please also refer to the documentation for alternative solver options:\n",
            "    https://scikit-learn.org/stable/modules/linear_model.html#logistic-regression\n",
            "  extra_warning_msg=_LOGISTIC_SOLVER_CONVERGENCE_MSG)\n",
            "/usr/local/lib/python3.6/dist-packages/sklearn/linear_model/_logistic.py:940: ConvergenceWarning: lbfgs failed to converge (status=1):\n",
            "STOP: TOTAL NO. of ITERATIONS REACHED LIMIT.\n",
            "\n",
            "Increase the number of iterations (max_iter) or scale the data as shown in:\n",
            "    https://scikit-learn.org/stable/modules/preprocessing.html\n",
            "Please also refer to the documentation for alternative solver options:\n",
            "    https://scikit-learn.org/stable/modules/linear_model.html#logistic-regression\n",
            "  extra_warning_msg=_LOGISTIC_SOLVER_CONVERGENCE_MSG)\n",
            "/usr/local/lib/python3.6/dist-packages/sklearn/linear_model/_logistic.py:940: ConvergenceWarning: lbfgs failed to converge (status=1):\n",
            "STOP: TOTAL NO. of ITERATIONS REACHED LIMIT.\n",
            "\n",
            "Increase the number of iterations (max_iter) or scale the data as shown in:\n",
            "    https://scikit-learn.org/stable/modules/preprocessing.html\n",
            "Please also refer to the documentation for alternative solver options:\n",
            "    https://scikit-learn.org/stable/modules/linear_model.html#logistic-regression\n",
            "  extra_warning_msg=_LOGISTIC_SOLVER_CONVERGENCE_MSG)\n",
            "/usr/local/lib/python3.6/dist-packages/sklearn/linear_model/_logistic.py:940: ConvergenceWarning: lbfgs failed to converge (status=1):\n",
            "STOP: TOTAL NO. of ITERATIONS REACHED LIMIT.\n",
            "\n",
            "Increase the number of iterations (max_iter) or scale the data as shown in:\n",
            "    https://scikit-learn.org/stable/modules/preprocessing.html\n",
            "Please also refer to the documentation for alternative solver options:\n",
            "    https://scikit-learn.org/stable/modules/linear_model.html#logistic-regression\n",
            "  extra_warning_msg=_LOGISTIC_SOLVER_CONVERGENCE_MSG)\n",
            "/usr/local/lib/python3.6/dist-packages/sklearn/linear_model/_logistic.py:940: ConvergenceWarning: lbfgs failed to converge (status=1):\n",
            "STOP: TOTAL NO. of ITERATIONS REACHED LIMIT.\n",
            "\n",
            "Increase the number of iterations (max_iter) or scale the data as shown in:\n",
            "    https://scikit-learn.org/stable/modules/preprocessing.html\n",
            "Please also refer to the documentation for alternative solver options:\n",
            "    https://scikit-learn.org/stable/modules/linear_model.html#logistic-regression\n",
            "  extra_warning_msg=_LOGISTIC_SOLVER_CONVERGENCE_MSG)\n",
            "/usr/local/lib/python3.6/dist-packages/sklearn/linear_model/_logistic.py:940: ConvergenceWarning: lbfgs failed to converge (status=1):\n",
            "STOP: TOTAL NO. of ITERATIONS REACHED LIMIT.\n",
            "\n",
            "Increase the number of iterations (max_iter) or scale the data as shown in:\n",
            "    https://scikit-learn.org/stable/modules/preprocessing.html\n",
            "Please also refer to the documentation for alternative solver options:\n",
            "    https://scikit-learn.org/stable/modules/linear_model.html#logistic-regression\n",
            "  extra_warning_msg=_LOGISTIC_SOLVER_CONVERGENCE_MSG)\n",
            "/usr/local/lib/python3.6/dist-packages/sklearn/linear_model/_logistic.py:940: ConvergenceWarning: lbfgs failed to converge (status=1):\n",
            "STOP: TOTAL NO. of ITERATIONS REACHED LIMIT.\n",
            "\n",
            "Increase the number of iterations (max_iter) or scale the data as shown in:\n",
            "    https://scikit-learn.org/stable/modules/preprocessing.html\n",
            "Please also refer to the documentation for alternative solver options:\n",
            "    https://scikit-learn.org/stable/modules/linear_model.html#logistic-regression\n",
            "  extra_warning_msg=_LOGISTIC_SOLVER_CONVERGENCE_MSG)\n",
            "/usr/local/lib/python3.6/dist-packages/sklearn/linear_model/_logistic.py:940: ConvergenceWarning: lbfgs failed to converge (status=1):\n",
            "STOP: TOTAL NO. of ITERATIONS REACHED LIMIT.\n",
            "\n",
            "Increase the number of iterations (max_iter) or scale the data as shown in:\n",
            "    https://scikit-learn.org/stable/modules/preprocessing.html\n",
            "Please also refer to the documentation for alternative solver options:\n",
            "    https://scikit-learn.org/stable/modules/linear_model.html#logistic-regression\n",
            "  extra_warning_msg=_LOGISTIC_SOLVER_CONVERGENCE_MSG)\n",
            "/usr/local/lib/python3.6/dist-packages/sklearn/linear_model/_logistic.py:940: ConvergenceWarning: lbfgs failed to converge (status=1):\n",
            "STOP: TOTAL NO. of ITERATIONS REACHED LIMIT.\n",
            "\n",
            "Increase the number of iterations (max_iter) or scale the data as shown in:\n",
            "    https://scikit-learn.org/stable/modules/preprocessing.html\n",
            "Please also refer to the documentation for alternative solver options:\n",
            "    https://scikit-learn.org/stable/modules/linear_model.html#logistic-regression\n",
            "  extra_warning_msg=_LOGISTIC_SOLVER_CONVERGENCE_MSG)\n"
          ],
          "name": "stderr"
        },
        {
          "output_type": "execute_result",
          "data": {
            "text/plain": [
              "0.7550872093023255"
            ]
          },
          "metadata": {
            "tags": []
          },
          "execution_count": 103
        }
      ]
    },
    {
      "cell_type": "code",
      "metadata": {
        "id": "-UvY3gX0-RAP",
        "colab_type": "code",
        "colab": {
          "base_uri": "https://localhost:8080/",
          "height": 263
        },
        "outputId": "43b47a00-a8ea-451b-ea3a-df87047e8356"
      },
      "source": [
        "# with regularization method (logistic regression)\n",
        "penalty = ['l1', 'l2', 'elasticnet']\n",
        "for i in penalty:\n",
        "  clf = LogisticRegression(penalty = i, solver = \"saga\", l1_ratio= 0.5, class_weight = \"balanced\", random_state= 0)\n",
        "  clf.fit(train_X, train_y)\n",
        "  predicted_y = clf.predict(test_X)\n",
        "  print(accuracy_score(predicted_y, test_y))"
      ],
      "execution_count": 137,
      "outputs": [
        {
          "output_type": "stream",
          "text": [
            "/usr/local/lib/python3.6/dist-packages/sklearn/linear_model/_logistic.py:1501: UserWarning: l1_ratio parameter is only used when penalty is 'elasticnet'. Got (penalty=l1)\n",
            "  \"(penalty={})\".format(self.penalty))\n",
            "/usr/local/lib/python3.6/dist-packages/sklearn/linear_model/_sag.py:330: ConvergenceWarning: The max_iter was reached which means the coef_ did not converge\n",
            "  \"the coef_ did not converge\", ConvergenceWarning)\n",
            "/usr/local/lib/python3.6/dist-packages/sklearn/linear_model/_logistic.py:1501: UserWarning: l1_ratio parameter is only used when penalty is 'elasticnet'. Got (penalty=l2)\n",
            "  \"(penalty={})\".format(self.penalty))\n"
          ],
          "name": "stderr"
        },
        {
          "output_type": "stream",
          "text": [
            "0.7518168604651163\n"
          ],
          "name": "stdout"
        },
        {
          "output_type": "stream",
          "text": [
            "/usr/local/lib/python3.6/dist-packages/sklearn/linear_model/_sag.py:330: ConvergenceWarning: The max_iter was reached which means the coef_ did not converge\n",
            "  \"the coef_ did not converge\", ConvergenceWarning)\n"
          ],
          "name": "stderr"
        },
        {
          "output_type": "stream",
          "text": [
            "0.7503633720930233\n",
            "0.7518168604651163\n"
          ],
          "name": "stdout"
        },
        {
          "output_type": "stream",
          "text": [
            "/usr/local/lib/python3.6/dist-packages/sklearn/linear_model/_sag.py:330: ConvergenceWarning: The max_iter was reached which means the coef_ did not converge\n",
            "  \"the coef_ did not converge\", ConvergenceWarning)\n"
          ],
          "name": "stderr"
        }
      ]
    },
    {
      "cell_type": "code",
      "metadata": {
        "id": "a1gJPTP8Fpt0",
        "colab_type": "code",
        "colab": {
          "base_uri": "https://localhost:8080/",
          "height": 52
        },
        "outputId": "6d4315f3-f7bd-4af9-9d11-728a338cd141"
      },
      "source": [
        "# decision tree\n",
        "from sklearn.tree import DecisionTreeClassifier\n",
        "\n",
        "for i in [\"entropy\", \"gini\"]:\n",
        "  tree = DecisionTreeClassifier(criterion = i, random_state = 0)\n",
        "  tree.fit(train_X, train_y)\n",
        "  predicted_y = tree.predict(test_X)\n",
        "\n",
        "  print(accuracy_score(test_y, predicted_y))"
      ],
      "execution_count": 127,
      "outputs": [
        {
          "output_type": "stream",
          "text": [
            "0.6936773255813954\n",
            "0.6769622093023255\n"
          ],
          "name": "stdout"
        }
      ]
    },
    {
      "cell_type": "code",
      "metadata": {
        "id": "t8w2M9k7GgNz",
        "colab_type": "code",
        "colab": {
          "base_uri": "https://localhost:8080/",
          "height": 35
        },
        "outputId": "c52313be-2f29-493f-ab57-e433fc28d17d"
      },
      "source": [
        "from sklearn.svm import SVC\n",
        "\n",
        "svm = SVC(kernel='rbf', gamma='auto', class_weight = \"balanced\")\n",
        "svm.fit(train_X, train_y)\n",
        "predicted_y = svm.predict(test_X)\n",
        "\n",
        "print(accuracy_score(test_y, predicted_y))"
      ],
      "execution_count": 130,
      "outputs": [
        {
          "output_type": "stream",
          "text": [
            "0.768531976744186\n"
          ],
          "name": "stdout"
        }
      ]
    },
    {
      "cell_type": "code",
      "metadata": {
        "id": "GVFSw26cAhJE",
        "colab_type": "code",
        "colab": {
          "base_uri": "https://localhost:8080/",
          "height": 35
        },
        "outputId": "40946979-d47e-454c-bab9-6ad47c378824"
      },
      "source": [
        "train_X.shape"
      ],
      "execution_count": 105,
      "outputs": [
        {
          "output_type": "execute_result",
          "data": {
            "text/plain": [
              "(6419, 52)"
            ]
          },
          "metadata": {
            "tags": []
          },
          "execution_count": 105
        }
      ]
    },
    {
      "cell_type": "code",
      "metadata": {
        "id": "qQ6d4_EjAJqB",
        "colab_type": "code",
        "colab": {}
      },
      "source": [
        "from keras import models\n",
        "from keras import layers\n",
        "\n",
        "model = models.Sequential()\n",
        "model.add(layers.Dense(256, activation='relu', input_dim = 52, kernel_initializer='normal'))\n",
        "model.add(layers.Dense(128, activation='relu'))\n",
        "model.add(layers.Dense(32, activation = 'relu'))\n",
        "model.add(layers.Dropout(rate = 0.5))\n",
        "model.add(layers.Dense(1, activation= 'sigmoid'))"
      ],
      "execution_count": 131,
      "outputs": []
    },
    {
      "cell_type": "code",
      "metadata": {
        "id": "fdLAdzleApM-",
        "colab_type": "code",
        "colab": {}
      },
      "source": [
        "model.compile(optimizer='adam',\n",
        "             loss='binary_crossentropy',\n",
        "             metrics=['accuracy'])"
      ],
      "execution_count": 132,
      "outputs": []
    },
    {
      "cell_type": "code",
      "metadata": {
        "id": "RUfJyb7PAs3L",
        "colab_type": "code",
        "colab": {
          "base_uri": "https://localhost:8080/",
          "height": 381
        },
        "outputId": "4fb5c3dc-aad1-4727-994e-34079589e5f0"
      },
      "source": [
        "# training outcome \n",
        "model.fit(train_X, train_y, epochs= 10, batch_size = 32)"
      ],
      "execution_count": 133,
      "outputs": [
        {
          "output_type": "stream",
          "text": [
            "Epoch 1/10\n",
            "6419/6419 [==============================] - 0s 76us/step - loss: 0.5307 - accuracy: 0.7715\n",
            "Epoch 2/10\n",
            "6419/6419 [==============================] - 0s 54us/step - loss: 0.5087 - accuracy: 0.7841\n",
            "Epoch 3/10\n",
            "6419/6419 [==============================] - 0s 56us/step - loss: 0.5079 - accuracy: 0.7839\n",
            "Epoch 4/10\n",
            "6419/6419 [==============================] - 0s 58us/step - loss: 0.4970 - accuracy: 0.7878\n",
            "Epoch 5/10\n",
            "6419/6419 [==============================] - 0s 57us/step - loss: 0.4968 - accuracy: 0.7850\n",
            "Epoch 6/10\n",
            "6419/6419 [==============================] - 0s 58us/step - loss: 0.4943 - accuracy: 0.7888\n",
            "Epoch 7/10\n",
            "6419/6419 [==============================] - 0s 56us/step - loss: 0.4917 - accuracy: 0.7875\n",
            "Epoch 8/10\n",
            "6419/6419 [==============================] - 0s 56us/step - loss: 0.4848 - accuracy: 0.7908\n",
            "Epoch 9/10\n",
            "6419/6419 [==============================] - 0s 58us/step - loss: 0.4845 - accuracy: 0.7917\n",
            "Epoch 10/10\n",
            "6419/6419 [==============================] - 0s 55us/step - loss: 0.4766 - accuracy: 0.7916\n"
          ],
          "name": "stdout"
        },
        {
          "output_type": "execute_result",
          "data": {
            "text/plain": [
              "<keras.callbacks.callbacks.History at 0x7f35c272b0f0>"
            ]
          },
          "metadata": {
            "tags": []
          },
          "execution_count": 133
        }
      ]
    },
    {
      "cell_type": "code",
      "metadata": {
        "id": "kypZEuaYAw0r",
        "colab_type": "code",
        "colab": {
          "base_uri": "https://localhost:8080/",
          "height": 381
        },
        "outputId": "94a678fb-704d-47ab-87c1-a51f36a3cf5b"
      },
      "source": [
        "# show the validation outcome (accuracy) using test_X and test_y\n",
        "history = model.fit(train_X, train_y, epochs= 10, validation_data= (test_X, test_y), batch_size= 32)"
      ],
      "execution_count": 134,
      "outputs": [
        {
          "output_type": "stream",
          "text": [
            "Train on 6419 samples, validate on 2752 samples\n",
            "Epoch 1/10\n",
            "6419/6419 [==============================] - 0s 73us/step - loss: 0.4766 - accuracy: 0.7958 - val_loss: 0.4902 - val_accuracy: 0.7812\n",
            "Epoch 2/10\n",
            "6419/6419 [==============================] - 0s 71us/step - loss: 0.4690 - accuracy: 0.7937 - val_loss: 0.4974 - val_accuracy: 0.7892\n",
            "Epoch 3/10\n",
            "6419/6419 [==============================] - 0s 71us/step - loss: 0.4675 - accuracy: 0.7964 - val_loss: 0.5091 - val_accuracy: 0.7878\n",
            "Epoch 4/10\n",
            "6419/6419 [==============================] - 0s 70us/step - loss: 0.4644 - accuracy: 0.7972 - val_loss: 0.5063 - val_accuracy: 0.7867\n",
            "Epoch 5/10\n",
            "6419/6419 [==============================] - 0s 71us/step - loss: 0.4584 - accuracy: 0.8018 - val_loss: 0.5008 - val_accuracy: 0.7773\n",
            "Epoch 6/10\n",
            "6419/6419 [==============================] - 0s 67us/step - loss: 0.4567 - accuracy: 0.8009 - val_loss: 0.5148 - val_accuracy: 0.7867\n",
            "Epoch 7/10\n",
            "6419/6419 [==============================] - 0s 70us/step - loss: 0.4551 - accuracy: 0.8015 - val_loss: 0.5060 - val_accuracy: 0.7849\n",
            "Epoch 8/10\n",
            "6419/6419 [==============================] - 0s 68us/step - loss: 0.4505 - accuracy: 0.8042 - val_loss: 0.5151 - val_accuracy: 0.7827\n",
            "Epoch 9/10\n",
            "6419/6419 [==============================] - 0s 73us/step - loss: 0.4458 - accuracy: 0.8067 - val_loss: 0.5144 - val_accuracy: 0.7791\n",
            "Epoch 10/10\n",
            "6419/6419 [==============================] - 0s 68us/step - loss: 0.4391 - accuracy: 0.8093 - val_loss: 0.5233 - val_accuracy: 0.7823\n"
          ],
          "name": "stdout"
        }
      ]
    },
    {
      "cell_type": "code",
      "metadata": {
        "id": "AM3_rk_oAy6U",
        "colab_type": "code",
        "colab": {
          "base_uri": "https://localhost:8080/",
          "height": 283
        },
        "outputId": "8ca3c42c-732f-4e02-d4e3-399709bc1193"
      },
      "source": [
        "import matplotlib.pyplot as plt\n",
        "\n",
        "plt.plot(history.history[\"accuracy\"], label = \"Acc\")\n",
        "plt.plot(history.history[\"val_accuracy\"], label = \"Val_Acc\")\n",
        "plt.legend()"
      ],
      "execution_count": 135,
      "outputs": [
        {
          "output_type": "execute_result",
          "data": {
            "text/plain": [
              "<matplotlib.legend.Legend at 0x7f35c1f44d30>"
            ]
          },
          "metadata": {
            "tags": []
          },
          "execution_count": 135
        },
        {
          "output_type": "display_data",
          "data": {
            "image/png": "[encoded data removed]",
            "text/plain": [
              "<Figure size 432x288 with 1 Axes>"
            ]
          },
          "metadata": {
            "tags": [],
            "needs_background": "light"
          }
        }
      ]
    }
  ]
}