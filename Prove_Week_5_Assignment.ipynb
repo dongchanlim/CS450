{
  "nbformat": 4,
  "nbformat_minor": 0,
  "metadata": {
    "colab": {
      "name": "Prove Week 5 - Assignment.ipynb",
      "provenance": [],
      "collapsed_sections": [],
      "authorship_tag": "ABX9TyNma6aDbpMvE+Ky7oUteAbK",
      "include_colab_link": true
    },
    "kernelspec": {
      "name": "python3",
      "display_name": "Python 3"
    }
  },
  "cells": [
    {
      "cell_type": "markdown",
      "metadata": {
        "id": "view-in-github",
        "colab_type": "text"
      },
      "source": [
        "<a href=\"https://colab.research.google.com/github/dongchanlim/CS450/blob/master/Prove_Week_5_Assignment.ipynb\" target=\"_parent\"><img src=\"https://colab.research.google.com/assets/colab-badge.svg\" alt=\"Open In Colab\"/></a>"
      ]
    },
    {
      "cell_type": "code",
      "metadata": {
        "id": "f5bqW_IkcdU_",
        "colab_type": "code",
        "outputId": "6bee35fb-27a5-45cb-b887-fb082499a44e",
        "colab": {
          "resources": {
            "http://localhost:8080/nbextensions/google.colab/files.js": {
              "data": "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",
              "ok": true,
              "headers": [
                [
                  "content-type",
                  "application/javascript"
                ]
              ],
              "status": 200,
              "status_text": ""
            }
          },
          "base_uri": "https://localhost:8080/",
          "height": 75
        }
      },
      "source": [
        "import pandas as pd\n",
        "import numpy as np\n",
        "from google.colab import files\n",
        "\n",
        "file = files.upload()"
      ],
      "execution_count": 2,
      "outputs": [
        {
          "output_type": "display_data",
          "data": {
            "text/html": [
              "\n",
              "     <input type=\"file\" id=\"files-7a092ad8-f238-4e12-a16b-a25cb3cfeca2\" name=\"files[]\" multiple disabled />\n",
              "     <output id=\"result-7a092ad8-f238-4e12-a16b-a25cb3cfeca2\">\n",
              "      Upload widget is only available when the cell has been executed in the\n",
              "      current browser session. Please rerun this cell to enable.\n",
              "      </output>\n",
              "      <script src=\"/nbextensions/google.colab/files.js\"></script> "
            ],
            "text/plain": [
              "<IPython.core.display.HTML object>"
            ]
          },
          "metadata": {
            "tags": []
          }
        },
        {
          "output_type": "stream",
          "text": [
            "Saving xAPI-Edu-Data.csv to xAPI-Edu-Data.csv\n"
          ],
          "name": "stdout"
        }
      ]
    },
    {
      "cell_type": "code",
      "metadata": {
        "id": "_u1tD78Hcnoc",
        "colab_type": "code",
        "outputId": "5773403d-a607-4fd8-9629-8177b7817af9",
        "colab": {
          "base_uri": "https://localhost:8080/",
          "height": 217
        }
      },
      "source": [
        "edu = pd.read_csv(\"xAPI-Edu-Data.csv\")\n",
        "\n",
        "edu.head()"
      ],
      "execution_count": 163,
      "outputs": [
        {
          "output_type": "execute_result",
          "data": {
            "text/html": [
              "<div>\n",
              "<style scoped>\n",
              "    .dataframe tbody tr th:only-of-type {\n",
              "        vertical-align: middle;\n",
              "    }\n",
              "\n",
              "    .dataframe tbody tr th {\n",
              "        vertical-align: top;\n",
              "    }\n",
              "\n",
              "    .dataframe thead th {\n",
              "        text-align: right;\n",
              "    }\n",
              "</style>\n",
              "<table border=\"1\" class=\"dataframe\">\n",
              "  <thead>\n",
              "    <tr style=\"text-align: right;\">\n",
              "      <th></th>\n",
              "      <th>gender</th>\n",
              "      <th>NationalITy</th>\n",
              "      <th>PlaceofBirth</th>\n",
              "      <th>StageID</th>\n",
              "      <th>GradeID</th>\n",
              "      <th>SectionID</th>\n",
              "      <th>Topic</th>\n",
              "      <th>Semester</th>\n",
              "      <th>Relation</th>\n",
              "      <th>raisedhands</th>\n",
              "      <th>VisITedResources</th>\n",
              "      <th>AnnouncementsView</th>\n",
              "      <th>Discussion</th>\n",
              "      <th>ParentAnsweringSurvey</th>\n",
              "      <th>ParentschoolSatisfaction</th>\n",
              "      <th>StudentAbsenceDays</th>\n",
              "      <th>Class</th>\n",
              "    </tr>\n",
              "  </thead>\n",
              "  <tbody>\n",
              "    <tr>\n",
              "      <th>0</th>\n",
              "      <td>M</td>\n",
              "      <td>KW</td>\n",
              "      <td>KuwaIT</td>\n",
              "      <td>lowerlevel</td>\n",
              "      <td>G-04</td>\n",
              "      <td>A</td>\n",
              "      <td>IT</td>\n",
              "      <td>F</td>\n",
              "      <td>Father</td>\n",
              "      <td>15</td>\n",
              "      <td>16</td>\n",
              "      <td>2</td>\n",
              "      <td>20</td>\n",
              "      <td>Yes</td>\n",
              "      <td>Good</td>\n",
              "      <td>Under-7</td>\n",
              "      <td>M</td>\n",
              "    </tr>\n",
              "    <tr>\n",
              "      <th>1</th>\n",
              "      <td>M</td>\n",
              "      <td>KW</td>\n",
              "      <td>KuwaIT</td>\n",
              "      <td>lowerlevel</td>\n",
              "      <td>G-04</td>\n",
              "      <td>A</td>\n",
              "      <td>IT</td>\n",
              "      <td>F</td>\n",
              "      <td>Father</td>\n",
              "      <td>20</td>\n",
              "      <td>20</td>\n",
              "      <td>3</td>\n",
              "      <td>25</td>\n",
              "      <td>Yes</td>\n",
              "      <td>Good</td>\n",
              "      <td>Under-7</td>\n",
              "      <td>M</td>\n",
              "    </tr>\n",
              "    <tr>\n",
              "      <th>2</th>\n",
              "      <td>M</td>\n",
              "      <td>KW</td>\n",
              "      <td>KuwaIT</td>\n",
              "      <td>lowerlevel</td>\n",
              "      <td>G-04</td>\n",
              "      <td>A</td>\n",
              "      <td>IT</td>\n",
              "      <td>F</td>\n",
              "      <td>Father</td>\n",
              "      <td>10</td>\n",
              "      <td>7</td>\n",
              "      <td>0</td>\n",
              "      <td>30</td>\n",
              "      <td>No</td>\n",
              "      <td>Bad</td>\n",
              "      <td>Above-7</td>\n",
              "      <td>L</td>\n",
              "    </tr>\n",
              "    <tr>\n",
              "      <th>3</th>\n",
              "      <td>M</td>\n",
              "      <td>KW</td>\n",
              "      <td>KuwaIT</td>\n",
              "      <td>lowerlevel</td>\n",
              "      <td>G-04</td>\n",
              "      <td>A</td>\n",
              "      <td>IT</td>\n",
              "      <td>F</td>\n",
              "      <td>Father</td>\n",
              "      <td>30</td>\n",
              "      <td>25</td>\n",
              "      <td>5</td>\n",
              "      <td>35</td>\n",
              "      <td>No</td>\n",
              "      <td>Bad</td>\n",
              "      <td>Above-7</td>\n",
              "      <td>L</td>\n",
              "    </tr>\n",
              "    <tr>\n",
              "      <th>4</th>\n",
              "      <td>M</td>\n",
              "      <td>KW</td>\n",
              "      <td>KuwaIT</td>\n",
              "      <td>lowerlevel</td>\n",
              "      <td>G-04</td>\n",
              "      <td>A</td>\n",
              "      <td>IT</td>\n",
              "      <td>F</td>\n",
              "      <td>Father</td>\n",
              "      <td>40</td>\n",
              "      <td>50</td>\n",
              "      <td>12</td>\n",
              "      <td>50</td>\n",
              "      <td>No</td>\n",
              "      <td>Bad</td>\n",
              "      <td>Above-7</td>\n",
              "      <td>M</td>\n",
              "    </tr>\n",
              "  </tbody>\n",
              "</table>\n",
              "</div>"
            ],
            "text/plain": [
              "  gender NationalITy  ... StudentAbsenceDays Class\n",
              "0      M          KW  ...            Under-7     M\n",
              "1      M          KW  ...            Under-7     M\n",
              "2      M          KW  ...            Above-7     L\n",
              "3      M          KW  ...            Above-7     L\n",
              "4      M          KW  ...            Above-7     M\n",
              "\n",
              "[5 rows x 17 columns]"
            ]
          },
          "metadata": {
            "tags": []
          },
          "execution_count": 163
        }
      ]
    },
    {
      "cell_type": "markdown",
      "metadata": {
        "id": "zAh63XHadiDA",
        "colab_type": "text"
      },
      "source": [
        "1. Gender - student's gender (nominal: 'Male' or 'Female’)\n",
        "\n",
        "2. Nationality- student's nationality (nominal:’ Kuwait’,’ Lebanon’,’ Egypt’,’ SaudiArabia’,’ USA’,’ Jordan’,’Venezuela’,’ Iran’,’ Tunis’,’ Morocco’,’ Syria’,’ Palestine’,’ Iraq’,’ Lybia’)\n",
        "\n",
        "3. Place of birth- student's Place of birth (nominal:’ Kuwait’,’ Lebanon’,’ Egypt’,’ SaudiArabia’,’ USA’,’ Jordan’,’Venezuela’,’ Iran’,’ Tunis’,’ Morocco’,’ Syria’,’ Palestine’,’ Iraq’,’ Lybia’)\n",
        "\n",
        "4. Educational Stages- educational level student belongs (nominal: ‘lowerlevel’,’MiddleSchool’,’HighSchool’)\n",
        "\n",
        "5. Grade Levels- grade student belongs (nominal: ‘G-01’, ‘G-02’, ‘G-03’, ‘G-04’, ‘G-05’, ‘G-06’, ‘G-07’, ‘G-08’, ‘G-09’, ‘G-10’, ‘G-11’, ‘G-12 ‘)\n",
        "\n",
        "6. Section ID- classroom student belongs (nominal:’A’,’B’,’C’)\n",
        "7. Topic- course topic (nominal:’ English’,’ Spanish’, ‘French’,’ Arabic’,’ IT’,’ Math’,’ Chemistry’, ‘Biology’, ‘Science’,’ History’,’ Quran’,’ Geology’)\n",
        "\n",
        "8. Semester- school year semester (nominal:’ First’,’ Second’)\n",
        "\n",
        "9. Parent responsible for student (nominal:’mom’,’father’)\n",
        "\n",
        "10. Raised hand- how many times the student raises his/her hand on classroom (numeric:0-100)\n",
        "\n",
        "11. Visited resources- how many times the student visits a course content(numeric:0-100)\n",
        "\n",
        "12. Viewing announcements-how many times the student checks the new announcements(numeric:0-100)\n",
        "\n",
        "13. Discussion groups- how many times the student participate on discussion groups (numeric:0-100)\n",
        "\n",
        "14. Parent Answering Survey- parent answered the surveys which are provided from school or not\n",
        "(nominal:’Yes’,’No’)\n",
        "\n",
        "15. Parent School Satisfaction- the Degree of parent satisfaction from school(nominal:’Yes’,’No’)\n",
        "\n",
        "16. Student Absence Days-the number of absence days for each student (nominal: above-7, under-7)"
      ]
    },
    {
      "cell_type": "code",
      "metadata": {
        "id": "Nts9tOEic8Cb",
        "colab_type": "code",
        "outputId": "6c2e3f8d-e6a4-42fa-c242-722fe459261a",
        "colab": {
          "base_uri": "https://localhost:8080/",
          "height": 34
        }
      },
      "source": [
        "edu.shape"
      ],
      "execution_count": 112,
      "outputs": [
        {
          "output_type": "execute_result",
          "data": {
            "text/plain": [
              "(480, 17)"
            ]
          },
          "metadata": {
            "tags": []
          },
          "execution_count": 112
        }
      ]
    },
    {
      "cell_type": "code",
      "metadata": {
        "id": "CYD0BOHvc-kz",
        "colab_type": "code",
        "outputId": "66eac2b8-6529-47d2-d3b0-1a35387a5029",
        "colab": {
          "base_uri": "https://localhost:8080/",
          "height": 336
        }
      },
      "source": [
        "edu.dtypes"
      ],
      "execution_count": 98,
      "outputs": [
        {
          "output_type": "execute_result",
          "data": {
            "text/plain": [
              "gender                      object\n",
              "NationalITy                 object\n",
              "PlaceofBirth                object\n",
              "StageID                     object\n",
              "GradeID                     object\n",
              "SectionID                   object\n",
              "Topic                       object\n",
              "Semester                    object\n",
              "Relation                    object\n",
              "raisedhands                  int64\n",
              "VisITedResources             int64\n",
              "AnnouncementsView            int64\n",
              "Discussion                   int64\n",
              "ParentAnsweringSurvey       object\n",
              "ParentschoolSatisfaction    object\n",
              "StudentAbsenceDays          object\n",
              "Class                       object\n",
              "dtype: object"
            ]
          },
          "metadata": {
            "tags": []
          },
          "execution_count": 98
        }
      ]
    },
    {
      "cell_type": "code",
      "metadata": {
        "id": "LkEW2uaDdAbq",
        "colab_type": "code",
        "outputId": "b572e360-b65d-49ca-c39e-f96ec4b1248e",
        "colab": {
          "base_uri": "https://localhost:8080/",
          "height": 336
        }
      },
      "source": [
        "edu.isnull().sum(axis = 0)"
      ],
      "execution_count": 113,
      "outputs": [
        {
          "output_type": "execute_result",
          "data": {
            "text/plain": [
              "gender                      0\n",
              "NationalITy                 0\n",
              "PlaceofBirth                0\n",
              "StageID                     0\n",
              "GradeID                     0\n",
              "SectionID                   0\n",
              "Topic                       0\n",
              "Semester                    0\n",
              "Relation                    0\n",
              "raisedhands                 0\n",
              "VisITedResources            0\n",
              "AnnouncementsView           0\n",
              "Discussion                  0\n",
              "ParentAnsweringSurvey       0\n",
              "ParentschoolSatisfaction    0\n",
              "StudentAbsenceDays          0\n",
              "Class                       0\n",
              "dtype: int64"
            ]
          },
          "metadata": {
            "tags": []
          },
          "execution_count": 113
        }
      ]
    },
    {
      "cell_type": "code",
      "metadata": {
        "id": "hOFcFCJ3dFJy",
        "colab_type": "code",
        "colab": {
          "base_uri": "https://localhost:8080/",
          "height": 217
        },
        "outputId": "9929567c-92b1-4108-e1c8-99e77027ef39"
      },
      "source": [
        "# switch binary nominal features into numeric value (0,1) + Class\n",
        "from sklearn.preprocessing import LabelEncoder\n",
        "\n",
        "le = LabelEncoder()\n",
        "edu.iloc[:, np.r_[0,7,8,13,14,15,16]] = edu.iloc[:, np.r_[0,7,8,13,14,15,16]].apply(le.fit_transform) \n",
        "\n",
        "\n",
        "edu.head()"
      ],
      "execution_count": 164,
      "outputs": [
        {
          "output_type": "execute_result",
          "data": {
            "text/html": [
              "<div>\n",
              "<style scoped>\n",
              "    .dataframe tbody tr th:only-of-type {\n",
              "        vertical-align: middle;\n",
              "    }\n",
              "\n",
              "    .dataframe tbody tr th {\n",
              "        vertical-align: top;\n",
              "    }\n",
              "\n",
              "    .dataframe thead th {\n",
              "        text-align: right;\n",
              "    }\n",
              "</style>\n",
              "<table border=\"1\" class=\"dataframe\">\n",
              "  <thead>\n",
              "    <tr style=\"text-align: right;\">\n",
              "      <th></th>\n",
              "      <th>gender</th>\n",
              "      <th>NationalITy</th>\n",
              "      <th>PlaceofBirth</th>\n",
              "      <th>StageID</th>\n",
              "      <th>GradeID</th>\n",
              "      <th>SectionID</th>\n",
              "      <th>Topic</th>\n",
              "      <th>Semester</th>\n",
              "      <th>Relation</th>\n",
              "      <th>raisedhands</th>\n",
              "      <th>VisITedResources</th>\n",
              "      <th>AnnouncementsView</th>\n",
              "      <th>Discussion</th>\n",
              "      <th>ParentAnsweringSurvey</th>\n",
              "      <th>ParentschoolSatisfaction</th>\n",
              "      <th>StudentAbsenceDays</th>\n",
              "      <th>Class</th>\n",
              "    </tr>\n",
              "  </thead>\n",
              "  <tbody>\n",
              "    <tr>\n",
              "      <th>0</th>\n",
              "      <td>1</td>\n",
              "      <td>KW</td>\n",
              "      <td>KuwaIT</td>\n",
              "      <td>lowerlevel</td>\n",
              "      <td>G-04</td>\n",
              "      <td>A</td>\n",
              "      <td>IT</td>\n",
              "      <td>0</td>\n",
              "      <td>0</td>\n",
              "      <td>15</td>\n",
              "      <td>16</td>\n",
              "      <td>2</td>\n",
              "      <td>20</td>\n",
              "      <td>1</td>\n",
              "      <td>1</td>\n",
              "      <td>1</td>\n",
              "      <td>2</td>\n",
              "    </tr>\n",
              "    <tr>\n",
              "      <th>1</th>\n",
              "      <td>1</td>\n",
              "      <td>KW</td>\n",
              "      <td>KuwaIT</td>\n",
              "      <td>lowerlevel</td>\n",
              "      <td>G-04</td>\n",
              "      <td>A</td>\n",
              "      <td>IT</td>\n",
              "      <td>0</td>\n",
              "      <td>0</td>\n",
              "      <td>20</td>\n",
              "      <td>20</td>\n",
              "      <td>3</td>\n",
              "      <td>25</td>\n",
              "      <td>1</td>\n",
              "      <td>1</td>\n",
              "      <td>1</td>\n",
              "      <td>2</td>\n",
              "    </tr>\n",
              "    <tr>\n",
              "      <th>2</th>\n",
              "      <td>1</td>\n",
              "      <td>KW</td>\n",
              "      <td>KuwaIT</td>\n",
              "      <td>lowerlevel</td>\n",
              "      <td>G-04</td>\n",
              "      <td>A</td>\n",
              "      <td>IT</td>\n",
              "      <td>0</td>\n",
              "      <td>0</td>\n",
              "      <td>10</td>\n",
              "      <td>7</td>\n",
              "      <td>0</td>\n",
              "      <td>30</td>\n",
              "      <td>0</td>\n",
              "      <td>0</td>\n",
              "      <td>0</td>\n",
              "      <td>1</td>\n",
              "    </tr>\n",
              "    <tr>\n",
              "      <th>3</th>\n",
              "      <td>1</td>\n",
              "      <td>KW</td>\n",
              "      <td>KuwaIT</td>\n",
              "      <td>lowerlevel</td>\n",
              "      <td>G-04</td>\n",
              "      <td>A</td>\n",
              "      <td>IT</td>\n",
              "      <td>0</td>\n",
              "      <td>0</td>\n",
              "      <td>30</td>\n",
              "      <td>25</td>\n",
              "      <td>5</td>\n",
              "      <td>35</td>\n",
              "      <td>0</td>\n",
              "      <td>0</td>\n",
              "      <td>0</td>\n",
              "      <td>1</td>\n",
              "    </tr>\n",
              "    <tr>\n",
              "      <th>4</th>\n",
              "      <td>1</td>\n",
              "      <td>KW</td>\n",
              "      <td>KuwaIT</td>\n",
              "      <td>lowerlevel</td>\n",
              "      <td>G-04</td>\n",
              "      <td>A</td>\n",
              "      <td>IT</td>\n",
              "      <td>0</td>\n",
              "      <td>0</td>\n",
              "      <td>40</td>\n",
              "      <td>50</td>\n",
              "      <td>12</td>\n",
              "      <td>50</td>\n",
              "      <td>0</td>\n",
              "      <td>0</td>\n",
              "      <td>0</td>\n",
              "      <td>2</td>\n",
              "    </tr>\n",
              "  </tbody>\n",
              "</table>\n",
              "</div>"
            ],
            "text/plain": [
              "   gender NationalITy  ... StudentAbsenceDays Class\n",
              "0       1          KW  ...                  1     2\n",
              "1       1          KW  ...                  1     2\n",
              "2       1          KW  ...                  0     1\n",
              "3       1          KW  ...                  0     1\n",
              "4       1          KW  ...                  0     2\n",
              "\n",
              "[5 rows x 17 columns]"
            ]
          },
          "metadata": {
            "tags": []
          },
          "execution_count": 164
        }
      ]
    },
    {
      "cell_type": "code",
      "metadata": {
        "id": "JRUa0LfqTSFx",
        "colab_type": "code",
        "colab": {}
      },
      "source": [
        "from sklearn.model_selection import train_test_split\n",
        "from keras.utils import np_utils\n",
        "\n",
        "X = edu.drop(columns = 'Class', axis = 1)\n",
        "y = np_utils.to_categorical(edu.Class)\n",
        "\n",
        "# multiple discrete features - One hot encoding\n",
        "X = pd.get_dummies(X)\n",
        "\n",
        "\n",
        "train_X, test_X, train_y, test_y = train_test_split(X, y, test_size = 0.3, random_state = 0)"
      ],
      "execution_count": 0,
      "outputs": []
    },
    {
      "cell_type": "code",
      "metadata": {
        "id": "twu8l0-hcCRq",
        "colab_type": "code",
        "colab": {
          "base_uri": "https://localhost:8080/",
          "height": 34
        },
        "outputId": "a518b66a-c813-4180-9b57-44c3dd55dde3"
      },
      "source": [
        "train_X.shape"
      ],
      "execution_count": 174,
      "outputs": [
        {
          "output_type": "execute_result",
          "data": {
            "text/plain": [
              "(336, 66)"
            ]
          },
          "metadata": {
            "tags": []
          },
          "execution_count": 174
        }
      ]
    },
    {
      "cell_type": "code",
      "metadata": {
        "id": "hckjuYksSV8E",
        "colab_type": "code",
        "colab": {}
      },
      "source": [
        "# Normalization\n",
        "from sklearn.preprocessing import StandardScaler\n",
        "\n",
        "sc = StandardScaler()\n",
        "sc.fit(train_X)\n",
        "\n",
        "train_X = sc.transform(train_X)\n",
        "test_X = sc.transform(test_X)"
      ],
      "execution_count": 0,
      "outputs": []
    },
    {
      "cell_type": "code",
      "metadata": {
        "id": "8DXbz9xyUexQ",
        "colab_type": "code",
        "colab": {}
      },
      "source": [
        "import keras\n",
        "from keras.models import Sequential\n",
        "from keras.layers import Dense"
      ],
      "execution_count": 0,
      "outputs": []
    },
    {
      "cell_type": "code",
      "metadata": {
        "id": "1ApstYn-Uhjd",
        "colab_type": "code",
        "colab": {}
      },
      "source": [
        "classifier = Sequential()\n",
        "classifier.add(Dense(10, input_dim = 66, activation= \"sigmoid\"))\n",
        "classifier.add(Dense(10, activation= \"sigmoid\"))\n",
        "classifier.add(Dense(3, activation= \"softmax\"))\n",
        "\n",
        "classifier.compile(optimizer = \"adam\",  loss = \"categorical_crossentropy\", metrics = [\"accuracy\"])"
      ],
      "execution_count": 0,
      "outputs": []
    },
    {
      "cell_type": "code",
      "metadata": {
        "id": "lkn7HScIVLZw",
        "colab_type": "code",
        "colab": {
          "base_uri": "https://localhost:8080/",
          "height": 1000
        },
        "outputId": "3cd3ee8b-c489-4ae4-faae-68767f5bf8cb"
      },
      "source": [
        "# weight(W) start with random number\n",
        "classifier.fit(train_X, train_y, epochs= 100)"
      ],
      "execution_count": 180,
      "outputs": [
        {
          "output_type": "stream",
          "text": [
            "Epoch 1/100\n",
            "336/336 [==============================] - 0s 242us/step - loss: 1.1840 - accuracy: 0.3065\n",
            "Epoch 2/100\n",
            "336/336 [==============================] - 0s 50us/step - loss: 1.1483 - accuracy: 0.3065\n",
            "Epoch 3/100\n",
            "336/336 [==============================] - 0s 52us/step - loss: 1.1185 - accuracy: 0.3036\n",
            "Epoch 4/100\n",
            "336/336 [==============================] - 0s 48us/step - loss: 1.0948 - accuracy: 0.3036\n",
            "Epoch 5/100\n",
            "336/336 [==============================] - 0s 48us/step - loss: 1.0741 - accuracy: 0.3363\n",
            "Epoch 6/100\n",
            "336/336 [==============================] - 0s 45us/step - loss: 1.0580 - accuracy: 0.4464\n",
            "Epoch 7/100\n",
            "336/336 [==============================] - 0s 46us/step - loss: 1.0428 - accuracy: 0.4702\n",
            "Epoch 8/100\n",
            "336/336 [==============================] - 0s 48us/step - loss: 1.0313 - accuracy: 0.4881\n",
            "Epoch 9/100\n",
            "336/336 [==============================] - 0s 46us/step - loss: 1.0198 - accuracy: 0.4911\n",
            "Epoch 10/100\n",
            "336/336 [==============================] - 0s 49us/step - loss: 1.0095 - accuracy: 0.5000\n",
            "Epoch 11/100\n",
            "336/336 [==============================] - 0s 45us/step - loss: 0.9993 - accuracy: 0.5000\n",
            "Epoch 12/100\n",
            "336/336 [==============================] - 0s 45us/step - loss: 0.9889 - accuracy: 0.5000\n",
            "Epoch 13/100\n",
            "336/336 [==============================] - 0s 48us/step - loss: 0.9791 - accuracy: 0.5089\n",
            "Epoch 14/100\n",
            "336/336 [==============================] - 0s 47us/step - loss: 0.9686 - accuracy: 0.5149\n",
            "Epoch 15/100\n",
            "336/336 [==============================] - 0s 47us/step - loss: 0.9578 - accuracy: 0.5327\n",
            "Epoch 16/100\n",
            "336/336 [==============================] - 0s 46us/step - loss: 0.9473 - accuracy: 0.5476\n",
            "Epoch 17/100\n",
            "336/336 [==============================] - 0s 47us/step - loss: 0.9366 - accuracy: 0.5774\n",
            "Epoch 18/100\n",
            "336/336 [==============================] - 0s 47us/step - loss: 0.9253 - accuracy: 0.5893\n",
            "Epoch 19/100\n",
            "336/336 [==============================] - 0s 45us/step - loss: 0.9142 - accuracy: 0.6131\n",
            "Epoch 20/100\n",
            "336/336 [==============================] - 0s 44us/step - loss: 0.9032 - accuracy: 0.6369\n",
            "Epoch 21/100\n",
            "336/336 [==============================] - 0s 49us/step - loss: 0.8920 - accuracy: 0.6429\n",
            "Epoch 22/100\n",
            "336/336 [==============================] - 0s 47us/step - loss: 0.8809 - accuracy: 0.6607\n",
            "Epoch 23/100\n",
            "336/336 [==============================] - 0s 45us/step - loss: 0.8698 - accuracy: 0.6756\n",
            "Epoch 24/100\n",
            "336/336 [==============================] - 0s 47us/step - loss: 0.8588 - accuracy: 0.6815\n",
            "Epoch 25/100\n",
            "336/336 [==============================] - 0s 46us/step - loss: 0.8477 - accuracy: 0.6935\n",
            "Epoch 26/100\n",
            "336/336 [==============================] - 0s 54us/step - loss: 0.8366 - accuracy: 0.7083\n",
            "Epoch 27/100\n",
            "336/336 [==============================] - 0s 50us/step - loss: 0.8257 - accuracy: 0.7083\n",
            "Epoch 28/100\n",
            "336/336 [==============================] - 0s 49us/step - loss: 0.8153 - accuracy: 0.7202\n",
            "Epoch 29/100\n",
            "336/336 [==============================] - 0s 50us/step - loss: 0.8046 - accuracy: 0.7351\n",
            "Epoch 30/100\n",
            "336/336 [==============================] - 0s 50us/step - loss: 0.7946 - accuracy: 0.7411\n",
            "Epoch 31/100\n",
            "336/336 [==============================] - 0s 45us/step - loss: 0.7843 - accuracy: 0.7411\n",
            "Epoch 32/100\n",
            "336/336 [==============================] - 0s 49us/step - loss: 0.7746 - accuracy: 0.7500\n",
            "Epoch 33/100\n",
            "336/336 [==============================] - 0s 49us/step - loss: 0.7649 - accuracy: 0.7560\n",
            "Epoch 34/100\n",
            "336/336 [==============================] - 0s 49us/step - loss: 0.7555 - accuracy: 0.7589\n",
            "Epoch 35/100\n",
            "336/336 [==============================] - 0s 48us/step - loss: 0.7466 - accuracy: 0.7619\n",
            "Epoch 36/100\n",
            "336/336 [==============================] - 0s 46us/step - loss: 0.7374 - accuracy: 0.7589\n",
            "Epoch 37/100\n",
            "336/336 [==============================] - 0s 82us/step - loss: 0.7293 - accuracy: 0.7589\n",
            "Epoch 38/100\n",
            "336/336 [==============================] - 0s 53us/step - loss: 0.7208 - accuracy: 0.7560\n",
            "Epoch 39/100\n",
            "336/336 [==============================] - 0s 55us/step - loss: 0.7123 - accuracy: 0.7649\n",
            "Epoch 40/100\n",
            "336/336 [==============================] - 0s 54us/step - loss: 0.7043 - accuracy: 0.7679\n",
            "Epoch 41/100\n",
            "336/336 [==============================] - 0s 49us/step - loss: 0.6964 - accuracy: 0.7649\n",
            "Epoch 42/100\n",
            "336/336 [==============================] - 0s 55us/step - loss: 0.6889 - accuracy: 0.7679\n",
            "Epoch 43/100\n",
            "336/336 [==============================] - 0s 48us/step - loss: 0.6814 - accuracy: 0.7679\n",
            "Epoch 44/100\n",
            "336/336 [==============================] - 0s 48us/step - loss: 0.6741 - accuracy: 0.7738\n",
            "Epoch 45/100\n",
            "336/336 [==============================] - 0s 47us/step - loss: 0.6668 - accuracy: 0.7768\n",
            "Epoch 46/100\n",
            "336/336 [==============================] - 0s 46us/step - loss: 0.6600 - accuracy: 0.7798\n",
            "Epoch 47/100\n",
            "336/336 [==============================] - 0s 45us/step - loss: 0.6530 - accuracy: 0.7827\n",
            "Epoch 48/100\n",
            "336/336 [==============================] - 0s 46us/step - loss: 0.6464 - accuracy: 0.7827\n",
            "Epoch 49/100\n",
            "336/336 [==============================] - 0s 46us/step - loss: 0.6399 - accuracy: 0.7827\n",
            "Epoch 50/100\n",
            "336/336 [==============================] - 0s 50us/step - loss: 0.6330 - accuracy: 0.7857\n",
            "Epoch 51/100\n",
            "336/336 [==============================] - 0s 50us/step - loss: 0.6270 - accuracy: 0.7917\n",
            "Epoch 52/100\n",
            "336/336 [==============================] - 0s 50us/step - loss: 0.6208 - accuracy: 0.7946\n",
            "Epoch 53/100\n",
            "336/336 [==============================] - 0s 50us/step - loss: 0.6148 - accuracy: 0.8006\n",
            "Epoch 54/100\n",
            "336/336 [==============================] - 0s 51us/step - loss: 0.6084 - accuracy: 0.7976\n",
            "Epoch 55/100\n",
            "336/336 [==============================] - 0s 50us/step - loss: 0.6028 - accuracy: 0.8006\n",
            "Epoch 56/100\n",
            "336/336 [==============================] - 0s 47us/step - loss: 0.5970 - accuracy: 0.8006\n",
            "Epoch 57/100\n",
            "336/336 [==============================] - 0s 46us/step - loss: 0.5914 - accuracy: 0.8006\n",
            "Epoch 58/100\n",
            "336/336 [==============================] - 0s 49us/step - loss: 0.5860 - accuracy: 0.8036\n",
            "Epoch 59/100\n",
            "336/336 [==============================] - 0s 48us/step - loss: 0.5805 - accuracy: 0.7946\n",
            "Epoch 60/100\n",
            "336/336 [==============================] - 0s 50us/step - loss: 0.5751 - accuracy: 0.7946\n",
            "Epoch 61/100\n",
            "336/336 [==============================] - 0s 48us/step - loss: 0.5696 - accuracy: 0.8036\n",
            "Epoch 62/100\n",
            "336/336 [==============================] - 0s 85us/step - loss: 0.5649 - accuracy: 0.8125\n",
            "Epoch 63/100\n",
            "336/336 [==============================] - 0s 46us/step - loss: 0.5601 - accuracy: 0.8095\n",
            "Epoch 64/100\n",
            "336/336 [==============================] - 0s 54us/step - loss: 0.5549 - accuracy: 0.8125\n",
            "Epoch 65/100\n",
            "336/336 [==============================] - 0s 45us/step - loss: 0.5500 - accuracy: 0.8185\n",
            "Epoch 66/100\n",
            "336/336 [==============================] - 0s 47us/step - loss: 0.5453 - accuracy: 0.8214\n",
            "Epoch 67/100\n",
            "336/336 [==============================] - 0s 46us/step - loss: 0.5409 - accuracy: 0.8244\n",
            "Epoch 68/100\n",
            "336/336 [==============================] - 0s 45us/step - loss: 0.5364 - accuracy: 0.8333\n",
            "Epoch 69/100\n",
            "336/336 [==============================] - 0s 46us/step - loss: 0.5318 - accuracy: 0.8393\n",
            "Epoch 70/100\n",
            "336/336 [==============================] - 0s 46us/step - loss: 0.5274 - accuracy: 0.8423\n",
            "Epoch 71/100\n",
            "336/336 [==============================] - 0s 52us/step - loss: 0.5228 - accuracy: 0.8423\n",
            "Epoch 72/100\n",
            "336/336 [==============================] - 0s 48us/step - loss: 0.5189 - accuracy: 0.8452\n",
            "Epoch 73/100\n",
            "336/336 [==============================] - 0s 47us/step - loss: 0.5144 - accuracy: 0.8452\n",
            "Epoch 74/100\n",
            "336/336 [==============================] - 0s 45us/step - loss: 0.5105 - accuracy: 0.8482\n",
            "Epoch 75/100\n",
            "336/336 [==============================] - 0s 47us/step - loss: 0.5067 - accuracy: 0.8482\n",
            "Epoch 76/100\n",
            "336/336 [==============================] - 0s 47us/step - loss: 0.5032 - accuracy: 0.8482\n",
            "Epoch 77/100\n",
            "336/336 [==============================] - 0s 48us/step - loss: 0.4989 - accuracy: 0.8482\n",
            "Epoch 78/100\n",
            "336/336 [==============================] - 0s 47us/step - loss: 0.4954 - accuracy: 0.8482\n",
            "Epoch 79/100\n",
            "336/336 [==============================] - 0s 46us/step - loss: 0.4916 - accuracy: 0.8482\n",
            "Epoch 80/100\n",
            "336/336 [==============================] - 0s 47us/step - loss: 0.4880 - accuracy: 0.8542\n",
            "Epoch 81/100\n",
            "336/336 [==============================] - 0s 48us/step - loss: 0.4846 - accuracy: 0.8542\n",
            "Epoch 82/100\n",
            "336/336 [==============================] - 0s 47us/step - loss: 0.4813 - accuracy: 0.8571\n",
            "Epoch 83/100\n",
            "336/336 [==============================] - 0s 49us/step - loss: 0.4780 - accuracy: 0.8571\n",
            "Epoch 84/100\n",
            "336/336 [==============================] - 0s 45us/step - loss: 0.4742 - accuracy: 0.8571\n",
            "Epoch 85/100\n",
            "336/336 [==============================] - 0s 50us/step - loss: 0.4710 - accuracy: 0.8571\n",
            "Epoch 86/100\n",
            "336/336 [==============================] - 0s 46us/step - loss: 0.4678 - accuracy: 0.8601\n",
            "Epoch 87/100\n",
            "336/336 [==============================] - 0s 55us/step - loss: 0.4649 - accuracy: 0.8601\n",
            "Epoch 88/100\n",
            "336/336 [==============================] - 0s 47us/step - loss: 0.4615 - accuracy: 0.8601\n",
            "Epoch 89/100\n",
            "336/336 [==============================] - 0s 47us/step - loss: 0.4587 - accuracy: 0.8690\n",
            "Epoch 90/100\n",
            "336/336 [==============================] - 0s 49us/step - loss: 0.4554 - accuracy: 0.8690\n",
            "Epoch 91/100\n",
            "336/336 [==============================] - 0s 51us/step - loss: 0.4525 - accuracy: 0.8690\n",
            "Epoch 92/100\n",
            "336/336 [==============================] - 0s 46us/step - loss: 0.4497 - accuracy: 0.8690\n",
            "Epoch 93/100\n",
            "336/336 [==============================] - 0s 51us/step - loss: 0.4468 - accuracy: 0.8720\n",
            "Epoch 94/100\n",
            "336/336 [==============================] - 0s 73us/step - loss: 0.4440 - accuracy: 0.8720\n",
            "Epoch 95/100\n",
            "336/336 [==============================] - 0s 44us/step - loss: 0.4414 - accuracy: 0.8720\n",
            "Epoch 96/100\n",
            "336/336 [==============================] - 0s 50us/step - loss: 0.4390 - accuracy: 0.8690\n",
            "Epoch 97/100\n",
            "336/336 [==============================] - 0s 84us/step - loss: 0.4359 - accuracy: 0.8661\n",
            "Epoch 98/100\n",
            "336/336 [==============================] - 0s 53us/step - loss: 0.4333 - accuracy: 0.8690\n",
            "Epoch 99/100\n",
            "336/336 [==============================] - 0s 49us/step - loss: 0.4313 - accuracy: 0.8690\n",
            "Epoch 100/100\n",
            "336/336 [==============================] - 0s 49us/step - loss: 0.4284 - accuracy: 0.8661\n"
          ],
          "name": "stdout"
        },
        {
          "output_type": "execute_result",
          "data": {
            "text/plain": [
              "<keras.callbacks.callbacks.History at 0x7f06aec40358>"
            ]
          },
          "metadata": {
            "tags": []
          },
          "execution_count": 180
        }
      ]
    }
  ]
}