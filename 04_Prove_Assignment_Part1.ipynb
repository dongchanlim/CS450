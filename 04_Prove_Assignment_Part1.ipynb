{
  "nbformat": 4,
  "nbformat_minor": 0,
  "metadata": {
    "colab": {
      "name": "04 Prove : Assignment-Part1.ipynb",
      "provenance": [],
      "collapsed_sections": [],
      "authorship_tag": "ABX9TyMYQo/4eZI1EaEZyqqkVYXP",
      "include_colab_link": true
    },
    "kernelspec": {
      "name": "python3",
      "display_name": "Python 3"
    }
  },
  "cells": [
    {
      "cell_type": "markdown",
      "metadata": {
        "id": "view-in-github",
        "colab_type": "text"
      },
      "source": [
        "<a href=\"https://colab.research.google.com/github/dongchanlim/CS450/blob/master/04_Prove_Assignment_Part1.ipynb\" target=\"_parent\"><img src=\"https://colab.research.google.com/assets/colab-badge.svg\" alt=\"Open In Colab\"/></a>"
      ]
    },
    {
      "cell_type": "code",
      "metadata": {
        "id": "PB5tfcPUuNS6",
        "colab_type": "code",
        "outputId": "3f00207f-4442-4af0-947a-73a696f2fa5d",
        "colab": {
          "resources": {
            "http://localhost:8080/nbextensions/google.colab/files.js": {
              "data": "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",
              "ok": true,
              "headers": [
                [
                  "content-type",
                  "application/javascript"
                ]
              ],
              "status": 200,
              "status_text": ""
            }
          },
          "base_uri": "https://localhost:8080/",
          "height": 75
        }
      },
      "source": [
        "import pandas as pd\n",
        "import numpy as np\n",
        "from google.colab import files\n",
        "\n",
        "file = files.upload()"
      ],
      "execution_count": 1,
      "outputs": [
        {
          "output_type": "display_data",
          "data": {
            "text/html": [
              "\n",
              "     <input type=\"file\" id=\"files-7034fdd3-f85a-40b2-a791-f7ee7be8b548\" name=\"files[]\" multiple disabled />\n",
              "     <output id=\"result-7034fdd3-f85a-40b2-a791-f7ee7be8b548\">\n",
              "      Upload widget is only available when the cell has been executed in the\n",
              "      current browser session. Please rerun this cell to enable.\n",
              "      </output>\n",
              "      <script src=\"/nbextensions/google.colab/files.js\"></script> "
            ],
            "text/plain": [
              "<IPython.core.display.HTML object>"
            ]
          },
          "metadata": {
            "tags": []
          }
        },
        {
          "output_type": "stream",
          "text": [
            "Saving crx.data to crx.data\n"
          ],
          "name": "stdout"
        }
      ]
    },
    {
      "cell_type": "code",
      "metadata": {
        "id": "seWY3Wy_udvq",
        "colab_type": "code",
        "outputId": "0631a63a-0855-456b-9862-93dd38ced9c2",
        "colab": {
          "base_uri": "https://localhost:8080/",
          "height": 406
        }
      },
      "source": [
        "credit = pd.read_csv(\"crx.data\", header = None, na_values = [\"?\"], skipinitialspace= True)\n",
        "# set column name from A1 to A16\n",
        "credit.columns = [\"A\" + str(i) for i in range(1,17)]\n",
        "credit"
      ],
      "execution_count": 2,
      "outputs": [
        {
          "output_type": "execute_result",
          "data": {
            "text/html": [
              "<div>\n",
              "<style scoped>\n",
              "    .dataframe tbody tr th:only-of-type {\n",
              "        vertical-align: middle;\n",
              "    }\n",
              "\n",
              "    .dataframe tbody tr th {\n",
              "        vertical-align: top;\n",
              "    }\n",
              "\n",
              "    .dataframe thead th {\n",
              "        text-align: right;\n",
              "    }\n",
              "</style>\n",
              "<table border=\"1\" class=\"dataframe\">\n",
              "  <thead>\n",
              "    <tr style=\"text-align: right;\">\n",
              "      <th></th>\n",
              "      <th>A1</th>\n",
              "      <th>A2</th>\n",
              "      <th>A3</th>\n",
              "      <th>A4</th>\n",
              "      <th>A5</th>\n",
              "      <th>A6</th>\n",
              "      <th>A7</th>\n",
              "      <th>A8</th>\n",
              "      <th>A9</th>\n",
              "      <th>A10</th>\n",
              "      <th>A11</th>\n",
              "      <th>A12</th>\n",
              "      <th>A13</th>\n",
              "      <th>A14</th>\n",
              "      <th>A15</th>\n",
              "      <th>A16</th>\n",
              "    </tr>\n",
              "  </thead>\n",
              "  <tbody>\n",
              "    <tr>\n",
              "      <th>0</th>\n",
              "      <td>b</td>\n",
              "      <td>30.83</td>\n",
              "      <td>0.000</td>\n",
              "      <td>u</td>\n",
              "      <td>g</td>\n",
              "      <td>w</td>\n",
              "      <td>v</td>\n",
              "      <td>1.25</td>\n",
              "      <td>t</td>\n",
              "      <td>t</td>\n",
              "      <td>1</td>\n",
              "      <td>f</td>\n",
              "      <td>g</td>\n",
              "      <td>202.0</td>\n",
              "      <td>0</td>\n",
              "      <td>+</td>\n",
              "    </tr>\n",
              "    <tr>\n",
              "      <th>1</th>\n",
              "      <td>a</td>\n",
              "      <td>58.67</td>\n",
              "      <td>4.460</td>\n",
              "      <td>u</td>\n",
              "      <td>g</td>\n",
              "      <td>q</td>\n",
              "      <td>h</td>\n",
              "      <td>3.04</td>\n",
              "      <td>t</td>\n",
              "      <td>t</td>\n",
              "      <td>6</td>\n",
              "      <td>f</td>\n",
              "      <td>g</td>\n",
              "      <td>43.0</td>\n",
              "      <td>560</td>\n",
              "      <td>+</td>\n",
              "    </tr>\n",
              "    <tr>\n",
              "      <th>2</th>\n",
              "      <td>a</td>\n",
              "      <td>24.50</td>\n",
              "      <td>0.500</td>\n",
              "      <td>u</td>\n",
              "      <td>g</td>\n",
              "      <td>q</td>\n",
              "      <td>h</td>\n",
              "      <td>1.50</td>\n",
              "      <td>t</td>\n",
              "      <td>f</td>\n",
              "      <td>0</td>\n",
              "      <td>f</td>\n",
              "      <td>g</td>\n",
              "      <td>280.0</td>\n",
              "      <td>824</td>\n",
              "      <td>+</td>\n",
              "    </tr>\n",
              "    <tr>\n",
              "      <th>3</th>\n",
              "      <td>b</td>\n",
              "      <td>27.83</td>\n",
              "      <td>1.540</td>\n",
              "      <td>u</td>\n",
              "      <td>g</td>\n",
              "      <td>w</td>\n",
              "      <td>v</td>\n",
              "      <td>3.75</td>\n",
              "      <td>t</td>\n",
              "      <td>t</td>\n",
              "      <td>5</td>\n",
              "      <td>t</td>\n",
              "      <td>g</td>\n",
              "      <td>100.0</td>\n",
              "      <td>3</td>\n",
              "      <td>+</td>\n",
              "    </tr>\n",
              "    <tr>\n",
              "      <th>4</th>\n",
              "      <td>b</td>\n",
              "      <td>20.17</td>\n",
              "      <td>5.625</td>\n",
              "      <td>u</td>\n",
              "      <td>g</td>\n",
              "      <td>w</td>\n",
              "      <td>v</td>\n",
              "      <td>1.71</td>\n",
              "      <td>t</td>\n",
              "      <td>f</td>\n",
              "      <td>0</td>\n",
              "      <td>f</td>\n",
              "      <td>s</td>\n",
              "      <td>120.0</td>\n",
              "      <td>0</td>\n",
              "      <td>+</td>\n",
              "    </tr>\n",
              "    <tr>\n",
              "      <th>...</th>\n",
              "      <td>...</td>\n",
              "      <td>...</td>\n",
              "      <td>...</td>\n",
              "      <td>...</td>\n",
              "      <td>...</td>\n",
              "      <td>...</td>\n",
              "      <td>...</td>\n",
              "      <td>...</td>\n",
              "      <td>...</td>\n",
              "      <td>...</td>\n",
              "      <td>...</td>\n",
              "      <td>...</td>\n",
              "      <td>...</td>\n",
              "      <td>...</td>\n",
              "      <td>...</td>\n",
              "      <td>...</td>\n",
              "    </tr>\n",
              "    <tr>\n",
              "      <th>685</th>\n",
              "      <td>b</td>\n",
              "      <td>21.08</td>\n",
              "      <td>10.085</td>\n",
              "      <td>y</td>\n",
              "      <td>p</td>\n",
              "      <td>e</td>\n",
              "      <td>h</td>\n",
              "      <td>1.25</td>\n",
              "      <td>f</td>\n",
              "      <td>f</td>\n",
              "      <td>0</td>\n",
              "      <td>f</td>\n",
              "      <td>g</td>\n",
              "      <td>260.0</td>\n",
              "      <td>0</td>\n",
              "      <td>-</td>\n",
              "    </tr>\n",
              "    <tr>\n",
              "      <th>686</th>\n",
              "      <td>a</td>\n",
              "      <td>22.67</td>\n",
              "      <td>0.750</td>\n",
              "      <td>u</td>\n",
              "      <td>g</td>\n",
              "      <td>c</td>\n",
              "      <td>v</td>\n",
              "      <td>2.00</td>\n",
              "      <td>f</td>\n",
              "      <td>t</td>\n",
              "      <td>2</td>\n",
              "      <td>t</td>\n",
              "      <td>g</td>\n",
              "      <td>200.0</td>\n",
              "      <td>394</td>\n",
              "      <td>-</td>\n",
              "    </tr>\n",
              "    <tr>\n",
              "      <th>687</th>\n",
              "      <td>a</td>\n",
              "      <td>25.25</td>\n",
              "      <td>13.500</td>\n",
              "      <td>y</td>\n",
              "      <td>p</td>\n",
              "      <td>ff</td>\n",
              "      <td>ff</td>\n",
              "      <td>2.00</td>\n",
              "      <td>f</td>\n",
              "      <td>t</td>\n",
              "      <td>1</td>\n",
              "      <td>t</td>\n",
              "      <td>g</td>\n",
              "      <td>200.0</td>\n",
              "      <td>1</td>\n",
              "      <td>-</td>\n",
              "    </tr>\n",
              "    <tr>\n",
              "      <th>688</th>\n",
              "      <td>b</td>\n",
              "      <td>17.92</td>\n",
              "      <td>0.205</td>\n",
              "      <td>u</td>\n",
              "      <td>g</td>\n",
              "      <td>aa</td>\n",
              "      <td>v</td>\n",
              "      <td>0.04</td>\n",
              "      <td>f</td>\n",
              "      <td>f</td>\n",
              "      <td>0</td>\n",
              "      <td>f</td>\n",
              "      <td>g</td>\n",
              "      <td>280.0</td>\n",
              "      <td>750</td>\n",
              "      <td>-</td>\n",
              "    </tr>\n",
              "    <tr>\n",
              "      <th>689</th>\n",
              "      <td>b</td>\n",
              "      <td>35.00</td>\n",
              "      <td>3.375</td>\n",
              "      <td>u</td>\n",
              "      <td>g</td>\n",
              "      <td>c</td>\n",
              "      <td>h</td>\n",
              "      <td>8.29</td>\n",
              "      <td>f</td>\n",
              "      <td>f</td>\n",
              "      <td>0</td>\n",
              "      <td>t</td>\n",
              "      <td>g</td>\n",
              "      <td>0.0</td>\n",
              "      <td>0</td>\n",
              "      <td>-</td>\n",
              "    </tr>\n",
              "  </tbody>\n",
              "</table>\n",
              "<p>690 rows × 16 columns</p>\n",
              "</div>"
            ],
            "text/plain": [
              "    A1     A2      A3 A4 A5  A6  A7    A8 A9 A10  A11 A12 A13    A14  A15 A16\n",
              "0    b  30.83   0.000  u  g   w   v  1.25  t   t    1   f   g  202.0    0   +\n",
              "1    a  58.67   4.460  u  g   q   h  3.04  t   t    6   f   g   43.0  560   +\n",
              "2    a  24.50   0.500  u  g   q   h  1.50  t   f    0   f   g  280.0  824   +\n",
              "3    b  27.83   1.540  u  g   w   v  3.75  t   t    5   t   g  100.0    3   +\n",
              "4    b  20.17   5.625  u  g   w   v  1.71  t   f    0   f   s  120.0    0   +\n",
              "..  ..    ...     ... .. ..  ..  ..   ... ..  ..  ...  ..  ..    ...  ...  ..\n",
              "685  b  21.08  10.085  y  p   e   h  1.25  f   f    0   f   g  260.0    0   -\n",
              "686  a  22.67   0.750  u  g   c   v  2.00  f   t    2   t   g  200.0  394   -\n",
              "687  a  25.25  13.500  y  p  ff  ff  2.00  f   t    1   t   g  200.0    1   -\n",
              "688  b  17.92   0.205  u  g  aa   v  0.04  f   f    0   f   g  280.0  750   -\n",
              "689  b  35.00   3.375  u  g   c   h  8.29  f   f    0   t   g    0.0    0   -\n",
              "\n",
              "[690 rows x 16 columns]"
            ]
          },
          "metadata": {
            "tags": []
          },
          "execution_count": 2
        }
      ]
    },
    {
      "cell_type": "code",
      "metadata": {
        "id": "leyyLSx7wHXM",
        "colab_type": "code",
        "outputId": "3bffb0c0-ee27-41b4-e530-28b649b673a1",
        "colab": {
          "base_uri": "https://localhost:8080/",
          "height": 318
        }
      },
      "source": [
        "credit.dtypes"
      ],
      "execution_count": 3,
      "outputs": [
        {
          "output_type": "execute_result",
          "data": {
            "text/plain": [
              "A1      object\n",
              "A2     float64\n",
              "A3     float64\n",
              "A4      object\n",
              "A5      object\n",
              "A6      object\n",
              "A7      object\n",
              "A8     float64\n",
              "A9      object\n",
              "A10     object\n",
              "A11      int64\n",
              "A12     object\n",
              "A13     object\n",
              "A14    float64\n",
              "A15      int64\n",
              "A16     object\n",
              "dtype: object"
            ]
          },
          "metadata": {
            "tags": []
          },
          "execution_count": 3
        }
      ]
    },
    {
      "cell_type": "code",
      "metadata": {
        "id": "73uXWgG2umt-",
        "colab_type": "code",
        "outputId": "9e94358a-f64d-4cbb-fefd-eb258534de04",
        "colab": {
          "base_uri": "https://localhost:8080/",
          "height": 318
        }
      },
      "source": [
        "credit.isna().sum(axis = 0)"
      ],
      "execution_count": 4,
      "outputs": [
        {
          "output_type": "execute_result",
          "data": {
            "text/plain": [
              "A1     12\n",
              "A2     12\n",
              "A3      0\n",
              "A4      6\n",
              "A5      6\n",
              "A6      9\n",
              "A7      9\n",
              "A8      0\n",
              "A9      0\n",
              "A10     0\n",
              "A11     0\n",
              "A12     0\n",
              "A13     0\n",
              "A14    13\n",
              "A15     0\n",
              "A16     0\n",
              "dtype: int64"
            ]
          },
          "metadata": {
            "tags": []
          },
          "execution_count": 4
        }
      ]
    },
    {
      "cell_type": "code",
      "metadata": {
        "id": "uCRwzWkvwqJr",
        "colab_type": "code",
        "outputId": "f5def729-aeec-4b5e-9c41-36dadebca206",
        "colab": {
          "base_uri": "https://localhost:8080/",
          "height": 318
        }
      },
      "source": [
        "from sklearn.impute import SimpleImputer\n",
        "\n",
        "# Numeric Value: Mean imputation\n",
        "# Distere Value: Most Frequent imputation\n",
        "imp_numeric = SimpleImputer(missing_values=np.nan, strategy='mean')\n",
        "imp_discrete = SimpleImputer(missing_values= np.nan, strategy= 'most_frequent')\n",
        "\n",
        "credit[[\"A2\", \"A14\"]] = imp_numeric.fit_transform(credit[[\"A2\", \"A14\"]])\n",
        "credit[[\"A1\", \"A4\", \"A5\", \"A6\", \"A7\"]] = imp_discrete.fit_transform(credit[[\"A1\", \"A4\", \"A5\", \"A6\", \"A7\"]])\n",
        "\n",
        "credit.isna().sum(axis = 0)"
      ],
      "execution_count": 5,
      "outputs": [
        {
          "output_type": "execute_result",
          "data": {
            "text/plain": [
              "A1     0\n",
              "A2     0\n",
              "A3     0\n",
              "A4     0\n",
              "A5     0\n",
              "A6     0\n",
              "A7     0\n",
              "A8     0\n",
              "A9     0\n",
              "A10    0\n",
              "A11    0\n",
              "A12    0\n",
              "A13    0\n",
              "A14    0\n",
              "A15    0\n",
              "A16    0\n",
              "dtype: int64"
            ]
          },
          "metadata": {
            "tags": []
          },
          "execution_count": 5
        }
      ]
    },
    {
      "cell_type": "code",
      "metadata": {
        "id": "DPWy32ZCXFK-",
        "colab_type": "code",
        "colab": {}
      },
      "source": [
        "from sklearn.model_selection import train_test_split\n",
        "\n",
        "X = credit.drop(columns = \"A16\", axis = 1)\n",
        "y = credit[\"A16\"].map({\"+\":0, \"-\":1})\n",
        "\n",
        "# One-Hot-Encoding\n",
        "X = pd.get_dummies(X, columns = X.select_dtypes(\"object\").columns)\n",
        "\n",
        "X_train, X_test, y_train, y_test = train_test_split(X,y, test_size = 0.3, random_state = 0)"
      ],
      "execution_count": 0,
      "outputs": []
    },
    {
      "cell_type": "code",
      "metadata": {
        "id": "bEvJh9T0Yant",
        "colab_type": "code",
        "outputId": "f6f486aa-bc5e-4605-c318-7039ce2de194",
        "colab": {
          "base_uri": "https://localhost:8080/",
          "height": 34
        }
      },
      "source": [
        "from sklearn.model_selection import cross_val_score\n",
        "from sklearn.tree import DecisionTreeClassifier\n",
        "\n",
        "tree_classfier = DecisionTreeClassifier(criterion = \"entropy\", random_state = 0)\n",
        "score = cross_val_score(tree_classfier, X = X, y = y, cv = 5)\n",
        "\n",
        "score"
      ],
      "execution_count": 7,
      "outputs": [
        {
          "output_type": "execute_result",
          "data": {
            "text/plain": [
              "array([0.68115942, 0.83333333, 0.86956522, 0.76811594, 0.86231884])"
            ]
          },
          "metadata": {
            "tags": []
          },
          "execution_count": 7
        }
      ]
    },
    {
      "cell_type": "code",
      "metadata": {
        "id": "TLNXXOdVrScr",
        "colab_type": "code",
        "outputId": "9d8a3d71-bb7b-4450-ccf5-5f7bb9430d89",
        "colab": {
          "base_uri": "https://localhost:8080/",
          "height": 34
        }
      },
      "source": [
        "print(\"Accuracy: %0.2f (+/- %0.2f)\" % (score.mean(), score.std() * 2))"
      ],
      "execution_count": 8,
      "outputs": [
        {
          "output_type": "stream",
          "text": [
            "Accuracy: 0.80 (+/- 0.14)\n"
          ],
          "name": "stdout"
        }
      ]
    },
    {
      "cell_type": "code",
      "metadata": {
        "id": "o0uBSnYitRd0",
        "colab_type": "code",
        "outputId": "17d03f8a-ea1c-421b-cac6-e0d4c2925273",
        "colab": {
          "base_uri": "https://localhost:8080/",
          "height": 34
        }
      },
      "source": [
        "from sklearn.model_selection import cross_val_predict\n",
        "from sklearn.metrics import accuracy_score\n",
        "\n",
        "predicted_y_cv = cross_val_predict(tree_classfier, X, y, cv=5)\n",
        "\n",
        "accuracy_score(y, predicted_y_cv)"
      ],
      "execution_count": 9,
      "outputs": [
        {
          "output_type": "execute_result",
          "data": {
            "text/plain": [
              "0.8028985507246377"
            ]
          },
          "metadata": {
            "tags": []
          },
          "execution_count": 9
        }
      ]
    },
    {
      "cell_type": "code",
      "metadata": {
        "id": "g7KyI2coE7Ft",
        "colab_type": "code",
        "outputId": "53059267-40c2-4a0c-f2e2-250918743026",
        "colab": {
          "base_uri": "https://localhost:8080/",
          "height": 34
        }
      },
      "source": [
        "tree_classfier.fit(X_train, y_train)\n",
        "predicted_y = tree_classfier.predict(X_test)\n",
        "\n",
        "accuracy_score(y_test, predicted_y)\n"
      ],
      "execution_count": 12,
      "outputs": [
        {
          "output_type": "execute_result",
          "data": {
            "text/plain": [
              "0.7777777777777778"
            ]
          },
          "metadata": {
            "tags": []
          },
          "execution_count": 12
        }
      ]
    },
    {
      "cell_type": "code",
      "metadata": {
        "id": "bSTQ0ej5A1fj",
        "colab_type": "code",
        "colab": {
          "base_uri": "https://localhost:8080/",
          "height": 1000
        },
        "outputId": "d91a2e3a-84a4-4509-869c-6ab038f68efb"
      },
      "source": [
        "from sklearn import tree\n",
        "\n",
        "tree.plot_tree(tree_classfier)"
      ],
      "execution_count": 14,
      "outputs": [
        {
          "output_type": "execute_result",
          "data": {
            "text/plain": [
              "[Text(151.37234042553192, 209.6742857142857, 'X[38] <= 0.5\\nentropy = 0.993\\nsamples = 483\\nvalue = [217, 266]'),\n",
              " Text(72.12446808510639, 194.14285714285714, 'X[1] <= 0.395\\nentropy = 0.368\\nsamples = 227\\nvalue = [16, 211]'),\n",
              " Text(42.740425531914894, 178.61142857142858, 'X[44] <= 0.5\\nentropy = 0.896\\nsamples = 32\\nvalue = [10, 22]'),\n",
              " Text(35.61702127659574, 163.07999999999998, 'X[4] <= 480.0\\nentropy = 0.75\\nsamples = 28\\nvalue = [6, 22]'),\n",
              " Text(28.493617021276595, 147.54857142857142, 'X[16] <= 0.5\\nentropy = 0.619\\nsamples = 26\\nvalue = [4, 22]'),\n",
              " Text(14.246808510638298, 132.01714285714286, 'X[0] <= 16.21\\nentropy = 0.426\\nsamples = 23\\nvalue = [2, 21]'),\n",
              " Text(7.123404255319149, 116.48571428571428, 'entropy = 0.0\\nsamples = 1\\nvalue = [1, 0]'),\n",
              " Text(21.370212765957447, 116.48571428571428, 'X[33] <= 0.5\\nentropy = 0.267\\nsamples = 22\\nvalue = [1, 21]'),\n",
              " Text(14.246808510638298, 100.9542857142857, 'entropy = 0.0\\nsamples = 21\\nvalue = [0, 21]'),\n",
              " Text(28.493617021276595, 100.9542857142857, 'entropy = 0.0\\nsamples = 1\\nvalue = [1, 0]'),\n",
              " Text(42.740425531914894, 132.01714285714286, 'X[13] <= 0.5\\nentropy = 0.918\\nsamples = 3\\nvalue = [2, 1]'),\n",
              " Text(35.61702127659574, 116.48571428571428, 'entropy = 0.0\\nsamples = 2\\nvalue = [2, 0]'),\n",
              " Text(49.86382978723404, 116.48571428571428, 'entropy = 0.0\\nsamples = 1\\nvalue = [0, 1]'),\n",
              " Text(42.740425531914894, 147.54857142857142, 'entropy = 0.0\\nsamples = 2\\nvalue = [2, 0]'),\n",
              " Text(49.86382978723404, 163.07999999999998, 'entropy = 0.0\\nsamples = 4\\nvalue = [4, 0]'),\n",
              " Text(101.50851063829786, 178.61142857142858, 'X[27] <= 0.5\\nentropy = 0.198\\nsamples = 195\\nvalue = [6, 189]'),\n",
              " Text(81.91914893617022, 163.07999999999998, 'X[0] <= 34.085\\nentropy = 0.147\\nsamples = 190\\nvalue = [4, 186]'),\n",
              " Text(64.11063829787234, 147.54857142857142, 'X[26] <= 0.5\\nentropy = 0.06\\nsamples = 143\\nvalue = [1, 142]'),\n",
              " Text(56.98723404255319, 132.01714285714286, 'entropy = 0.0\\nsamples = 127\\nvalue = [0, 127]'),\n",
              " Text(71.23404255319149, 132.01714285714286, 'X[0] <= 21.625\\nentropy = 0.337\\nsamples = 16\\nvalue = [1, 15]'),\n",
              " Text(64.11063829787234, 116.48571428571428, 'X[5] <= 6.5\\nentropy = 0.918\\nsamples = 3\\nvalue = [1, 2]'),\n",
              " Text(56.98723404255319, 100.9542857142857, 'entropy = 0.0\\nsamples = 2\\nvalue = [0, 2]'),\n",
              " Text(71.23404255319149, 100.9542857142857, 'entropy = 0.0\\nsamples = 1\\nvalue = [1, 0]'),\n",
              " Text(78.35744680851063, 116.48571428571428, 'entropy = 0.0\\nsamples = 13\\nvalue = [0, 13]'),\n",
              " Text(99.72765957446808, 147.54857142857142, 'X[35] <= 0.5\\nentropy = 0.342\\nsamples = 47\\nvalue = [3, 44]'),\n",
              " Text(92.60425531914893, 132.01714285714286, 'entropy = 0.0\\nsamples = 21\\nvalue = [0, 21]'),\n",
              " Text(106.85106382978724, 132.01714285714286, 'X[2] <= 0.105\\nentropy = 0.516\\nsamples = 26\\nvalue = [3, 23]'),\n",
              " Text(92.60425531914893, 116.48571428571428, 'X[1] <= 4.668\\nentropy = 0.918\\nsamples = 3\\nvalue = [2, 1]'),\n",
              " Text(85.48085106382979, 100.9542857142857, 'entropy = 0.0\\nsamples = 1\\nvalue = [0, 1]'),\n",
              " Text(99.72765957446808, 100.9542857142857, 'entropy = 0.0\\nsamples = 2\\nvalue = [2, 0]'),\n",
              " Text(121.09787234042552, 116.48571428571428, 'X[4] <= 415.5\\nentropy = 0.258\\nsamples = 23\\nvalue = [1, 22]'),\n",
              " Text(113.97446808510638, 100.9542857142857, 'entropy = 0.0\\nsamples = 20\\nvalue = [0, 20]'),\n",
              " Text(128.22127659574468, 100.9542857142857, 'X[13] <= 0.5\\nentropy = 0.918\\nsamples = 3\\nvalue = [1, 2]'),\n",
              " Text(121.09787234042552, 85.42285714285714, 'entropy = 0.0\\nsamples = 2\\nvalue = [0, 2]'),\n",
              " Text(135.34468085106383, 85.42285714285714, 'entropy = 0.0\\nsamples = 1\\nvalue = [1, 0]'),\n",
              " Text(121.09787234042552, 163.07999999999998, 'X[1] <= 4.332\\nentropy = 0.971\\nsamples = 5\\nvalue = [2, 3]'),\n",
              " Text(113.97446808510638, 147.54857142857142, 'entropy = 0.0\\nsamples = 3\\nvalue = [0, 3]'),\n",
              " Text(128.22127659574468, 147.54857142857142, 'entropy = 0.0\\nsamples = 2\\nvalue = [2, 0]'),\n",
              " Text(230.62021276595743, 194.14285714285714, 'X[5] <= 520.0\\nentropy = 0.751\\nsamples = 256\\nvalue = [201, 55]'),\n",
              " Text(223.4968085106383, 178.61142857142858, 'X[4] <= 93.5\\nentropy = 0.906\\nsamples = 171\\nvalue = [116, 55]'),\n",
              " Text(178.08510638297872, 163.07999999999998, 'X[2] <= 1.543\\nentropy = 0.434\\nsamples = 56\\nvalue = [51, 5]'),\n",
              " Text(170.96170212765958, 147.54857142857142, 'X[0] <= 26.96\\nentropy = 0.852\\nsamples = 18\\nvalue = [13, 5]'),\n",
              " Text(156.71489361702126, 132.01714285714286, 'X[0] <= 18.795\\nentropy = 0.414\\nsamples = 12\\nvalue = [11, 1]'),\n",
              " Text(149.59148936170212, 116.48571428571428, 'X[2] <= 0.438\\nentropy = 1.0\\nsamples = 2\\nvalue = [1, 1]'),\n",
              " Text(142.46808510638297, 100.9542857142857, 'entropy = 0.0\\nsamples = 1\\nvalue = [0, 1]'),\n",
              " Text(156.71489361702126, 100.9542857142857, 'entropy = 0.0\\nsamples = 1\\nvalue = [1, 0]'),\n",
              " Text(163.83829787234043, 116.48571428571428, 'entropy = 0.0\\nsamples = 10\\nvalue = [10, 0]'),\n",
              " Text(185.20851063829787, 132.01714285714286, 'X[0] <= 52.625\\nentropy = 0.918\\nsamples = 6\\nvalue = [2, 4]'),\n",
              " Text(178.08510638297872, 116.48571428571428, 'entropy = 0.0\\nsamples = 4\\nvalue = [0, 4]'),\n",
              " Text(192.331914893617, 116.48571428571428, 'entropy = 0.0\\nsamples = 2\\nvalue = [2, 0]'),\n",
              " Text(185.20851063829787, 147.54857142857142, 'entropy = 0.0\\nsamples = 38\\nvalue = [38, 0]'),\n",
              " Text(268.90851063829786, 163.07999999999998, 'X[3] <= 0.5\\nentropy = 0.988\\nsamples = 115\\nvalue = [65, 50]'),\n",
              " Text(227.94893617021276, 147.54857142857142, 'X[1] <= 2.375\\nentropy = 0.971\\nsamples = 60\\nvalue = [24, 36]'),\n",
              " Text(213.70212765957447, 132.01714285714286, 'X[4] <= 230.0\\nentropy = 0.797\\nsamples = 29\\nvalue = [7, 22]'),\n",
              " Text(206.57872340425533, 116.48571428571428, 'entropy = 0.0\\nsamples = 12\\nvalue = [0, 12]'),\n",
              " Text(220.82553191489362, 116.48571428571428, 'X[45] <= 0.5\\nentropy = 0.977\\nsamples = 17\\nvalue = [7, 10]'),\n",
              " Text(213.70212765957447, 100.9542857142857, 'X[6] <= 0.5\\nentropy = 0.881\\nsamples = 10\\nvalue = [7, 3]'),\n",
              " Text(206.57872340425533, 85.42285714285714, 'entropy = 0.0\\nsamples = 7\\nvalue = [7, 0]'),\n",
              " Text(220.82553191489362, 85.42285714285714, 'entropy = 0.0\\nsamples = 3\\nvalue = [0, 3]'),\n",
              " Text(227.94893617021276, 100.9542857142857, 'entropy = 0.0\\nsamples = 7\\nvalue = [0, 7]'),\n",
              " Text(242.19574468085105, 132.01714285714286, 'X[1] <= 3.082\\nentropy = 0.993\\nsamples = 31\\nvalue = [17, 14]'),\n",
              " Text(235.0723404255319, 116.48571428571428, 'entropy = 0.0\\nsamples = 3\\nvalue = [3, 0]'),\n",
              " Text(249.3191489361702, 116.48571428571428, 'X[20] <= 0.5\\nentropy = 1.0\\nsamples = 28\\nvalue = [14, 14]'),\n",
              " Text(242.19574468085105, 100.9542857142857, 'X[4] <= 583.5\\nentropy = 0.996\\nsamples = 26\\nvalue = [14, 12]'),\n",
              " Text(235.0723404255319, 85.42285714285714, 'X[2] <= 4.875\\nentropy = 0.98\\nsamples = 24\\nvalue = [14, 10]'),\n",
              " Text(227.94893617021276, 69.89142857142858, 'X[1] <= 10.75\\nentropy = 1.0\\nsamples = 20\\nvalue = [10, 10]'),\n",
              " Text(220.82553191489362, 54.359999999999985, 'X[42] <= 0.5\\nentropy = 0.954\\nsamples = 16\\nvalue = [10, 6]'),\n",
              " Text(206.57872340425533, 38.82857142857142, 'X[5] <= 262.5\\nentropy = 0.592\\nsamples = 7\\nvalue = [6, 1]'),\n",
              " Text(199.45531914893616, 23.29714285714286, 'entropy = 0.0\\nsamples = 6\\nvalue = [6, 0]'),\n",
              " Text(213.70212765957447, 23.29714285714286, 'entropy = 0.0\\nsamples = 1\\nvalue = [0, 1]'),\n",
              " Text(235.0723404255319, 38.82857142857142, 'X[2] <= 0.542\\nentropy = 0.991\\nsamples = 9\\nvalue = [4, 5]'),\n",
              " Text(227.94893617021276, 23.29714285714286, 'entropy = 0.0\\nsamples = 3\\nvalue = [3, 0]'),\n",
              " Text(242.19574468085105, 23.29714285714286, 'X[23] <= 0.5\\nentropy = 0.65\\nsamples = 6\\nvalue = [1, 5]'),\n",
              " Text(235.0723404255319, 7.765714285714267, 'entropy = 0.0\\nsamples = 5\\nvalue = [0, 5]'),\n",
              " Text(249.3191489361702, 7.765714285714267, 'entropy = 0.0\\nsamples = 1\\nvalue = [1, 0]'),\n",
              " Text(235.0723404255319, 54.359999999999985, 'entropy = 0.0\\nsamples = 4\\nvalue = [0, 4]'),\n",
              " Text(242.19574468085105, 69.89142857142858, 'entropy = 0.0\\nsamples = 4\\nvalue = [4, 0]'),\n",
              " Text(249.3191489361702, 85.42285714285714, 'entropy = 0.0\\nsamples = 2\\nvalue = [0, 2]'),\n",
              " Text(256.44255319148937, 100.9542857142857, 'entropy = 0.0\\nsamples = 2\\nvalue = [0, 2]'),\n",
              " Text(309.868085106383, 147.54857142857142, 'X[30] <= 0.5\\nentropy = 0.818\\nsamples = 55\\nvalue = [41, 14]'),\n",
              " Text(302.74468085106383, 132.01714285714286, 'X[0] <= 52.455\\nentropy = 0.772\\nsamples = 53\\nvalue = [41, 12]'),\n",
              " Text(284.93617021276594, 116.48571428571428, 'X[1] <= 1.332\\nentropy = 0.688\\nsamples = 49\\nvalue = [40, 9]'),\n",
              " Text(270.68936170212766, 100.9542857142857, 'X[4] <= 234.0\\nentropy = 0.954\\nsamples = 16\\nvalue = [10, 6]'),\n",
              " Text(263.5659574468085, 85.42285714285714, 'X[1] <= 0.667\\nentropy = 0.811\\nsamples = 8\\nvalue = [2, 6]'),\n",
              " Text(256.44255319148937, 69.89142857142858, 'X[3] <= 4.0\\nentropy = 0.918\\nsamples = 3\\nvalue = [2, 1]'),\n",
              " Text(249.3191489361702, 54.359999999999985, 'entropy = 0.0\\nsamples = 2\\nvalue = [2, 0]'),\n",
              " Text(263.5659574468085, 54.359999999999985, 'entropy = 0.0\\nsamples = 1\\nvalue = [0, 1]'),\n",
              " Text(270.68936170212766, 69.89142857142858, 'entropy = 0.0\\nsamples = 5\\nvalue = [0, 5]'),\n",
              " Text(277.8127659574468, 85.42285714285714, 'entropy = 0.0\\nsamples = 8\\nvalue = [8, 0]'),\n",
              " Text(299.18297872340423, 100.9542857142857, 'X[4] <= 295.0\\nentropy = 0.439\\nsamples = 33\\nvalue = [30, 3]'),\n",
              " Text(292.0595744680851, 85.42285714285714, 'entropy = 0.0\\nsamples = 23\\nvalue = [23, 0]'),\n",
              " Text(306.3063829787234, 85.42285714285714, 'X[5] <= 129.0\\nentropy = 0.881\\nsamples = 10\\nvalue = [7, 3]'),\n",
              " Text(299.18297872340423, 69.89142857142858, 'X[1] <= 6.062\\nentropy = 1.0\\nsamples = 6\\nvalue = [3, 3]'),\n",
              " Text(292.0595744680851, 54.359999999999985, 'X[2] <= 4.125\\nentropy = 0.811\\nsamples = 4\\nvalue = [3, 1]'),\n",
              " Text(284.93617021276594, 38.82857142857142, 'entropy = 0.0\\nsamples = 1\\nvalue = [0, 1]'),\n",
              " Text(299.18297872340423, 38.82857142857142, 'entropy = 0.0\\nsamples = 3\\nvalue = [3, 0]'),\n",
              " Text(306.3063829787234, 54.359999999999985, 'entropy = 0.0\\nsamples = 2\\nvalue = [0, 2]'),\n",
              " Text(313.4297872340425, 69.89142857142858, 'entropy = 0.0\\nsamples = 4\\nvalue = [4, 0]'),\n",
              " Text(320.5531914893617, 116.48571428571428, 'X[4] <= 190.0\\nentropy = 0.811\\nsamples = 4\\nvalue = [1, 3]'),\n",
              " Text(313.4297872340425, 100.9542857142857, 'entropy = 0.0\\nsamples = 3\\nvalue = [0, 3]'),\n",
              " Text(327.67659574468087, 100.9542857142857, 'entropy = 0.0\\nsamples = 1\\nvalue = [1, 0]'),\n",
              " Text(316.9914893617021, 132.01714285714286, 'entropy = 0.0\\nsamples = 2\\nvalue = [0, 2]'),\n",
              " Text(237.74361702127658, 178.61142857142858, 'entropy = 0.0\\nsamples = 85\\nvalue = [85, 0]')]"
            ]
          },
          "metadata": {
            "tags": []
          },
          "execution_count": 14
        },
        {
          "output_type": "display_data",
          "data": {
            "image/png": "[encoded data removed]",
            "text/plain": [
              "<Figure size 432x288 with 1 Axes>"
            ]
          },
          "metadata": {
            "tags": [],
            "needs_background": "light"
          }
        }
      ]
    }
  ]
}